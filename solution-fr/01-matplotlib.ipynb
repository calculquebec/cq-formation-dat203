{
 "cells": [
  {
   "cell_type": "markdown",
   "id": "0ab68d86-06b9-4033-a975-7dec25135493",
   "metadata": {
    "lang": "fr"
   },
   "source": [
    "# Visualisation de données en Python\n",
    "## Visualisation avec Pandas et Matplotlib\n",
    "\n",
    "Questions\n",
    "* Quels sont les différents types de données dans Pandas?\n",
    "* Quel est l'impact des types sur les statistiques descriptives?\n",
    "* Comment visualiser les données d'un DataFrame Pandas?\n",
    "* Comment personnaliser un graphique?\n",
    "\n",
    "Objectifs\n",
    "* Manipuler les types de données.\n",
    "* Créer des graphiques simples à partir d'un DataFrame.\n",
    "* Personnaliser un graphique avec les méthodes d'objets Matplotlib."
   ]
  },
  {
   "cell_type": "code",
   "execution_count": null,
   "id": "5529db78-743e-4f18-a629-7329afe64dff",
   "metadata": {
    "lang": "fr"
   },
   "outputs": [],
   "source": [
    "# Charger le module pandas\n",
    "import pandas as pd\n",
    "\n",
    "# Charger les données\n",
    "surveys_df = pd.read_csv('../data/surveys.csv')"
   ]
  },
  {
   "cell_type": "markdown",
   "id": "89e1e9ae-a510-4a16-a157-cf89e9d733ab",
   "metadata": {
    "lang": "fr"
   },
   "source": [
    "## Types de données\n",
    "Puisque le type des données peut avoir un impact sur\n",
    "l'apparence d'un graphique, il est nécessaire de valider\n",
    "au préalable le type de données de chaque colonne de\n",
    "DataFrame que nous allons utiliser dans notre analyse."
   ]
  },
  {
   "cell_type": "markdown",
   "id": "9ae54ea2-7a62-4900-84a0-8f36501c5919",
   "metadata": {
    "lang": "fr"
   },
   "source": [
    "Types Python | Types Pandas | Description\n",
    ":-----------:|:------------:|:-----------\n",
    "`str`        | `object`     | Type générique, aussi utilisé en cas de multiples types\n",
    "`int`        | `int64`      | Nombres entiers représentés avec 64 bits\n",
    "`float`      | `float64`    | Nombres réels représentés avec 64 bits, ou non-définis (NaN)\n",
    " N/A         | `datetime64` | Dates et heures, avec une précision allant jusqu'à la nanoseconde"
   ]
  },
  {
   "cell_type": "code",
   "execution_count": null,
   "id": "21f661cb-c6d3-4bdf-b537-bf1947b9b235",
   "metadata": {
    "lang": "fr"
   },
   "outputs": [],
   "source": [
    "# Le type de données pour les identifiants d'espèces\n",
    "surveys_df['species_id'].dtype"
   ]
  },
  {
   "cell_type": "code",
   "execution_count": null,
   "id": "814de494-0b32-4952-a734-4092b16eeaea",
   "metadata": {
    "lang": "fr"
   },
   "outputs": [],
   "source": [
    "# Le type de données pour la colonne des mois\n",
    "surveys_df['month'].dtype"
   ]
  },
  {
   "cell_type": "code",
   "execution_count": null,
   "id": "9c4f3af2-29d7-41f5-85a6-baa4b4470675",
   "metadata": {
    "lang": "fr"
   },
   "outputs": [],
   "source": [
    "# Obtenir le type de données pour chaque colonne\n",
    "surveys_df.dtypes"
   ]
  },
  {
   "cell_type": "markdown",
   "id": "ae312581-e500-4820-83d8-e511cd03212e",
   "metadata": {
    "lang": "fr"
   },
   "source": [
    "### Impacts sur les statistiques descriptives"
   ]
  },
  {
   "cell_type": "code",
   "execution_count": null,
   "id": "41d5c188-1312-4142-b4c2-0aa5e8e15941",
   "metadata": {
    "lang": "fr"
   },
   "outputs": [],
   "source": [
    "# Statistiques descriptives sur les valeurs numériques\n",
    "surveys_df.describe()"
   ]
  },
  {
   "cell_type": "code",
   "execution_count": null,
   "id": "e837d155-2de6-48b0-a93f-49bbc446c3cc",
   "metadata": {
    "lang": "fr"
   },
   "outputs": [],
   "source": [
    "# Convertir les numéros de mois en valeurs nominales\n",
    "surveys_df['month'] = surveys_df['month'].astype('str')\n",
    "surveys_df['month'].dtype"
   ]
  },
  {
   "cell_type": "code",
   "execution_count": null,
   "id": "3f1de17c-80c0-46d5-b348-dd00c3b4a7a2",
   "metadata": {
    "lang": "fr"
   },
   "outputs": [],
   "source": [
    "# Statistiques descriptives sur une variable qualitative\n",
    "surveys_df['month'].describe()"
   ]
  },
  {
   "cell_type": "code",
   "execution_count": null,
   "id": "f79dd10a-c883-4545-bf52-70bbfbcc4b8c",
   "metadata": {
    "lang": "fr"
   },
   "outputs": [],
   "source": [
    "# Lister les différents mois\n",
    "surveys_df['month'].unique()"
   ]
  },
  {
   "cell_type": "code",
   "execution_count": null,
   "id": "88ac3477-fe7b-46a0-8ab2-a662134b0d4c",
   "metadata": {
    "lang": "fr"
   },
   "outputs": [],
   "source": [
    "# Lister les différentes années\n",
    "surveys_df['year'].unique()"
   ]
  },
  {
   "cell_type": "markdown",
   "id": "6c70928f-f7c4-4734-a56f-a40acca3b1f3",
   "metadata": {
    "lang": "fr"
   },
   "source": [
    "## Créer des graphiques à partir de Pandas\n",
    "Par défaut :\n",
    "* La méthode `.plot()` retourne un\n",
    "  [objet Axes](https://matplotlib.org/stable/api/_as_gen/matplotlib.axes.Axes.html)\n",
    "  de [Matplotlib](https://matplotlib.org/stable/gallery/index.html).\n",
    "* Les valeurs de l'index du DataFrame seront en axe des X."
   ]
  },
  {
   "cell_type": "code",
   "execution_count": null,
   "id": "e40cbefa-2b39-4f54-af12-8a662cbd45d8",
   "metadata": {
    "lang": "en,fr",
    "tags": [
     "soln"
    ]
   },
   "outputs": [],
   "source": [
    "surveys_df['month'] = surveys_df['month'].astype('int64')\n",
    "med = surveys_df.groupby('month')['weight'].median()\n",
    "print(med.index)\n",
    "\n",
    "med.plot(kind='line')"
   ]
  },
  {
   "cell_type": "code",
   "execution_count": null,
   "id": "0283b823-a348-4eaa-a75c-30b6ab427b64",
   "metadata": {
    "lang": "en,fr"
   },
   "outputs": [],
   "source": [
    "sites = surveys_df.groupby('plot_id')['record_id'].count()\n",
    "print(sites.index)\n",
    "\n",
    "sites.plot(kind='bar')"
   ]
  },
  {
   "cell_type": "markdown",
   "id": "e9ffce8f-1739-4c31-ab9b-3c4340c78065",
   "metadata": {
    "lang": "fr"
   },
   "source": [
    "Autres particularités de `.plot()` et Matplotlib :\n",
    "* Chaque colonne d'un DataFrame obtient une couleur différente.\n",
    "* Divers arguments et méthodes pour configurer\n",
    "  le titre du graphique et le nom des axes."
   ]
  },
  {
   "cell_type": "code",
   "execution_count": null,
   "id": "cef11139-b576-41ae-8b08-4a0f309772f3",
   "metadata": {
    "lang": "fr"
   },
   "outputs": [],
   "source": [
    "espece_sex_poids_moyen = surveys_df.groupby(\n",
    "    ['species_id', 'sex'])['weight'].mean().unstack()\n",
    "espece_sex_poids_moyen.head(10)"
   ]
  },
  {
   "cell_type": "code",
   "execution_count": null,
   "id": "4a82ab2f-0ee8-43f1-aff1-a5f8d9b04d17",
   "metadata": {
    "lang": "fr"
   },
   "outputs": [],
   "source": [
    "# Ajouter le titre et le nom des axes\n",
    "e_plot = espece_sex_poids_moyen.plot(\n",
    "    kind='bar', title='Poids moyen par espèce et sexe')\n",
    "e_plot.set_xlabel('Espèce (identifiant)')\n",
    "e_plot.set_ylabel('Poids moyen (g)')"
   ]
  },
  {
   "cell_type": "markdown",
   "id": "03ff380c-03f2-48d3-bbc4-68a2fa993eeb",
   "metadata": {
    "lang": "fr"
   },
   "source": [
    "### Exercices - Créer un graphique\n",
    "`1`. Générez un graphique de courbes montrant le\n",
    "`hindfoot_length` moyen de chaque espèce d'une année à l'autre.\n",
    "Note : les enregistrements sans `hindfoot_length` sont écartés.\n",
    "(4 min.)"
   ]
  },
  {
   "cell_type": "code",
   "execution_count": null,
   "id": "810ed463-7e35-4d67-b90d-99bf349cc671",
   "metadata": {
    "lang": "en,fr",
    "tags": [
     "soln"
    ]
   },
   "outputs": [],
   "source": [
    "selection = surveys_df[surveys_df['hindfoot_length'].notna()]\n",
    "\n",
    "selection.groupby(\n",
    "    ['year', 'species_id']\n",
    ")['hindfoot_length'].mean().unstack().plot(kind='line')"
   ]
  },
  {
   "cell_type": "markdown",
   "id": "e42b8e52-26dd-4009-8832-649cf4d3f49e",
   "metadata": {
    "lang": "fr"
   },
   "source": [
    "`2`. Générez un graphique de barres montrant le poids moyen des\n",
    "femelles et des mâles pour chaque genre d'espèce (`genus`). (3 min.)"
   ]
  },
  {
   "cell_type": "code",
   "execution_count": null,
   "id": "e80d3835-9f8c-4b6d-a14c-d97a6fa18fd6",
   "metadata": {
    "lang": "fr"
   },
   "outputs": [],
   "source": [
    "# Intersection avec les détails des espèces\n",
    "especes_df = pd.read_csv('../data/species.csv')\n",
    "jonction = pd.merge(\n",
    "    left=surveys_df,\n",
    "    right=especes_df,\n",
    "    on='species_id'\n",
    ")"
   ]
  },
  {
   "cell_type": "code",
   "execution_count": null,
   "id": "7cc3c14a-d848-4678-93da-e5350d053152",
   "metadata": {
    "lang": "fr",
    "tags": [
     "soln"
    ]
   },
   "outputs": [],
   "source": [
    "# Calcul des moyennes et visualisation\n",
    "jonction.pivot_table(\n",
    "    aggfunc='mean',\n",
    "    values='weight',\n",
    "    index='genus',\n",
    "    columns='sex'\n",
    ").plot(kind='bar')"
   ]
  },
  {
   "cell_type": "markdown",
   "id": "f237ab85-52f4-4db8-9fc6-fe483b46b42c",
   "metadata": {
    "lang": "fr"
   },
   "source": [
    "## Résumé technique\n",
    "* **Gestion des types**\n",
    "    * Pour un **DataFrame** :\n",
    "        * Attributs : `dtypes`\n",
    "    * Pour une **série** (colonne) :\n",
    "        * Attributs : `dtype`\n",
    "        * Méthodes : `astype()`\n",
    "* **Créer un graphique à partir d'un DataFrame** :\n",
    "    * `df.plot()`, où `df` contient une ou plusieurs colonnes\n",
    "        * `kind='bar'` (défaut: `'line'`)\n",
    "        * `stacked=True`\n",
    "        * `title=''`\n",
    "    * `objet_plot.set_xlabel('')`\n",
    "    * `objet_plot.set_ylabel('')`"
   ]
  },
  {
   "cell_type": "code",
   "execution_count": null,
   "id": "0c6afde3-a223-4b67-8678-72d673f8039b",
   "metadata": {},
   "outputs": [],
   "source": []
  }
 ],
 "metadata": {
  "kernelspec": {
   "display_name": "Python 3 (ipykernel)",
   "language": "python",
   "name": "python3"
  },
  "language_info": {
   "codemirror_mode": {
    "name": "ipython",
    "version": 3
   },
   "file_extension": ".py",
   "mimetype": "text/x-python",
   "name": "python",
   "nbconvert_exporter": "python",
   "pygments_lexer": "ipython3",
   "version": "3.11.7"
  }
 },
 "nbformat": 4,
 "nbformat_minor": 5
}
