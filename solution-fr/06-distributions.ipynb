{
 "cells": [
  {
   "cell_type": "markdown",
   "id": "f7dd3892-53d8-4f42-8c3b-e7ee6b5c608f",
   "metadata": {
    "lang": "fr"
   },
   "source": [
    "# Visualisation de données en Python\n",
    "## Visualiser des distributions\n",
    "\n",
    "Question\n",
    "* Comment visualiser la distribution des données selon un certain facteur?\n",
    "\n",
    "Objectif\n",
    "* Créer différents types de graphiques."
   ]
  },
  {
   "cell_type": "code",
   "execution_count": null,
   "id": "bbc550fe-0422-412b-b197-3ffe3cdbb332",
   "metadata": {
    "lang": "fr"
   },
   "outputs": [],
   "source": [
    "import pandas as pd\n",
    "\n",
    "# Charger les données nettoyées\n",
    "surveys_complet = pd.read_csv('../data/surveys_0_NA.csv')\n",
    "surveys_complet"
   ]
  },
  {
   "cell_type": "code",
   "execution_count": null,
   "id": "ad428249-6641-4a3e-a943-7af2f8a567ec",
   "metadata": {
    "lang": "en,fr"
   },
   "outputs": [],
   "source": [
    "import altair as alt\n",
    "alt.data_transformers.disable_max_rows()"
   ]
  },
  {
   "cell_type": "markdown",
   "id": "03bfe8cf-c1a3-49a3-94b0-96e97380919e",
   "metadata": {
    "lang": "fr"
   },
   "source": [
    "## Visualiser des distributions\n",
    "* Tout d'abord, un box-plot peut être utilisé :"
   ]
  },
  {
   "cell_type": "code",
   "execution_count": null,
   "id": "7b5166f9-938d-413a-9845-b4eb8b8c254f",
   "metadata": {
    "lang": "fr"
   },
   "outputs": [],
   "source": [
    "alt.Chart(surveys_complet).mark_boxplot().encode(\n",
    "    x=alt.X('species_id').title(\"Identifiant d'espèce\"),\n",
    "    y=alt.Y('weight').scale(type='log', base=2).title('Poids (g)'),\n",
    "    color=alt.Color('species_id').legend(None),\n",
    ")"
   ]
  },
  {
   "cell_type": "markdown",
   "id": "6d4d8612-846b-4ae7-88d3-013aa3ebf034",
   "metadata": {
    "lang": "fr"
   },
   "source": [
    "* Des facettes étroites peuvent être utilisées pour afficher\n",
    "  plusieurs nuages de points :"
   ]
  },
  {
   "cell_type": "code",
   "execution_count": null,
   "id": "2887cfea-3b71-4b1c-91c0-433c11acfdfc",
   "metadata": {
    "lang": "fr"
   },
   "outputs": [],
   "source": [
    "alt.Chart(surveys_complet).transform_calculate(\n",
    "    bruit='random() - 0.5',  # Position horizontale dans la facette\n",
    "    poids_b='datum.weight + random() - 0.5',\n",
    ").mark_circle(size=4).encode(\n",
    "    x=alt.X('bruit').type('quantitative').axis(None).title(None),\n",
    "    y=alt.Y('poids_b:Q').scale(type='log', base=2).title('Poids (g)'),\n",
    "    color=alt.Color('species_id').legend(None),\n",
    "    column=alt.Column('species_id').title('Poids selon les espèces'),\n",
    ").configure_mark(\n",
    "    opacity=0.25,  # Transparence des mark_circle()\n",
    ").configure_facet(\n",
    "    spacing=0,     # Supprimer la marge entre les facettes\n",
    ").configure_view(\n",
    "    stroke=None,   # Enlever la boîte autour des facettes\n",
    ").properties(\n",
    "    width=18,      # Largeur des facettes\n",
    ")"
   ]
  },
  {
   "cell_type": "markdown",
   "id": "ea3206d3-a07b-4af0-b30d-e694ada10840",
   "metadata": {
    "lang": "fr"
   },
   "source": [
    "### Exercice - Distributions\n",
    "Pour cet exercice, on cherche à avoir les vrais noms d'espèce sur\n",
    "l'axe horizontal d'un box-plot.\n",
    "\n",
    "(Préparation) Calculez la jonction de gauche entre `surveys_complet`\n",
    "et le détail des espèces dans `species.csv`. (3 min.)"
   ]
  },
  {
   "cell_type": "code",
   "execution_count": null,
   "id": "39fbdfe4-efbd-4094-9d42-344e19f39403",
   "metadata": {
    "lang": "fr"
   },
   "outputs": [],
   "source": [
    "species_df = pd.read_csv('../data/species.csv')\n",
    "\n",
    "jonc_gauche = pd.merge(\n",
    "    left=surveys_complet,\n",
    "    right=species_df,\n",
    "    on='species_id',\n",
    "    how='left'\n",
    ")\n",
    "\n",
    "jonc_gauche.columns"
   ]
  },
  {
   "cell_type": "markdown",
   "id": "0afaf6c3-bec0-4a31-9181-a5b45df93b1f",
   "metadata": {
    "lang": "fr"
   },
   "source": [
    "Créez le box-plot :\n",
    "* Le nom des espèces sur l'axe horizontal, avec l'étiquette \"Espèce\"\n",
    "* Le poids dans l'axe vertical, selon une échelle logarithmique\n",
    "  en base 2 et avec l'étiquette \"Poids (g)\"\n",
    "* Une couleur selon l'identifiant d'espèce\n",
    "* Un titre pour le graphique\n",
    "\n",
    "(6 min.)"
   ]
  },
  {
   "cell_type": "code",
   "execution_count": null,
   "id": "b504ed8a-9825-44f2-916f-c353ea35f390",
   "metadata": {
    "lang": "fr",
    "tags": [
     "soln"
    ]
   },
   "outputs": [],
   "source": [
    "alt.Chart(jonc_gauche).mark_boxplot().encode(\n",
    "    x=alt.X('species').title('Espèce'),\n",
    "    y=alt.Y('weight').scale(type='log', base=2).title('Poids (g)'),\n",
    "    color=alt.Color('species_id').legend(None),\n",
    ").properties(\n",
    "    title='Distribution des poids par espèce',\n",
    ")"
   ]
  },
  {
   "cell_type": "markdown",
   "id": "fe67d908-e2c2-48b3-b408-00af338d0162",
   "metadata": {
    "lang": "fr"
   },
   "source": [
    "## Résumé technique\n",
    "* **Colonnes temporaires**\n",
    "  * `graphique.transform_calculate(col2='datum.col1 + random()-0.5')`\n",
    "* **Choix du type de marqueurs** à afficher\n",
    "  * `graphique.mark_boxplot()`\n",
    "  * `graphique.mark_circle(size=N)`\n",
    "* **Assigner des variables** à des canaux du graphique\n",
    "  * `graphique.encode(...)`\n",
    "  * Différents canaux :\n",
    "    * `color=alt.Color('varCouleur')`\n",
    "      * `.legend(None)`\n",
    "    * `column=alt.Column('varColonne')`\n",
    "* **Autres propriétés du graphique**\n",
    "  * `graphique.configure_facet(spacing=0)`\n",
    "  * `graphique.configure_view(stroke=None)`\n",
    "  * `graphique.properties(width=20)`"
   ]
  },
  {
   "cell_type": "code",
   "execution_count": null,
   "id": "97e570cf-c97b-4bc9-8870-7d9277df35ae",
   "metadata": {},
   "outputs": [],
   "source": []
  }
 ],
 "metadata": {
  "kernelspec": {
   "display_name": "Python 3 (ipykernel)",
   "language": "python",
   "name": "python3"
  },
  "language_info": {
   "codemirror_mode": {
    "name": "ipython",
    "version": 3
   },
   "file_extension": ".py",
   "mimetype": "text/x-python",
   "name": "python",
   "nbconvert_exporter": "python",
   "pygments_lexer": "ipython3",
   "version": "3.11.7"
  }
 },
 "nbformat": 4,
 "nbformat_minor": 5
}
