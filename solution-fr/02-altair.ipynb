{
 "cells": [
  {
   "cell_type": "markdown",
   "id": "2f2627b0-84c6-4139-b855-82a8899ade8d",
   "metadata": {
    "lang": "fr"
   },
   "source": [
    "# Visualisation de données en Python\n",
    "## Introduction à Altair\n",
    "\n",
    "Question\n",
    "* Comment faire des graphiques modernes et interactifs?\n",
    "\n",
    "Objectif\n",
    "* Comprendre les éléments de base d'une grammaire des graphiques.\n",
    "* Créer un premier objet `alt.Chart`.\n",
    "* Sauvegarder une figure en image ou en version interactive."
   ]
  },
  {
   "cell_type": "code",
   "execution_count": null,
   "id": "677c96a3-3573-4541-be5e-2ce3cfc8c521",
   "metadata": {
    "lang": "fr"
   },
   "outputs": [],
   "source": [
    "import pandas as pd\n",
    "\n",
    "# Charger les données nettoyées\n",
    "surveys_complet = pd.read_csv('../data/surveys_0_NA.csv')\n",
    "surveys_complet"
   ]
  },
  {
   "cell_type": "markdown",
   "id": "6f09104d-770f-4ac6-a4fa-eafb7c0d3033",
   "metadata": {
    "lang": "fr"
   },
   "source": [
    "## Grammaire des graphiques\n",
    "* Introduite par Leland Wilkinson au début de la décennie 1990.\n",
    "* Langage commun et structuré pour décrire et\n",
    "  comprendre les aspects variés de toute visualisation.\n",
    "\n",
    "Vidéo explicative intéressante :\n",
    "\n",
    "[![YouTube - A Grammar of Graphics](https://img.youtube.com/vi/RCaFBJWXfZc/default.jpg)](https://www.youtube.com/watch?v=RCaFBJWXfZc)"
   ]
  },
  {
   "cell_type": "markdown",
   "id": "3b8f71c6-0434-48b0-bb65-df0df93adcfb",
   "metadata": {
    "lang": "fr"
   },
   "source": [
    "### Sept éléments centraux\n",
    "1. Données\n",
    "   * Qu’est-ce qu’on représente.\n",
    "2. Esthétique\n",
    "   * Comment on le représente.\n",
    "3. Système de coordonnées\n",
    "   * Comment on positionne nos données.\n",
    "4. Échelle\n",
    "   * Comment on passe de la donnée à la représentation esthétique.\n",
    "5. Objets géométriques\n",
    "   * Quel type d’objet géométrique on utilise.\n",
    "6. Statistiques\n",
    "   * Comment on calcule/modifie les données.\n",
    "      * Par exemple, un comptage, des quartiles,\n",
    "        des droites de régression, etc.\n",
    "7. Facettes\n",
    "   * Comment on divise nos données en plusieurs jeux ou graphiques."
   ]
  },
  {
   "cell_type": "markdown",
   "id": "df771a74-250f-40f1-af6b-42954971cc17",
   "metadata": {
    "lang": "en,fr"
   },
   "source": [
    "![Facets by year and sex](../images/facet-year-sex.png)"
   ]
  },
  {
   "cell_type": "markdown",
   "id": "3893b595-37a6-4c6c-86fc-dd0e12eec63c",
   "metadata": {
    "lang": "fr"
   },
   "source": [
    "Dans la figure ci-dessus, on a :\n",
    "1. Données\n",
    "   * Variables `weight`, `hindfoot_length`, `species_id`\n",
    "   * Répartition des données par `year` et par `sex`\n",
    "2. Esthétique\n",
    "   * Position selon `hindfoot_length` et `weight`\n",
    "   * Couleur selon `species_id`\n",
    "3. Système de coordonnées\n",
    "   * Système cartésien\n",
    "      * Deux axes : X et Y\n",
    "4. Échelle\n",
    "   * X (`hindfoot_length`) : de 0 à 65\n",
    "   * Y (`weight`) : de 4 à 512\n",
    "      * Échelle logarithmique en base 2\n",
    "   * Couleurs (`species_id`) : bleu, orange, rouge, etc.\n",
    "5. Objets géométriques\n",
    "   * Cercles semi-transparents\n",
    "6. Statistiques\n",
    "   * Données représentées telles quelles, sans transformation\n",
    "7. Facettes\n",
    "   * Facettes par `year` et par `sex`"
   ]
  },
  {
   "cell_type": "markdown",
   "id": "860c926c-5d1d-482b-a69b-cebf7c840c13",
   "metadata": {
    "lang": "fr"
   },
   "source": [
    "### Grammaire des graphiques interactifs\n",
    "Ajout d’éléments d’interaction par-dessus la grammaire des graphiques\n",
    "* Événements\n",
    "  * Clic sur un élément ou à proximité\n",
    "  * Survol d'un élément\n",
    "  * Déplacement\n",
    "  * Zoom\n",
    "* Sélection \n",
    "  * Qu’est-ce qui est sélectionné: point, région, sous-ensemble\n",
    "* Actions\n",
    "  * Qu’est-ce qui se produit\n",
    "\n",
    "Voici une vidéo à ce sujet :\n",
    "\n",
    "[![YouTube - Vega-Lite - A grammar of Interactive Graphics](https://img.youtube.com/vi/rydth27fB3Q/default.jpg)](https://www.youtube.com/watch?v=rydth27fB3Q)"
   ]
  },
  {
   "cell_type": "markdown",
   "id": "5bb679b3-7f87-4271-ac82-7fd5ce8176f6",
   "metadata": {
    "lang": "fr"
   },
   "source": [
    "## Bibliothèques de visualisation\n",
    "Plusieurs bibliothèques de visualisation se basent explicitement\n",
    "sur la grammaire des graphiques dans leur design :\n",
    "* **R** : ggplot\n",
    "* **JavaScript** : Vega-Lite, nd3\n",
    "* **En Python** : Altair, Bokeh, Plotly, Plotnine, Seaborn (>0.12)\n",
    "\n",
    "Quelle bibliothèque Python choisir?\n",
    "* Selon le type de bibliothèque dont vous avez besoin.\n",
    "* Selon ce qui est populaire dans votre domaine de recherche."
   ]
  },
  {
   "cell_type": "markdown",
   "id": "a53a08dc-dbde-4d59-a505-ef2dc375cc12",
   "metadata": {
    "lang": "fr"
   },
   "source": [
    "|                 Type                 |    Nom    | Forks | Étoiles |\n",
    "| ------------------------------------ | ------------ | ---: | ----: |\n",
    "| Traditionnel                         | `matplotlib` | 7900 | 21.2k |\n",
    "| Traditionnel                         | `seaborn`    | 2000 | 13.1k |\n",
    "| Grammaire des graphiques             | `plotnine`   |  233 |  4.2k |\n",
    "| Grammaire des graphiques interactifs | `altair`     |  805 |  9.8k |\n",
    "| Grammaire des graphiques interactifs | `bokeh`      | 4200 | 19.8k |\n",
    "| Grammaire des graphiques interactifs | `plotly`     | 2600 | 17.1k |\n",
    "| Spécialisé                           | `folium`     | 2200 |  7.1k |\n",
    "| Spécialisé                           | `geoplotlib` |  175 |  1.0k |"
   ]
  },
  {
   "cell_type": "markdown",
   "id": "31aa06a0-520b-4856-b43d-eb003392de42",
   "metadata": {
    "lang": "fr"
   },
   "source": [
    "### Pourquoi `altair`? Pourquoi pas `matplotlib`?\n",
    "\n",
    "Bien que `matplotlib` soit une bibliothèque de visualisation\n",
    "largement répandue et relativement flexible, la programmation\n",
    "des graphiques n'est pas aussi intuitive qu'avec `altair`.\n",
    "De plus, [la bibliothèque](https://altair-viz.github.io/index.html)\n",
    "`altair` permet de créer facilement des \n",
    "[graphiques interactifs](https://vega.github.io/vega-lite/) et\n",
    "hautement informatifs tout en s'intégrant bien avec Pandas.\n",
    "\n",
    "Nous verrons différents concepts de visualisation qui peuvent être\n",
    "reproduits plus ou moins facilement avec d'autres bibliothèques\n",
    "telles que `matplotlib`, `plotnine`, `plotly` et `seaborn`."
   ]
  },
  {
   "cell_type": "code",
   "execution_count": null,
   "id": "9e2605de-8993-4451-9dd2-52353286b8ab",
   "metadata": {
    "lang": "en,fr"
   },
   "outputs": [],
   "source": [
    "import altair as alt"
   ]
  },
  {
   "cell_type": "markdown",
   "id": "12f9e7a4-fd50-4935-9af4-2862c861a140",
   "metadata": {
    "lang": "fr"
   },
   "source": [
    "Étant donné que les graphiques générés par Altair ne sont pas que des\n",
    "images statiques, l'information générée est parfois très lourde et\n",
    "elle s'accumule dans le notebook s'il y a plusieurs graphiques.\n",
    "Néanmoins, pour contourner la limite de 5000 lignes dans le DataFrame\n",
    "de données, on peut désactiver cette limite, à nos risques."
   ]
  },
  {
   "cell_type": "code",
   "execution_count": null,
   "id": "8ccfa82e-6032-42fe-82d7-77b447234589",
   "metadata": {
    "lang": "en,fr"
   },
   "outputs": [],
   "source": [
    "alt.data_transformers.disable_max_rows()"
   ]
  },
  {
   "cell_type": "markdown",
   "id": "fdc7a5ff-7fad-4afe-97c4-14624ca2daad",
   "metadata": {
    "lang": "fr"
   },
   "source": [
    "## Générer des graphiques avec `altair`\n",
    "Les graphiques `altair` sont construits étape par étape à partir\n",
    "d'un objet de type `Chart`:\n",
    "* **Création du graphique** - La première méthode obligatoire débute\n",
    "  par `mark_`. Par exemple, `mark_point()`.\n",
    "  À ce stade, c'est normal que tout soit concentré en un point."
   ]
  },
  {
   "cell_type": "code",
   "execution_count": null,
   "id": "197d15a8-307d-46ac-bcb4-c5a77baa92ad",
   "metadata": {
    "lang": "fr"
   },
   "outputs": [],
   "source": [
    "# Création de l'objet Chart et choix du type de graphique\n",
    "alt.Chart(surveys_complet).mark_point()"
   ]
  },
  {
   "cell_type": "markdown",
   "id": "51287c78-7788-4e12-a398-203f27520fab",
   "metadata": {
    "lang": "fr"
   },
   "source": [
    "* **Encodage des canaux** - La prochaine étape consiste à\n",
    "  [encoder](https://altair-viz.github.io/user_guide/encodings/)\n",
    "  des canaux liant certaines variables du DataFrame à divers éléments\n",
    "  du graphiques. Les principaux paramètres de `encode()` sont :\n",
    "  `x`, `y`, `color`, `shape` et `size`."
   ]
  },
  {
   "cell_type": "code",
   "execution_count": null,
   "id": "e20e061d-07cb-4ff7-bb86-3adf5a019d40",
   "metadata": {
    "lang": "fr"
   },
   "outputs": [],
   "source": [
    "# Définition des axes ; les points prennent leur position\n",
    "alt.Chart(surveys_complet).mark_point().encode(\n",
    "    x=alt.X('hindfoot_length'),\n",
    "    y=alt.Y('weight'),\n",
    ")"
   ]
  },
  {
   "cell_type": "markdown",
   "id": "474abfd3-0dc7-4b72-9b43-3d96500f0657",
   "metadata": {
    "lang": "fr"
   },
   "source": [
    "* **Navigation interactive** - On peut ensuite rendre le graphique\n",
    "  interactif, ce qui permet de naviguer dans le graphique à l'aide\n",
    "  de la souris."
   ]
  },
  {
   "cell_type": "code",
   "execution_count": null,
   "id": "1f298b7d-67c2-424a-a6f8-3d0decaf8c87",
   "metadata": {
    "lang": "fr"
   },
   "outputs": [],
   "source": [
    "# Permettre les interactions avec la souris\n",
    "alt.Chart(surveys_complet).mark_point().encode(\n",
    "    x=alt.X('hindfoot_length'),\n",
    "    y=alt.Y('weight'),\n",
    ").interactive()"
   ]
  },
  {
   "cell_type": "markdown",
   "id": "8cda61eb-e7f6-4815-9d0d-33f86e441598",
   "metadata": {
    "lang": "fr"
   },
   "source": [
    "* **Colonnes temporaires** - Pour ajouter du bruit,\n",
    "  on peut se créer des colonnes temporaires avec\n",
    "  [`transform_calculate()`](https://altair-viz.github.io/user_guide/transform/calculate.html).\n",
    "  Cependant, il faut spécifier explicitement\n",
    "  [le type donnée](https://altair-viz.github.io/user_guide/encodings/index.html#encoding-data-types)."
   ]
  },
  {
   "cell_type": "code",
   "execution_count": null,
   "id": "f994ae3e-5860-40e9-b907-783af5493d6f",
   "metadata": {
    "lang": "fr"
   },
   "outputs": [],
   "source": [
    "# Colonnes temporaires avec du bruit\n",
    "alt.Chart(surveys_complet).transform_calculate(\n",
    "    longueur_bruitee='datum.hindfoot_length + random() - 0.5',\n",
    "    poids_bruite='datum.weight + random() - 0.5',\n",
    ").mark_point().encode(\n",
    "    x=alt.X('longueur_bruitee').type('quantitative'),\n",
    "    y=alt.Y('poids_bruite').type('quantitative'),\n",
    ").interactive()"
   ]
  },
  {
   "cell_type": "markdown",
   "id": "54f77152-180a-4891-a715-1113f7c2c9ab",
   "metadata": {
    "lang": "fr"
   },
   "source": [
    "* **Affichage interactif des valeurs** - Encoder le canal `tooltip`\n",
    "  avec une liste de variables à afficher au passage de la souris."
   ]
  },
  {
   "cell_type": "code",
   "execution_count": null,
   "id": "663c2d20-4ae0-4700-92ff-3a3a6336928c",
   "metadata": {
    "lang": "fr"
   },
   "outputs": [],
   "source": [
    "# Permettre de voir les valeurs associées aux points\n",
    "graphique = alt.Chart(surveys_complet).transform_calculate(\n",
    "    longueur_bruitee='datum.hindfoot_length + random() - 0.5',\n",
    "    poids_bruite='datum.weight + random() - 0.5',\n",
    ").mark_point().encode(\n",
    "    x=alt.X('longueur_bruitee').type('quantitative'),\n",
    "    y=alt.Y('poids_bruite').type('quantitative'),\n",
    "    tooltip=['plot_id', 'species_id', 'hindfoot_length', 'weight'],\n",
    ").interactive()\n",
    "graphique"
   ]
  },
  {
   "cell_type": "markdown",
   "id": "c20e7391-d0a0-4347-963c-35cc1f03068b",
   "metadata": {
    "lang": "fr"
   },
   "source": [
    "* **Sauvegarde du graphique** - C'est possible de le sauvegarder dans\n",
    "  le [format de notre choix](https://altair-viz.github.io/user_guide/saving_charts.html)."
   ]
  },
  {
   "cell_type": "code",
   "execution_count": null,
   "id": "d1e06907-929a-4a69-92cf-b277400b908e",
   "metadata": {
    "lang": "fr"
   },
   "outputs": [],
   "source": [
    "graphique.save('poids_longueur.html')"
   ]
  },
  {
   "cell_type": "code",
   "execution_count": null,
   "id": "fe023ad2-af19-420f-9b8f-a07e8c614242",
   "metadata": {
    "lang": "fr"
   },
   "outputs": [],
   "source": [
    "# Autres formats : PDF (plus lourd), PNG, SVG\n",
    "try:\n",
    "    graphique.save('poids_longueur.png')\n",
    "    graphique.save('poids_longueur.svg')\n",
    "except BaseException as err:\n",
    "    print('Erreur:', err)\n",
    "    print('-> Il vaut mieux utiliser le bouton (•••)')"
   ]
  },
  {
   "cell_type": "markdown",
   "id": "cf50ff3e-2b11-42ac-b6c5-b8e9b0188391",
   "metadata": {
    "lang": "fr"
   },
   "source": [
    "### Exercice - Créer un graphique à barres\n",
    "À partir du DataFrame `surveys_complet`, faites afficher le\n",
    "décompte du nombre d'enregistrements pour chaque `plot_id`. Instructions :\n",
    "* Utilisez\n",
    "  [`mark_bar()`](https://altair-viz.github.io/gallery/simple_bar_chart.html)\n",
    "  pour générer\n",
    "  [le graphique](https://altair-viz.github.io/gallery/simple_histogram.html)\n",
    "* Sur l'axe horizontal, spécifiez la variable `'plot_id'` et le\n",
    "  [type `'ordinal'`](https://altair-viz.github.io/user_guide/encodings/#encoding-data-types)\n",
    "* Sur l'axe vertical, spécifiez `'count()'` comme variable pour que\n",
    "  Altair fasse automatiquement le décompte, ce qui évite de passer\n",
    "  par la méthode `groupby()` du DataFrame\n",
    "* Activez le canal `tooltip` avec `'count()'` pour avoir le décompte\n",
    "\n",
    "(7 min.)"
   ]
  },
  {
   "cell_type": "code",
   "execution_count": null,
   "id": "04f0ee70-660a-43b1-a531-153890bd1ef7",
   "metadata": {
    "lang": "fr",
    "tags": [
     "soln"
    ]
   },
   "outputs": [],
   "source": [
    "alt.Chart(surveys_complet).mark_bar().encode(\n",
    "    x=alt.X('plot_id').type('ordinal'),\n",
    "    y=alt.Y('count()'),\n",
    "    tooltip=['count()'],\n",
    ")"
   ]
  },
  {
   "cell_type": "markdown",
   "id": "33433035-60c9-4217-9d13-eed80aad3d92",
   "metadata": {
    "lang": "fr"
   },
   "source": [
    "## Résumé technique\n",
    "* **Module Altair**\n",
    "  * `import altair as alt`\n",
    "  * Désactiver limite : `alt.data_transformers.disable_max_rows()`\n",
    "* **Création d'un graphique vierge**\n",
    "  * `graphique = alt.Chart(df)`\n",
    "* **Colonnes temporaires**\n",
    "  * `graphique.transform_calculate(col2='datum.col1 + random()-0.5')`\n",
    "* **Choix du type de marqueurs** à afficher\n",
    "  * `graphique.mark_point()`\n",
    "  * `graphique.mark_bar()`\n",
    "* **Assigner des variables** à des canaux du graphique\n",
    "  * `graphique.encode(...)`\n",
    "  * Différents canaux :\n",
    "    * `x=alt.X('varX')` et `y=alt.Y('varY')`\n",
    "      * `.type('type')`, avec les\n",
    "        [différents types](https://altair-viz.github.io/user_guide/encodings/index.html#encoding-data-types) :\n",
    "        * Quantités continues : `'quantitative'`, `'var:Q'`\n",
    "        * Quantités discrètes triées : `'ordinal'`, `'var:O'`\n",
    "        * Catégories discrètes : `'nominal'`, `'var:N'`\n",
    "        * Dates et heures : `'temporal'`, `'var:T'`\n",
    "    * `tooltip=['varX', 'varY', ...]`\n",
    "* **Autres propriétés du graphique**\n",
    "  * `graphique.interactive()`\n",
    "* **Sauvegarde**\n",
    "  * `graphique.save(\"graphique.html\")`\n",
    "  * `graphique.save(\"graphique.png\")`\n",
    "  * `graphique.save(\"graphique.svg\")`"
   ]
  },
  {
   "cell_type": "code",
   "execution_count": null,
   "id": "bcc4c3f0-947d-46fc-a654-560044030295",
   "metadata": {},
   "outputs": [],
   "source": []
  }
 ],
 "metadata": {
  "kernelspec": {
   "display_name": "Python 3 (ipykernel)",
   "language": "python",
   "name": "python3"
  },
  "language_info": {
   "codemirror_mode": {
    "name": "ipython",
    "version": 3
   },
   "file_extension": ".py",
   "mimetype": "text/x-python",
   "name": "python",
   "nbconvert_exporter": "python",
   "pygments_lexer": "ipython3",
   "version": "3.11.7"
  }
 },
 "nbformat": 4,
 "nbformat_minor": 5
}
