{
 "cells": [
  {
   "cell_type": "markdown",
   "id": "76ca39b2-d847-4f94-9958-276f8ac45354",
   "metadata": {
    "lang": "fr"
   },
   "source": [
    "# Visualisation de données en Python\n",
    "## Visualiser des séries temporelles\n",
    "\n",
    "Question\n",
    "* Comment visualiser des données sous forme de courbes temporelles?\n",
    "\n",
    "Objectif\n",
    "* Créer différents types de graphiques."
   ]
  },
  {
   "cell_type": "code",
   "execution_count": null,
   "id": "7886f873-0800-4a2f-afa7-9f57f6cdb3fa",
   "metadata": {
    "lang": "fr"
   },
   "outputs": [],
   "source": [
    "import pandas as pd\n",
    "\n",
    "# Charger les données nettoyées\n",
    "surveys_complet = pd.read_csv('../data/surveys_0_NA.csv')\n",
    "surveys_complet"
   ]
  },
  {
   "cell_type": "code",
   "execution_count": null,
   "id": "dcaa744e-e541-4e99-b385-43820d64bbb1",
   "metadata": {
    "lang": "en,fr"
   },
   "outputs": [],
   "source": [
    "import altair as alt\n",
    "alt.data_transformers.disable_max_rows()"
   ]
  },
  {
   "cell_type": "markdown",
   "id": "29c791ed-c9c1-4d28-8a8d-12f43fbc1b7e",
   "metadata": {
    "lang": "fr"
   },
   "source": [
    "## Visualiser des données selon le temps\n",
    "* Nombre d'enregistrements par type d'espèce pour chaque année :"
   ]
  },
  {
   "cell_type": "code",
   "execution_count": null,
   "id": "273a8a39-c161-4f74-94f0-50334927174a",
   "metadata": {
    "lang": "fr"
   },
   "outputs": [],
   "source": [
    "alt.Chart(surveys_complet).mark_line().encode(\n",
    "    x=alt.X('year').type('ordinal'),\n",
    "    y=alt.Y('count()').scale(type='log', base=2),\n",
    "    color=alt.Color('species_id'),\n",
    ")"
   ]
  },
  {
   "cell_type": "markdown",
   "id": "8bc40c68-66ae-408e-8d9c-bcd16e8a9924",
   "metadata": {
    "lang": "fr"
   },
   "source": [
    "* Poids médian par type d'espèce pour chaque mois :"
   ]
  },
  {
   "cell_type": "code",
   "execution_count": null,
   "id": "fef50d4d-305a-4b5d-b8b9-4895f4ad9d50",
   "metadata": {
    "lang": "fr"
   },
   "outputs": [],
   "source": [
    "alt.Chart(surveys_complet).mark_line().encode(\n",
    "    x=alt.X('month').type('ordinal'),\n",
    "    y=alt.Y('weight').aggregate('median'),\n",
    "    color=alt.Color('species_id'),\n",
    "    tooltip=['species_id'],\n",
    ")"
   ]
  },
  {
   "cell_type": "markdown",
   "id": "ccbd4df4-8152-4810-85bd-260180dbc34c",
   "metadata": {
    "lang": "fr"
   },
   "source": [
    "### Exercice - Visualisation selon le temps\n",
    "`1`. Utilisez la fonction `pd.to_datetime()` pour générer une colonne\n",
    "     de dates à partir des colonnes `year`, `month` et `day`. (3 min.)"
   ]
  },
  {
   "cell_type": "code",
   "execution_count": null,
   "id": "54217ca2-08d7-4c56-8063-a168387c2a9b",
   "metadata": {
    "lang": "fr",
    "tags": [
     "soln"
    ]
   },
   "outputs": [],
   "source": [
    "# Décennie 1990 - pour éviter les 31 avril et 31 septembre 2000\n",
    "dec_1990 = surveys_complet[\n",
    "    surveys_complet['year'].isin(range(1990, 2000))].copy()\n",
    "\n",
    "dec_1990['date'] = pd.to_datetime(dec_1990[['year', 'month', 'day']])\n",
    "dec_1990['date']"
   ]
  },
  {
   "cell_type": "markdown",
   "id": "9de12028-9813-44b6-bc36-a85d83bc106f",
   "metadata": {
    "lang": "fr"
   },
   "source": [
    "`2`. Affichez le poids médian de chaque espèce selon la `date`.\n",
    "(3 min.)"
   ]
  },
  {
   "cell_type": "code",
   "execution_count": null,
   "id": "e67bd045-bf33-4a54-aa4b-8a001509d9fc",
   "metadata": {
    "lang": "en,fr",
    "tags": [
     "soln"
    ]
   },
   "outputs": [],
   "source": [
    "alt.Chart(dec_1990).mark_line().encode(\n",
    "    x=alt.X('date'),\n",
    "    y=alt.Y('weight').aggregate('median'),\n",
    "    color=alt.Color('species_id'),\n",
    "    tooltip=['species_id', 'date'],\n",
    ")"
   ]
  },
  {
   "cell_type": "markdown",
   "id": "8b198859-0736-4b92-b56c-67cb3e102156",
   "metadata": {
    "lang": "fr"
   },
   "source": [
    "## Résumé technique\n",
    "* **Création d'une colonne de dates**\n",
    "  * `df['date'] = pd.to_datetime(df[['year', 'month', 'day']])`\n",
    "* **Choix du type de marqueurs** à afficher\n",
    "  * `graphique.mark_line()`\n",
    "* **Assigner des variables** à des canaux du graphique\n",
    "  * `graphique.encode(...)`\n",
    "  * Différents canaux :\n",
    "    * `y=alt.Y('count()')`\n",
    "    * `y=alt.Y('varY').aggregate('stat')`,\n",
    "      avec les statistiques `'mean'`, `'median'`, etc."
   ]
  },
  {
   "cell_type": "code",
   "execution_count": null,
   "id": "05a0cce3-2c10-4e4b-a1c5-4e97ac075a09",
   "metadata": {},
   "outputs": [],
   "source": []
  }
 ],
 "metadata": {
  "kernelspec": {
   "display_name": "Python 3 (ipykernel)",
   "language": "python",
   "name": "python3"
  },
  "language_info": {
   "codemirror_mode": {
    "name": "ipython",
    "version": 3
   },
   "file_extension": ".py",
   "mimetype": "text/x-python",
   "name": "python",
   "nbconvert_exporter": "python",
   "pygments_lexer": "ipython3",
   "version": "3.11.7"
  }
 },
 "nbformat": 4,
 "nbformat_minor": 5
}
