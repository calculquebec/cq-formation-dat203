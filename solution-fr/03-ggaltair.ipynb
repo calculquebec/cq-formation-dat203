{
 "cells": [
  {
   "cell_type": "markdown",
   "id": "f56081c4-fbee-415f-9d82-0025acf76967",
   "metadata": {
    "lang": "fr"
   },
   "source": [
    "# Visualisation de données en Python\n",
    "## Construire un graphique par étapes\n",
    "\n",
    "Question\n",
    "* Qu'est-ce que la *grammaire des graphiques*?\n",
    "\n",
    "Objectifs\n",
    "* Configurer les couleurs des éléments d'un graphique.\n",
    "* Modifier l'échelle des axes.\n",
    "* Éditer le titre du graphique et le nom des axes."
   ]
  },
  {
   "cell_type": "code",
   "execution_count": null,
   "id": "877a07a6-0822-4410-89e0-66560e42d282",
   "metadata": {},
   "outputs": [],
   "source": []
  }
 ],
 "metadata": {
  "kernelspec": {
   "display_name": "Python 3 (ipykernel)",
   "language": "python",
   "name": "python3"
  },
  "language_info": {
   "codemirror_mode": {
    "name": "ipython",
    "version": 3
   },
   "file_extension": ".py",
   "mimetype": "text/x-python",
   "name": "python",
   "nbconvert_exporter": "python",
   "pygments_lexer": "ipython3",
   "version": "3.11.7"
  }
 },
 "nbformat": 4,
 "nbformat_minor": 5
}
