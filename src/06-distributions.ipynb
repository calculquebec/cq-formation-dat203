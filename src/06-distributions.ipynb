{
 "cells": [
  {
   "cell_type": "markdown",
   "id": "f7dd3892-53d8-4f42-8c3b-e7ee6b5c608f",
   "metadata": {
    "lang": "fr"
   },
   "source": [
    "# Visualisation de données en Python\n",
    "## Visualiser des distributions\n",
    "\n",
    "Question\n",
    "* Comment visualiser la distribution des données selon un certain facteur?\n",
    "\n",
    "Objectif\n",
    "* Créer différents types de graphiques."
   ]
  },
  {
   "cell_type": "markdown",
   "id": "ec3e3066-d683-4436-915e-f1f2cdf6c522",
   "metadata": {
    "lang": "en"
   },
   "source": [
    "# Data Visualization in Python\n",
    "## Plotting distributions\n",
    "\n",
    "Question\n",
    "* How to visualize data distributions by some factor?\n",
    "\n",
    "Objective\n",
    "* Create different types of plots."
   ]
  },
  {
   "cell_type": "code",
   "execution_count": null,
   "id": "97e570cf-c97b-4bc9-8870-7d9277df35ae",
   "metadata": {},
   "outputs": [],
   "source": []
  }
 ],
 "metadata": {
  "kernelspec": {
   "display_name": "Python 3 (ipykernel)",
   "language": "python",
   "name": "python3"
  },
  "language_info": {
   "codemirror_mode": {
    "name": "ipython",
    "version": 3
   },
   "file_extension": ".py",
   "mimetype": "text/x-python",
   "name": "python",
   "nbconvert_exporter": "python",
   "pygments_lexer": "ipython3",
   "version": "3.11.7"
  }
 },
 "nbformat": 4,
 "nbformat_minor": 5
}
