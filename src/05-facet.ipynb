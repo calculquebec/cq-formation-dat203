{
 "cells": [
  {
   "cell_type": "markdown",
   "id": "322abf18-0559-4d2a-95e8-3ca36fefda58",
   "metadata": {
    "lang": "fr"
   },
   "source": [
    "# Visualisation de données en Python\n",
    "## Création de facettes\n",
    "\n",
    "Question\n",
    "* Comment comparer visuellement des données dans une même figure?\n",
    "\n",
    "Objectif\n",
    "* Diviser une figure en facettes."
   ]
  },
  {
   "cell_type": "markdown",
   "id": "8d7c1acf-b65b-4b55-9dc0-7dc66bef747f",
   "metadata": {
    "lang": "en"
   },
   "source": [
    "# Data Visualization in Python\n",
    "## Faceting\n",
    "\n",
    "Question\n",
    "* How to visually compare data in the same figure?\n",
    "\n",
    "Objective\n",
    "* Create a collection of plots splitting the data by a \"factor\" variable."
   ]
  },
  {
   "cell_type": "code",
   "execution_count": null,
   "id": "09a236f8-2b3a-4626-b54f-13e774a500e6",
   "metadata": {},
   "outputs": [],
   "source": []
  }
 ],
 "metadata": {
  "kernelspec": {
   "display_name": "Python 3 (ipykernel)",
   "language": "python",
   "name": "python3"
  },
  "language_info": {
   "codemirror_mode": {
    "name": "ipython",
    "version": 3
   },
   "file_extension": ".py",
   "mimetype": "text/x-python",
   "name": "python",
   "nbconvert_exporter": "python",
   "pygments_lexer": "ipython3",
   "version": "3.11.7"
  }
 },
 "nbformat": 4,
 "nbformat_minor": 5
}
