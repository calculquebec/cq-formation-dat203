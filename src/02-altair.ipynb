{
 "cells": [
  {
   "cell_type": "markdown",
   "id": "2f2627b0-84c6-4139-b855-82a8899ade8d",
   "metadata": {
    "lang": "fr"
   },
   "source": [
    "# Visualisation de données en Python\n",
    "## Introduction à Altair\n",
    "\n",
    "Question\n",
    "* Comment faire des graphiques modernes et interactifs?\n",
    "\n",
    "Objectif\n",
    "* Comprendre les éléments de base d'une grammaire des graphiques.\n",
    "* Créer un premier objet `alt.Chart`.\n",
    "* Sauvegarder une figure en image ou en version interactive."
   ]
  },
  {
   "cell_type": "markdown",
   "id": "bbf3417c-27bb-404c-bb0b-1827b00f59f5",
   "metadata": {
    "lang": "en"
   },
   "source": [
    "# Data Visualization in Python\n",
    "## Introduction to Altair\n",
    "\n",
    "Question\n",
    "* How to create modern and interactive plots?\n",
    "\n",
    "Objective\n",
    "* Understanding the basics of a grammar of graphics.\n",
    "* Create a first `alt.Chart` object.\n",
    "* Save a figure as an image or as an interactive version."
   ]
  },
  {
   "cell_type": "markdown",
   "id": "6f09104d-770f-4ac6-a4fa-eafb7c0d3033",
   "metadata": {
    "lang": "fr"
   },
   "source": [
    "## Grammaire des graphiques\n",
    "* Introduite par Leland Wilkinson au début de la décennie 1990.\n",
    "* Langage commun et structuré pour décrire et\n",
    "  comprendre les aspects variés de toute visualisation.\n",
    "\n",
    "Vidéo explicative intéressante :\n",
    "\n",
    "[![YouTube - A Grammar of Graphics](https://img.youtube.com/vi/RCaFBJWXfZc/default.jpg)](https://www.youtube.com/watch?v=RCaFBJWXfZc)"
   ]
  },
  {
   "cell_type": "markdown",
   "id": "2ceb879e-7821-4125-8078-94be632ca762",
   "metadata": {
    "lang": "en"
   },
   "source": [
    "## Grammar of graphics\n",
    "* Introduced by Leland Wilkinson at the beginning of the 1990s.\n",
    "* A common, structured language for describing and\n",
    "  understanding the various aspects of any visualization.\n",
    "\n",
    "Interesting explanatory video:\n",
    "\n",
    "[![YouTube - A Grammar of Graphics](https://img.youtube.com/vi/RCaFBJWXfZc/default.jpg)](https://www.youtube.com/watch?v=RCaFBJWXfZc)"
   ]
  },
  {
   "cell_type": "markdown",
   "id": "3b8f71c6-0434-48b0-bb65-df0df93adcfb",
   "metadata": {
    "lang": "fr"
   },
   "source": [
    "### Sept éléments centraux\n",
    "1. Données\n",
    "   * Qu’est-ce qu’on représente.\n",
    "2. Esthétique\n",
    "   * Comment on le représente.\n",
    "3. Système de coordonnées\n",
    "   * Comment on positionne nos données.\n",
    "4. Échelle\n",
    "   * Comment on passe de la donnée à la représentation esthétique.\n",
    "5. Objets géométriques\n",
    "   * Quel type d’objet géométrique on utilise.\n",
    "6. Statistiques\n",
    "   * Comment on calcule/modifie les données.\n",
    "      * Par exemple, un comptage, des quartiles,\n",
    "        des droites de régression, etc.\n",
    "7. Facettes\n",
    "   * Comment on divise nos données en plusieurs jeux ou graphiques."
   ]
  },
  {
   "cell_type": "markdown",
   "id": "1c4ef19e-3193-499a-80c5-6c75baceb59b",
   "metadata": {
    "lang": "en"
   },
   "source": [
    "### Seven central elements\n",
    "1. Data\n",
    "   * What do we represent.\n",
    "2. Aesthetic\n",
    "   * How we represent it.\n",
    "3. Coordinate system\n",
    "   * How we position our data.\n",
    "4. Scale\n",
    "   * How we move from data to aesthetic representation.\n",
    "5. Geometric objects\n",
    "   * What type of geometric object is used?\n",
    "6. Statistics\n",
    "   * How data is calculated/modified.\n",
    "      * For example, the count, quartiles, regression lines, etc.\n",
    "7. Facets\n",
    "   * How we divide our data into multiple sets or graphs."
   ]
  },
  {
   "cell_type": "markdown",
   "id": "df771a74-250f-40f1-af6b-42954971cc17",
   "metadata": {
    "lang": "en,fr"
   },
   "source": [
    "![Facets by year and sex](../images/facet-year-sex.png)"
   ]
  },
  {
   "cell_type": "markdown",
   "id": "3893b595-37a6-4c6c-86fc-dd0e12eec63c",
   "metadata": {
    "lang": "fr"
   },
   "source": [
    "Dans la figure ci-dessus, on a :\n",
    "1. Données\n",
    "   * Variables `weight`, `hindfoot_length`, `species_id`\n",
    "   * Répartition des données par `year` et par `sex`\n",
    "2. Esthétique\n",
    "   * Position selon `hindfoot_length` et `weight`\n",
    "   * Couleur selon `species_id`\n",
    "3. Système de coordonnées\n",
    "   * Système cartésien\n",
    "      * Deux axes : X et Y\n",
    "4. Échelle\n",
    "   * X (`hindfoot_length`) : de 0 à 65\n",
    "   * Y (`weight`) : de 4 à 512\n",
    "      * Échelle logarithmique en base 2\n",
    "   * Couleurs (`species_id`) : bleu, orange, rouge, etc.\n",
    "5. Objets géométriques\n",
    "   * Cercles semi-transparents\n",
    "6. Statistiques\n",
    "   * Données représentées telles quelles, sans transformation\n",
    "7. Facettes\n",
    "   * Facettes par `year` et par `sex`"
   ]
  },
  {
   "cell_type": "markdown",
   "id": "8cc00f1b-239d-41b6-b12f-f10baaeb3c5d",
   "metadata": {
    "lang": "en"
   },
   "source": [
    "In the above figure, we have:\n",
    "1. Data\n",
    "   * Fields: `weight`, `hindfoot_length`, `species_id`\n",
    "   * Data distribution by `year` and by `sex`\n",
    "2. Aesthetic\n",
    "   * Position according to `hindfoot_length` and `weight`\n",
    "   * Color according to `species_id`\n",
    "3. Coordinate system\n",
    "   * Cartesian coordinate system\n",
    "      * Two axes: X and Y\n",
    "4. Scale\n",
    "   * X (`hindfoot_length`): from 0 to 65\n",
    "   * Y (`weight`): from 4 to 512\n",
    "      * Logarithmic scale to base 2\n",
    "   * Colors (`species_id`): blue, orange, red, etc.\n",
    "5. Geometric objects\n",
    "   * Semi-transparent circles\n",
    "6. Statistics\n",
    "   * Data represented as is, without transformation\n",
    "7. Facets\n",
    "   * Facets by `year` and by `sex`"
   ]
  },
  {
   "cell_type": "markdown",
   "id": "860c926c-5d1d-482b-a69b-cebf7c840c13",
   "metadata": {
    "lang": "fr"
   },
   "source": [
    "### Grammaire des graphiques interactifs\n",
    "Ajout d’éléments d’interaction par-dessus la grammaire des graphiques\n",
    "* Événements\n",
    "  * Clic sur un élément ou à proximité\n",
    "  * Survol d'un élément\n",
    "  * Déplacement\n",
    "  * Zoom\n",
    "* Sélection \n",
    "  * Qu’est-ce qui est sélectionné: point, région, sous-ensemble\n",
    "* Actions\n",
    "  * Qu’est-ce qui se produit\n",
    "\n",
    "Voici une vidéo à ce sujet :\n",
    "\n",
    "[![YouTube - Vega-Lite - A grammar of Interactive Graphics](https://img.youtube.com/vi/rydth27fB3Q/default.jpg)](https://www.youtube.com/watch?v=rydth27fB3Q)"
   ]
  },
  {
   "cell_type": "markdown",
   "id": "46d9d3c8-d72c-47c7-a03a-76974eb49bda",
   "metadata": {
    "lang": "en"
   },
   "source": [
    "### Grammar of interactive graphics\n",
    "Adding interaction elements on top of the grammar of graphics\n",
    "* Events\n",
    "  * Click on or near an item\n",
    "  * Hovering over an item\n",
    "  * Shift\n",
    "  * Zoom\n",
    "* Selection \n",
    "  * What is selected: point, region, subset\n",
    "* Actions\n",
    "  * What happens to the chart\n",
    "\n",
    "Here is a video about it:\n",
    "\n",
    "[![YouTube - Vega-Lite - A grammar of Interactive Graphics](https://img.youtube.com/vi/rydth27fB3Q/default.jpg)](https://www.youtube.com/watch?v=rydth27fB3Q)"
   ]
  },
  {
   "cell_type": "markdown",
   "id": "5bb679b3-7f87-4271-ac82-7fd5ce8176f6",
   "metadata": {
    "lang": "fr"
   },
   "source": [
    "### Bibliothèques de visualisation\n",
    "Plusieurs bibliothèques de visualisation se basent explicitement\n",
    "sur la grammaire des graphiques dans leur design :\n",
    "* **R** : ggplot\n",
    "* **JavaScript** : Vega-Lite, nd3\n",
    "* **En Python** : Altair, Bokeh, Plotly, Plotnine, Seaborn (>0.12)\n",
    "\n",
    "Quelle bibliothèque Python choisir? Tout d'abord, selon le type :"
   ]
  },
  {
   "cell_type": "markdown",
   "id": "087686c8-7964-45cd-ac80-9104b5db3586",
   "metadata": {
    "lang": "en"
   },
   "source": [
    "### Visualization Libraries\n",
    "Several visualization libraries explicitly rely\n",
    "on the grammar of graphics in their design:\n",
    "* **R** : ggplot\n",
    "* **JavaScript** : Vega-Lite, nd3\n",
    "* **Python** : Altair, Bokeh, Plotly, Plotnine, Seaborn (>0.12)\n",
    "\n",
    "Which Python library to choose? First of all, depending on the type:"
   ]
  },
  {
   "cell_type": "markdown",
   "id": "a53a08dc-dbde-4d59-a505-ef2dc375cc12",
   "metadata": {
    "lang": "fr"
   },
   "source": [
    "|                 Type                 |    Nom    | Forks | Étoiles |\n",
    "| ------------------------------------ | ------------ | ---: | ----: |\n",
    "| Traditionnel                         | `matplotlib` | 7900 | 21.2k |\n",
    "| Traditionnel                         | `seaborn`    | 2000 | 13.1k |\n",
    "| Grammaire des graphiques             | `plotnine`   |  233 |  4.2k |\n",
    "| Grammaire des graphiques interactifs | `altair`     |  805 |  9.8k |\n",
    "| Grammaire des graphiques interactifs | `bokeh`      | 4200 | 19.8k |\n",
    "| Grammaire des graphiques interactifs | `plotly`     | 2600 | 17.1k |\n",
    "| Spécialisé                           | `folium`     | 2200 |  7.1k |\n",
    "| Spécialisé                           | `geoplotlib` |  175 |  1.0k |"
   ]
  },
  {
   "cell_type": "markdown",
   "id": "c1c654d7-bc54-4d08-b135-8d95028ad87d",
   "metadata": {
    "lang": "en"
   },
   "source": [
    "|              Type               |     Name     | Forks | Stars |\n",
    "| ------------------------------- | ------------ | ----: | ----: |\n",
    "| Traditional                     | `matplotlib` |  7900 | 21.2k |\n",
    "| Traditional                     | `seaborn`    |  2000 | 13.1k |\n",
    "| Grammar of graphics             | `plotnine`   |   233 |  4.2k |\n",
    "| Grammar of interactive graphics | `altair`     |   805 |  9.8k |\n",
    "| Grammar of interactive graphics | `bokeh`      |  4200 | 19.8k |\n",
    "| Grammar of interactive graphics | `plotly`     |  2600 | 17.1k |\n",
    "| Specialized                     | `folium`     |  2200 |  7.1k |\n",
    "| Specialized                     | `geoplotlib` |   175 |  1.0k |"
   ]
  },
  {
   "cell_type": "code",
   "execution_count": null,
   "id": "bcc4c3f0-947d-46fc-a654-560044030295",
   "metadata": {},
   "outputs": [],
   "source": []
  }
 ],
 "metadata": {
  "kernelspec": {
   "display_name": "Python 3 (ipykernel)",
   "language": "python",
   "name": "python3"
  },
  "language_info": {
   "codemirror_mode": {
    "name": "ipython",
    "version": 3
   },
   "file_extension": ".py",
   "mimetype": "text/x-python",
   "name": "python",
   "nbconvert_exporter": "python",
   "pygments_lexer": "ipython3",
   "version": "3.11.7"
  }
 },
 "nbformat": 4,
 "nbformat_minor": 5
}
