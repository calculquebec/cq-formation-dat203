{
 "cells": [
  {
   "cell_type": "markdown",
   "id": "2f2627b0-84c6-4139-b855-82a8899ade8d",
   "metadata": {
    "lang": "fr"
   },
   "source": [
    "# Visualisation de données en Python\n",
    "## Introduction à Altair\n",
    "\n",
    "Question\n",
    "* Comment faire des graphiques modernes et interactifs?\n",
    "\n",
    "Objectif\n",
    "* Comprendre les éléments de base d'une grammaire des graphiques.\n",
    "* Créer un premier objet `alt.Chart`.\n",
    "* Sauvegarder une figure en image ou en version interactive."
   ]
  },
  {
   "cell_type": "markdown",
   "id": "bbf3417c-27bb-404c-bb0b-1827b00f59f5",
   "metadata": {
    "lang": "en"
   },
   "source": [
    "# Data Visualization in Python\n",
    "## Introduction to Altair\n",
    "\n",
    "Question\n",
    "* How to create modern and interactive plots?\n",
    "\n",
    "Objective\n",
    "* Understanding the basics of a grammar of graphics.\n",
    "* Create a first `alt.Chart` object.\n",
    "* Save a figure as an image or as an interactive version."
   ]
  },
  {
   "cell_type": "code",
   "execution_count": null,
   "id": "677c96a3-3573-4541-be5e-2ce3cfc8c521",
   "metadata": {
    "lang": "fr"
   },
   "outputs": [],
   "source": [
    "import pandas as pd\n",
    "\n",
    "# Charger les données nettoyées\n",
    "surveys_complet = pd.read_csv('../data/surveys_0_NA.csv')\n",
    "surveys_complet"
   ]
  },
  {
   "cell_type": "code",
   "execution_count": null,
   "id": "bf8ac910-115c-4c4e-9dd2-bf00dddf9bc4",
   "metadata": {
    "lang": "en"
   },
   "outputs": [],
   "source": [
    "import pandas as pd\n",
    "\n",
    "# Load the cleaned data\n",
    "surveys_complete = pd.read_csv('../data/surveys_0_NA.csv')\n",
    "surveys_complete"
   ]
  },
  {
   "cell_type": "markdown",
   "id": "6f09104d-770f-4ac6-a4fa-eafb7c0d3033",
   "metadata": {
    "lang": "fr"
   },
   "source": [
    "## Grammaire des graphiques\n",
    "* Introduite par Leland Wilkinson au début de la décennie 1990.\n",
    "* Langage commun et structuré pour décrire et\n",
    "  comprendre les aspects variés de toute visualisation.\n",
    "\n",
    "Vidéo explicative intéressante :\n",
    "\n",
    "[![YouTube - A Grammar of Graphics](https://img.youtube.com/vi/RCaFBJWXfZc/default.jpg)](https://www.youtube.com/watch?v=RCaFBJWXfZc)"
   ]
  },
  {
   "cell_type": "markdown",
   "id": "2ceb879e-7821-4125-8078-94be632ca762",
   "metadata": {
    "lang": "en"
   },
   "source": [
    "## Grammar of graphics\n",
    "* Introduced by Leland Wilkinson at the beginning of the 1990s.\n",
    "* A common, structured language for describing and\n",
    "  understanding the various aspects of any visualization.\n",
    "\n",
    "Interesting explanatory video:\n",
    "\n",
    "[![YouTube - A Grammar of Graphics](https://img.youtube.com/vi/RCaFBJWXfZc/default.jpg)](https://www.youtube.com/watch?v=RCaFBJWXfZc)"
   ]
  },
  {
   "cell_type": "markdown",
   "id": "3b8f71c6-0434-48b0-bb65-df0df93adcfb",
   "metadata": {
    "lang": "fr"
   },
   "source": [
    "### Sept éléments centraux\n",
    "1. Données\n",
    "   * Qu’est-ce qu’on représente.\n",
    "2. Esthétique\n",
    "   * Comment on le représente.\n",
    "3. Système de coordonnées\n",
    "   * Comment on positionne nos données.\n",
    "4. Échelle\n",
    "   * Comment on passe de la donnée à la représentation esthétique.\n",
    "5. Objets géométriques\n",
    "   * Quel type d’objet géométrique on utilise.\n",
    "6. Statistiques\n",
    "   * Comment on calcule/modifie les données.\n",
    "      * Par exemple, un comptage, des quartiles,\n",
    "        des droites de régression, etc.\n",
    "7. Facettes\n",
    "   * Comment on divise nos données en plusieurs jeux ou graphiques."
   ]
  },
  {
   "cell_type": "markdown",
   "id": "1c4ef19e-3193-499a-80c5-6c75baceb59b",
   "metadata": {
    "lang": "en"
   },
   "source": [
    "### Seven central elements\n",
    "1. Data\n",
    "   * What do we represent.\n",
    "2. Aesthetic\n",
    "   * How we represent it.\n",
    "3. Coordinate system\n",
    "   * How we position our data.\n",
    "4. Scale\n",
    "   * How we move from data to aesthetic representation.\n",
    "5. Geometric objects\n",
    "   * What type of geometric object is used?\n",
    "6. Statistics\n",
    "   * How data is calculated/modified.\n",
    "      * For example, the count, quartiles, regression lines, etc.\n",
    "7. Facets\n",
    "   * How we divide our data into multiple sets or graphs."
   ]
  },
  {
   "cell_type": "markdown",
   "id": "df771a74-250f-40f1-af6b-42954971cc17",
   "metadata": {
    "lang": "en,fr"
   },
   "source": [
    "![Facets by year and sex](../images/facet-year-sex.png)"
   ]
  },
  {
   "cell_type": "markdown",
   "id": "3893b595-37a6-4c6c-86fc-dd0e12eec63c",
   "metadata": {
    "lang": "fr"
   },
   "source": [
    "Dans la figure ci-dessus, on a :\n",
    "1. Données\n",
    "   * Variables `weight`, `hindfoot_length`, `species_id`\n",
    "   * Répartition des données par `year` et par `sex`\n",
    "2. Esthétique\n",
    "   * Position selon `hindfoot_length` et `weight`\n",
    "   * Couleur selon `species_id`\n",
    "3. Système de coordonnées\n",
    "   * Système cartésien\n",
    "      * Deux axes : X et Y\n",
    "4. Échelle\n",
    "   * X (`hindfoot_length`) : de 0 à 65\n",
    "   * Y (`weight`) : de 4 à 512\n",
    "      * Échelle logarithmique en base 2\n",
    "   * Couleurs (`species_id`) : bleu, orange, rouge, etc.\n",
    "5. Objets géométriques\n",
    "   * Cercles semi-transparents\n",
    "6. Statistiques\n",
    "   * Données représentées telles quelles, sans transformation\n",
    "7. Facettes\n",
    "   * Facettes par `year` et par `sex`"
   ]
  },
  {
   "cell_type": "markdown",
   "id": "8cc00f1b-239d-41b6-b12f-f10baaeb3c5d",
   "metadata": {
    "lang": "en"
   },
   "source": [
    "In the above figure, we have:\n",
    "1. Data\n",
    "   * Fields: `weight`, `hindfoot_length`, `species_id`\n",
    "   * Data distribution by `year` and by `sex`\n",
    "2. Aesthetic\n",
    "   * Position according to `hindfoot_length` and `weight`\n",
    "   * Color according to `species_id`\n",
    "3. Coordinate system\n",
    "   * Cartesian coordinate system\n",
    "      * Two axes: X and Y\n",
    "4. Scale\n",
    "   * X (`hindfoot_length`): from 0 to 65\n",
    "   * Y (`weight`): from 4 to 512\n",
    "      * Logarithmic scale to base 2\n",
    "   * Colors (`species_id`): blue, orange, red, etc.\n",
    "5. Geometric objects\n",
    "   * Semi-transparent circles\n",
    "6. Statistics\n",
    "   * Data represented as is, without transformation\n",
    "7. Facets\n",
    "   * Facets by `year` and by `sex`"
   ]
  },
  {
   "cell_type": "markdown",
   "id": "860c926c-5d1d-482b-a69b-cebf7c840c13",
   "metadata": {
    "lang": "fr"
   },
   "source": [
    "### Grammaire des graphiques interactifs\n",
    "Ajout d’éléments d’interaction par-dessus la grammaire des graphiques\n",
    "* Événements\n",
    "  * Clic sur un élément ou à proximité\n",
    "  * Survol d'un élément\n",
    "  * Déplacement\n",
    "  * Zoom\n",
    "* Sélection \n",
    "  * Qu’est-ce qui est sélectionné: point, région, sous-ensemble\n",
    "* Actions\n",
    "  * Qu’est-ce qui se produit\n",
    "\n",
    "Voici une vidéo à ce sujet :\n",
    "\n",
    "[![YouTube - Vega-Lite - A grammar of Interactive Graphics](https://img.youtube.com/vi/rydth27fB3Q/default.jpg)](https://www.youtube.com/watch?v=rydth27fB3Q)"
   ]
  },
  {
   "cell_type": "markdown",
   "id": "46d9d3c8-d72c-47c7-a03a-76974eb49bda",
   "metadata": {
    "lang": "en"
   },
   "source": [
    "### Grammar of interactive graphics\n",
    "Adding interaction elements on top of the grammar of graphics\n",
    "* Events\n",
    "  * Click on or near an item\n",
    "  * Hovering over an item\n",
    "  * Shift\n",
    "  * Zoom\n",
    "* Selection \n",
    "  * What is selected: point, region, subset\n",
    "* Actions\n",
    "  * What happens to the chart\n",
    "\n",
    "Here is a video about it:\n",
    "\n",
    "[![YouTube - Vega-Lite - A grammar of Interactive Graphics](https://img.youtube.com/vi/rydth27fB3Q/default.jpg)](https://www.youtube.com/watch?v=rydth27fB3Q)"
   ]
  },
  {
   "cell_type": "markdown",
   "id": "5bb679b3-7f87-4271-ac82-7fd5ce8176f6",
   "metadata": {
    "lang": "fr"
   },
   "source": [
    "## Bibliothèques de visualisation\n",
    "Plusieurs bibliothèques de visualisation se basent explicitement\n",
    "sur la grammaire des graphiques dans leur design :\n",
    "* **R** : ggplot\n",
    "* **JavaScript** : Vega-Lite, nd3\n",
    "* **En Python** : Altair, Bokeh, Plotly, Plotnine, Seaborn (>0.12)\n",
    "\n",
    "Quelle bibliothèque Python choisir?\n",
    "* Selon le type de bibliothèque dont vous avez besoin.\n",
    "* Selon ce qui est populaire dans votre domaine de recherche."
   ]
  },
  {
   "cell_type": "markdown",
   "id": "087686c8-7964-45cd-ac80-9104b5db3586",
   "metadata": {
    "lang": "en"
   },
   "source": [
    "## Visualization Libraries\n",
    "Several visualization libraries explicitly rely\n",
    "on the grammar of graphics in their design:\n",
    "* **R** : ggplot\n",
    "* **JavaScript** : Vega-Lite, nd3\n",
    "* **Python** : Altair, Bokeh, Plotly, Plotnine, Seaborn (>0.12)\n",
    "\n",
    "Which Python library to choose?\n",
    "* Depending on the type of library you need.\n",
    "* Depending on what is popular in your research area."
   ]
  },
  {
   "cell_type": "markdown",
   "id": "a53a08dc-dbde-4d59-a505-ef2dc375cc12",
   "metadata": {
    "lang": "fr"
   },
   "source": [
    "|                 Type                 |    Nom    | Forks | Étoiles |\n",
    "| ------------------------------------ | ------------ | ---: | ----: |\n",
    "| Traditionnel                         | `matplotlib` | 7900 | 21.2k |\n",
    "| Traditionnel                         | `seaborn`    | 2000 | 13.1k |\n",
    "| Grammaire des graphiques             | `plotnine`   |  233 |  4.2k |\n",
    "| Grammaire des graphiques interactifs | `altair`     |  805 |  9.8k |\n",
    "| Grammaire des graphiques interactifs | `bokeh`      | 4200 | 19.8k |\n",
    "| Grammaire des graphiques interactifs | `plotly`     | 2600 | 17.1k |\n",
    "| Spécialisé                           | `folium`     | 2200 |  7.1k |\n",
    "| Spécialisé                           | `geoplotlib` |  175 |  1.0k |"
   ]
  },
  {
   "cell_type": "markdown",
   "id": "c1c654d7-bc54-4d08-b135-8d95028ad87d",
   "metadata": {
    "lang": "en"
   },
   "source": [
    "|              Type               |     Name     | Forks | Stars |\n",
    "| ------------------------------- | ------------ | ----: | ----: |\n",
    "| Traditional                     | `matplotlib` |  7900 | 21.2k |\n",
    "| Traditional                     | `seaborn`    |  2000 | 13.1k |\n",
    "| Grammar of graphics             | `plotnine`   |   233 |  4.2k |\n",
    "| Grammar of interactive graphics | `altair`     |   805 |  9.8k |\n",
    "| Grammar of interactive graphics | `bokeh`      |  4200 | 19.8k |\n",
    "| Grammar of interactive graphics | `plotly`     |  2600 | 17.1k |\n",
    "| Specialized                     | `folium`     |  2200 |  7.1k |\n",
    "| Specialized                     | `geoplotlib` |   175 |  1.0k |"
   ]
  },
  {
   "cell_type": "markdown",
   "id": "31aa06a0-520b-4856-b43d-eb003392de42",
   "metadata": {
    "lang": "fr"
   },
   "source": [
    "### Pourquoi `altair`? Pourquoi pas `matplotlib`?\n",
    "\n",
    "Bien que `matplotlib` soit une bibliothèque de visualisation\n",
    "largement répandue et relativement flexible, la programmation\n",
    "des graphiques n'est pas aussi intuitive qu'avec `altair`.\n",
    "De plus, [la bibliothèque](https://altair-viz.github.io/index.html)\n",
    "`altair` permet de créer facilement des \n",
    "[graphiques interactifs](https://vega.github.io/vega-lite/) et\n",
    "hautement informatifs tout en s'intégrant bien avec Pandas.\n",
    "\n",
    "Nous verrons différents concepts de visualisation qui peuvent être\n",
    "reproduits plus ou moins facilement avec d'autres bibliothèques\n",
    "telles que `matplotlib`, `plotnine`, `plotly` et `seaborn`."
   ]
  },
  {
   "cell_type": "markdown",
   "id": "89834ab9-0c89-4632-9a06-1ab0e0f8d6a3",
   "metadata": {
    "lang": "en"
   },
   "source": [
    "### Why `altair`? Why not `matplotlib`?\n",
    "\n",
    "While `matplotlib` is a widely used and quite flexible\n",
    "visualization library, the plots programming is not\n",
    "as intuitive as with `altair`. Moreover, the `altair`\n",
    "[library](https://altair-viz.github.io/index.html)\n",
    "facilitates the creation of highly informative\n",
    "[interactive graphics](https://vega.github.io/vega-lite/)\n",
    "from data stored in Pandas objects.\n",
    "\n",
    "We will see different visualization concepts that can\n",
    "be reproduced more or less easily with other libraries\n",
    "such as `matplotlib`, `plotnine`, `plotly` and `seaborn`."
   ]
  },
  {
   "cell_type": "code",
   "execution_count": null,
   "id": "9e2605de-8993-4451-9dd2-52353286b8ab",
   "metadata": {
    "lang": "en,fr"
   },
   "outputs": [],
   "source": [
    "import altair as alt"
   ]
  },
  {
   "cell_type": "markdown",
   "id": "12f9e7a4-fd50-4935-9af4-2862c861a140",
   "metadata": {
    "lang": "fr"
   },
   "source": [
    "Étant donné que les graphiques générés par Altair ne sont pas que des\n",
    "images statiques, l'information générée est parfois très lourde et\n",
    "elle s'accumule dans le notebook s'il y a plusieurs graphiques.\n",
    "Néanmoins, pour contourner la limite de 5000 lignes dans le DataFrame\n",
    "de données, on peut désactiver cette limite, à nos risques."
   ]
  },
  {
   "cell_type": "markdown",
   "id": "7ab60119-1fd8-4d1b-af43-cd768e278f2c",
   "metadata": {
    "lang": "en"
   },
   "source": [
    "Because the charts generated by Altair are not just static\n",
    "images, the generated information can be quite heavy and\n",
    "it accumulates if there are multiple plots in a notebook.\n",
    "By default, Altair processes DataFrames of up to 5000 records,\n",
    "but we can disable that limit to our own risks."
   ]
  },
  {
   "cell_type": "code",
   "execution_count": null,
   "id": "8ccfa82e-6032-42fe-82d7-77b447234589",
   "metadata": {
    "lang": "en,fr"
   },
   "outputs": [],
   "source": [
    "alt.data_transformers.disable_max_rows()"
   ]
  },
  {
   "cell_type": "markdown",
   "id": "fdc7a5ff-7fad-4afe-97c4-14624ca2daad",
   "metadata": {
    "lang": "fr"
   },
   "source": [
    "## Générer des graphiques avec `altair`\n",
    "Les graphiques `altair` sont construits étape par étape à partir\n",
    "d'un objet de type `Chart`:\n",
    "* **Création du graphique** - La première méthode obligatoire débute\n",
    "  par `mark_`. Par exemple, `mark_point()`.\n",
    "  À ce stade, c'est normal que tout soit concentré en un point."
   ]
  },
  {
   "cell_type": "markdown",
   "id": "6c4eabb8-fe1c-4e82-b7d7-e5aa55cdbb83",
   "metadata": {
    "lang": "en"
   },
   "source": [
    "## Plotting with `altair`\n",
    "`altair` charts are built step by step from\n",
    "a `Chart` object constructed with a DataFrame:\n",
    "* **Choosing the type of chart** -\n",
    "  The first mandatory method starts with `mark_`.\n",
    "  For example, `mark_point()`.\n",
    "  By default, all points are overlapping and this is normal."
   ]
  },
  {
   "cell_type": "code",
   "execution_count": null,
   "id": "197d15a8-307d-46ac-bcb4-c5a77baa92ad",
   "metadata": {
    "lang": "fr"
   },
   "outputs": [],
   "source": [
    "# Création de l'objet Chart et choix du type de graphique\n",
    "alt.Chart(surveys_complet).mark_point()"
   ]
  },
  {
   "cell_type": "code",
   "execution_count": null,
   "id": "26eb2d44-3d9d-435a-b1dc-afa9bdfbbdba",
   "metadata": {
    "lang": "en"
   },
   "outputs": [],
   "source": [
    "# New Chart object and choice of type of chart\n",
    "alt.Chart(surveys_complete).mark_point()"
   ]
  },
  {
   "cell_type": "markdown",
   "id": "51287c78-7788-4e12-a398-203f27520fab",
   "metadata": {
    "lang": "fr"
   },
   "source": [
    "* **Encodage des canaux** - La prochaine étape consiste à\n",
    "  [encoder](https://altair-viz.github.io/user_guide/encodings/)\n",
    "  des canaux liant certaines variables du DataFrame à divers éléments\n",
    "  du graphiques. Les principaux paramètres de `encode()` sont :\n",
    "  `x`, `y`, `color`, `shape` et `size`."
   ]
  },
  {
   "cell_type": "markdown",
   "id": "4bc745e5-2c66-4fa6-9241-4cf676e29e16",
   "metadata": {
    "lang": "en"
   },
   "source": [
    "* **Encoding channels** - Then we need to\n",
    "  [encode](https://altair-viz.github.io/user_guide/encodings/)\n",
    "  channels that are linking some fields of the DataFrame to\n",
    "  elements of the chart. The main parameters of `encode()` are:\n",
    "  `x`, `y`, `color`, `shape` and `size`."
   ]
  },
  {
   "cell_type": "code",
   "execution_count": null,
   "id": "e20e061d-07cb-4ff7-bb86-3adf5a019d40",
   "metadata": {
    "lang": "fr"
   },
   "outputs": [],
   "source": [
    "# Définition des axes ; les points prennent leur position\n",
    "alt.Chart(surveys_complet).mark_point().encode(\n",
    "    x=alt.X('hindfoot_length'),\n",
    "    y=alt.Y('weight'),\n",
    ")"
   ]
  },
  {
   "cell_type": "code",
   "execution_count": null,
   "id": "ee3f6431-a0a5-4f80-9230-d82b67413b7c",
   "metadata": {
    "lang": "en"
   },
   "outputs": [],
   "source": [
    "# Once the axises are defined, the points take their position\n",
    "alt.Chart(surveys_complete).mark_point().encode(\n",
    "    x=alt.X('hindfoot_length'),\n",
    "    y=alt.Y('weight'),\n",
    ")"
   ]
  },
  {
   "cell_type": "markdown",
   "id": "474abfd3-0dc7-4b72-9b43-3d96500f0657",
   "metadata": {
    "lang": "fr"
   },
   "source": [
    "* **Navigation interactive** - On peut ensuite rendre le graphique\n",
    "  interactif, ce qui permet de naviguer dans le graphique à l'aide\n",
    "  de la souris."
   ]
  },
  {
   "cell_type": "markdown",
   "id": "cb8f2018-1277-487c-b8d7-b7ab43c5299a",
   "metadata": {
    "lang": "en"
   },
   "source": [
    "* **Interactive navigation** - When a chart is made _interactive_,\n",
    "  it allows to zoom in & out, and to drag the chart with the mouse."
   ]
  },
  {
   "cell_type": "code",
   "execution_count": null,
   "id": "1f298b7d-67c2-424a-a6f8-3d0decaf8c87",
   "metadata": {
    "lang": "fr"
   },
   "outputs": [],
   "source": [
    "# Permettre les interactions avec la souris\n",
    "alt.Chart(surveys_complet).mark_point().encode(\n",
    "    x=alt.X('hindfoot_length'),\n",
    "    y=alt.Y('weight'),\n",
    ").interactive()"
   ]
  },
  {
   "cell_type": "code",
   "execution_count": null,
   "id": "8cbd57a5-8ad6-4f73-bbb3-e2b867f8f3e5",
   "metadata": {
    "lang": "en"
   },
   "outputs": [],
   "source": [
    "# Enable interactions with the mouse\n",
    "alt.Chart(surveys_complete).mark_point().encode(\n",
    "    x=alt.X('hindfoot_length'),\n",
    "    y=alt.Y('weight'),\n",
    ").interactive()"
   ]
  },
  {
   "cell_type": "markdown",
   "id": "8cda61eb-e7f6-4815-9d0d-33f86e441598",
   "metadata": {
    "lang": "fr"
   },
   "source": [
    "* **Colonnes temporaires** - Pour ajouter du bruit,\n",
    "  on peut se créer des colonnes temporaires avec\n",
    "  [`transform_calculate()`](https://altair-viz.github.io/user_guide/transform/calculate.html).\n",
    "  Cependant, il faut spécifier explicitement\n",
    "  [le type donnée](https://altair-viz.github.io/user_guide/encodings/index.html#encoding-data-types)."
   ]
  },
  {
   "cell_type": "markdown",
   "id": "2946bd5d-8c09-4dfb-b6bc-630ba4d2de5d",
   "metadata": {
    "lang": "en"
   },
   "source": [
    "* **Temporary columns** - To add some noise,\n",
    "  we can create temporary columns with\n",
    "  [`transform_calculate()`](https://altair-viz.github.io/user_guide/transform/calculate.html).\n",
    "  Once done, we have to specify\n",
    "  [the data type](https://altair-viz.github.io/user_guide/encodings/index.html#encoding-data-types)."
   ]
  },
  {
   "cell_type": "code",
   "execution_count": null,
   "id": "f994ae3e-5860-40e9-b907-783af5493d6f",
   "metadata": {
    "lang": "fr"
   },
   "outputs": [],
   "source": [
    "# Colonnes temporaires avec du bruit\n",
    "alt.Chart(surveys_complet).transform_calculate(\n",
    "    longueur_bruitee='datum.hindfoot_length + random() - 0.5',\n",
    "    poids_bruite='datum.weight + random() - 0.5',\n",
    ").mark_point().encode(\n",
    "    x=alt.X('longueur_bruitee').type('quantitative'),\n",
    "    y=alt.Y('poids_bruite').type('quantitative'),\n",
    ").interactive()"
   ]
  },
  {
   "cell_type": "code",
   "execution_count": null,
   "id": "a1e42c64-8a1a-4413-b0ac-af07c2eade92",
   "metadata": {
    "lang": "en"
   },
   "outputs": [],
   "source": [
    "# Temporary columns with noise\n",
    "alt.Chart(surveys_complete).transform_calculate(\n",
    "    noisy_length='datum.hindfoot_length + random() - 0.5',\n",
    "    noisy_weight='datum.weight + random() - 0.5',\n",
    ").mark_point().encode(\n",
    "    x=alt.X('noisy_length').type('quantitative'),\n",
    "    y=alt.Y('noisy_weight').type('quantitative'),\n",
    ").interactive()"
   ]
  },
  {
   "cell_type": "markdown",
   "id": "54f77152-180a-4891-a715-1113f7c2c9ab",
   "metadata": {
    "lang": "fr"
   },
   "source": [
    "* **Affichage interactif des valeurs** - Encoder le canal `tooltip`\n",
    "  avec une liste de variables à afficher au passage de la souris."
   ]
  },
  {
   "cell_type": "markdown",
   "id": "e2880037-ab67-4c90-adc4-27d33bd35f0f",
   "metadata": {
    "lang": "en"
   },
   "source": [
    "* **Having values displayed interactively** -\n",
    "  Encode the `tooltip` channel with a list of\n",
    "  fields to display when moving the mouse pointer."
   ]
  },
  {
   "cell_type": "code",
   "execution_count": null,
   "id": "663c2d20-4ae0-4700-92ff-3a3a6336928c",
   "metadata": {
    "lang": "fr"
   },
   "outputs": [],
   "source": [
    "# Permettre de voir les valeurs associées aux points\n",
    "graphique = alt.Chart(surveys_complet).transform_calculate(\n",
    "    longueur_bruitee='datum.hindfoot_length + random() - 0.5',\n",
    "    poids_bruite='datum.weight + random() - 0.5',\n",
    ").mark_point().encode(\n",
    "    x=alt.X('longueur_bruitee').type('quantitative'),\n",
    "    y=alt.Y('poids_bruite').type('quantitative'),\n",
    "    tooltip=['plot_id', 'species_id', 'hindfoot_length', 'weight'],\n",
    ").interactive()\n",
    "graphique"
   ]
  },
  {
   "cell_type": "code",
   "execution_count": null,
   "id": "36294963-00fb-4856-9856-0e0fba81ddcc",
   "metadata": {
    "lang": "en"
   },
   "outputs": [],
   "source": [
    "# Display values of selected fields when moving the mouse\n",
    "chart = alt.Chart(surveys_complete).transform_calculate(\n",
    "    noisy_length='datum.hindfoot_length + random() - 0.5',\n",
    "    noisy_weight='datum.weight + random() - 0.5',\n",
    ").mark_point().encode(\n",
    "    x=alt.X('noisy_length').type('quantitative'),\n",
    "    y=alt.Y('noisy_weight').type('quantitative'),\n",
    "    tooltip=['plot_id', 'species_id', 'hindfoot_length', 'weight'],\n",
    ").interactive()\n",
    "chart"
   ]
  },
  {
   "cell_type": "markdown",
   "id": "c20e7391-d0a0-4347-963c-35cc1f03068b",
   "metadata": {
    "lang": "fr"
   },
   "source": [
    "* **Sauvegarde du graphique** - C'est possible de le sauvegarder dans\n",
    "  le [format de notre choix](https://altair-viz.github.io/user_guide/saving_charts.html)."
   ]
  },
  {
   "cell_type": "markdown",
   "id": "13f75cad-8f65-47fc-97c5-7670716f9c2a",
   "metadata": {
    "lang": "en"
   },
   "source": [
    "* **Saving the figure** - It is possible to save the chart in the\n",
    "  [format of our choice](https://altair-viz.github.io/user_guide/saving_charts.html)."
   ]
  },
  {
   "cell_type": "code",
   "execution_count": null,
   "id": "d1e06907-929a-4a69-92cf-b277400b908e",
   "metadata": {
    "lang": "fr"
   },
   "outputs": [],
   "source": [
    "graphique.save('poids_longueur.html')"
   ]
  },
  {
   "cell_type": "code",
   "execution_count": null,
   "id": "5640209f-84eb-43ad-9c4c-89db354df133",
   "metadata": {
    "lang": "en"
   },
   "outputs": [],
   "source": [
    "chart.save('weight_length.html')"
   ]
  },
  {
   "cell_type": "code",
   "execution_count": null,
   "id": "fe023ad2-af19-420f-9b8f-a07e8c614242",
   "metadata": {
    "lang": "fr"
   },
   "outputs": [],
   "source": [
    "# Autres formats : PDF (plus lourd), PNG, SVG\n",
    "try:\n",
    "    graphique.save('poids_longueur.png')\n",
    "    graphique.save('poids_longueur.svg')\n",
    "except BaseException as err:\n",
    "    print('Erreur:', err)\n",
    "    print('-> Il vaut mieux utiliser le bouton (•••)')"
   ]
  },
  {
   "cell_type": "code",
   "execution_count": null,
   "id": "27f611a1-9343-4b08-8347-4fb2dd728344",
   "metadata": {
    "lang": "en"
   },
   "outputs": [],
   "source": [
    "# Other formats: PDF (heavier), PNG, SVG\n",
    "try:\n",
    "    chart.save('weight_length.png')\n",
    "    chart.save('weight_length.svg')\n",
    "except BaseException as err:\n",
    "    print('Error:', err)\n",
    "    print('-> We better use the (•••) button')"
   ]
  },
  {
   "cell_type": "markdown",
   "id": "cf50ff3e-2b11-42ac-b6c5-b8e9b0188391",
   "metadata": {
    "lang": "fr"
   },
   "source": [
    "### Exercice - Créer un graphique à barres\n",
    "À partir du DataFrame `surveys_complet`, faites afficher le\n",
    "décompte du nombre d'enregistrements pour chaque `plot_id`. Instructions :\n",
    "* Utilisez\n",
    "  [`mark_bar()`](https://altair-viz.github.io/gallery/simple_bar_chart.html)\n",
    "  pour générer\n",
    "  [le graphique](https://altair-viz.github.io/gallery/simple_histogram.html)\n",
    "* Sur l'axe horizontal, spécifiez la variable `'plot_id'` et le\n",
    "  [type `'ordinal'`](https://altair-viz.github.io/user_guide/encodings/#encoding-data-types)\n",
    "* Sur l'axe vertical, spécifiez `'count()'` comme variable pour que\n",
    "  Altair fasse automatiquement le décompte, ce qui évite de passer\n",
    "  par la méthode `groupby()` du DataFrame\n",
    "* Activez le canal `tooltip` avec `'count()'` pour avoir le décompte\n",
    "\n",
    "(7 min.)"
   ]
  },
  {
   "cell_type": "markdown",
   "id": "d6adb496-baaa-43ac-b3d9-2d4f1900e799",
   "metadata": {
    "lang": "en"
   },
   "source": [
    "### Exercise - Create a bar chart\n",
    "From the `surveys_complete` DataFrame, create an histogram that\n",
    "shows the count of records for each `plot_id`. Instructions:\n",
    "* Use\n",
    "  [`mark_bar()`](https://altair-viz.github.io/gallery/simple_bar_chart.html)\n",
    "  to generate the\n",
    "  [chart](https://altair-viz.github.io/gallery/simple_histogram.html)\n",
    "* For the X axis, specify the `'plot_id'` field and the\n",
    "  [`'ordinal'` type](https://altair-viz.github.io/user_guide/encodings/#encoding-data-types)\n",
    "* For the Y axis, specify `'count()'` as a temporary field computed\n",
    "  automatically by Altair, which saves us from using `groupby()`\n",
    "* Activate the `tooltip` channel with `'count()'`\n",
    "\n",
    "(7 min.)"
   ]
  },
  {
   "cell_type": "code",
   "execution_count": null,
   "id": "04f0ee70-660a-43b1-a531-153890bd1ef7",
   "metadata": {
    "lang": "fr",
    "tags": [
     "soln"
    ]
   },
   "outputs": [],
   "source": [
    "alt.Chart(surveys_complet).mark_bar().encode(\n",
    "    x=alt.X('plot_id').type('ordinal'),\n",
    "    y=alt.Y('count()'),\n",
    "    tooltip=['count()'],\n",
    ")"
   ]
  },
  {
   "cell_type": "code",
   "execution_count": null,
   "id": "91ef9b5f-ea01-4512-8f81-c33e7718570c",
   "metadata": {
    "lang": "fr",
    "tags": [
     "exer"
    ]
   },
   "outputs": [],
   "source": [
    "###(surveys_complet)###\n",
    "    ###('plot_id').type('ordinal'),\n",
    "    ###('count()'),\n",
    "    ###['count()'],\n",
    ")"
   ]
  },
  {
   "cell_type": "code",
   "execution_count": null,
   "id": "899c3af6-7783-4ebd-aac2-9fe334f5d7e2",
   "metadata": {
    "lang": "en",
    "tags": [
     "soln"
    ]
   },
   "outputs": [],
   "source": [
    "alt.Chart(surveys_complete).mark_bar().encode(\n",
    "    x=alt.X('plot_id').type('ordinal'),\n",
    "    y=alt.Y('count()'),\n",
    "    tooltip=['count()'],\n",
    ")"
   ]
  },
  {
   "cell_type": "code",
   "execution_count": null,
   "id": "e5343b56-3820-4908-93e9-12455ea786ff",
   "metadata": {
    "lang": "en",
    "tags": [
     "exer"
    ]
   },
   "outputs": [],
   "source": [
    "###(surveys_complete)###\n",
    "    ###('plot_id').type('ordinal'),\n",
    "    ###('count()'),\n",
    "    ###['count()'],\n",
    ")"
   ]
  },
  {
   "cell_type": "code",
   "execution_count": null,
   "id": "bcc4c3f0-947d-46fc-a654-560044030295",
   "metadata": {},
   "outputs": [],
   "source": []
  }
 ],
 "metadata": {
  "kernelspec": {
   "display_name": "Python 3 (ipykernel)",
   "language": "python",
   "name": "python3"
  },
  "language_info": {
   "codemirror_mode": {
    "name": "ipython",
    "version": 3
   },
   "file_extension": ".py",
   "mimetype": "text/x-python",
   "name": "python",
   "nbconvert_exporter": "python",
   "pygments_lexer": "ipython3",
   "version": "3.11.7"
  }
 },
 "nbformat": 4,
 "nbformat_minor": 5
}
