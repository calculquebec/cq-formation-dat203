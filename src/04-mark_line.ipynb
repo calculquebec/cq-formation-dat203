{
 "cells": [
  {
   "cell_type": "markdown",
   "id": "76ca39b2-d847-4f94-9958-276f8ac45354",
   "metadata": {
    "lang": "fr"
   },
   "source": [
    "# Visualisation de données en Python\n",
    "## Visualiser des séries temporelles\n",
    "\n",
    "Question\n",
    "* Comment visualiser des données sous forme de courbes temporelles?\n",
    "\n",
    "Objectif\n",
    "* Créer différents types de graphiques."
   ]
  },
  {
   "cell_type": "markdown",
   "id": "29ae2738-d14b-4651-9d4b-67ce35da7ac3",
   "metadata": {
    "lang": "en"
   },
   "source": [
    "# Data Visualization in Python\n",
    "## Plotting time series data\n",
    "\n",
    "Question\n",
    "* How to visualize time series data with line plots?\n",
    "\n",
    "Objective\n",
    "* Create different types of plots."
   ]
  },
  {
   "cell_type": "code",
   "execution_count": null,
   "id": "05a0cce3-2c10-4e4b-a1c5-4e97ac075a09",
   "metadata": {},
   "outputs": [],
   "source": []
  }
 ],
 "metadata": {
  "kernelspec": {
   "display_name": "Python 3 (ipykernel)",
   "language": "python",
   "name": "python3"
  },
  "language_info": {
   "codemirror_mode": {
    "name": "ipython",
    "version": 3
   },
   "file_extension": ".py",
   "mimetype": "text/x-python",
   "name": "python",
   "nbconvert_exporter": "python",
   "pygments_lexer": "ipython3",
   "version": "3.11.7"
  }
 },
 "nbformat": 4,
 "nbformat_minor": 5
}
