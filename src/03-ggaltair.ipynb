{
 "cells": [
  {
   "cell_type": "markdown",
   "id": "f56081c4-fbee-415f-9d82-0025acf76967",
   "metadata": {
    "lang": "fr"
   },
   "source": [
    "# Visualisation de données en Python\n",
    "## Construire un graphique par étapes\n",
    "\n",
    "Question\n",
    "* Comment personnaliser un graphique selon la\n",
    "  *grammaire des graphiques* d'Altair?\n",
    "\n",
    "Objectifs\n",
    "* Configurer les couleurs des éléments d'un graphique.\n",
    "* Modifier l'échelle des axes.\n",
    "* Éditer le titre du graphique et le nom des axes."
   ]
  },
  {
   "cell_type": "markdown",
   "id": "570d9c02-de8e-4b2c-935f-151a18d51931",
   "metadata": {
    "lang": "en"
   },
   "source": [
    "# Data Visualization in Python\n",
    "## Building your plots iteratively\n",
    "\n",
    "Question\n",
    "* How to customize a chart by the\n",
    "  *grammar of graphics* of Altair?\n",
    "\n",
    "Objectives\n",
    "* Change the aesthetics of a plot such as color.\n",
    "* Change the scale of the axes.\n",
    "* Edit the plot title and the axis labels."
   ]
  },
  {
   "cell_type": "code",
   "execution_count": null,
   "id": "7857afdd-4536-4afd-a7ba-ee4d788b6263",
   "metadata": {
    "lang": "fr"
   },
   "outputs": [],
   "source": [
    "import pandas as pd\n",
    "\n",
    "# Charger les données nettoyées\n",
    "surveys_complet = pd.read_csv('../data/surveys_0_NA.csv')\n",
    "surveys_complet"
   ]
  },
  {
   "cell_type": "code",
   "execution_count": null,
   "id": "adbea2c8-6874-420d-a297-39b23ffee663",
   "metadata": {
    "lang": "en"
   },
   "outputs": [],
   "source": [
    "import pandas as pd\n",
    "\n",
    "# Load the cleaned data\n",
    "surveys_complete = pd.read_csv('../data/surveys_0_NA.csv')\n",
    "surveys_complete"
   ]
  },
  {
   "cell_type": "code",
   "execution_count": null,
   "id": "87382f94-0a7d-4e23-af03-ef28aa42780d",
   "metadata": {
    "lang": "en,fr"
   },
   "outputs": [],
   "source": [
    "import altair as alt\n",
    "alt.data_transformers.disable_max_rows()"
   ]
  },
  {
   "cell_type": "markdown",
   "id": "7ed731ff-aa96-45fd-9975-8aa1a8d757b8",
   "metadata": {
    "lang": "fr"
   },
   "source": [
    "## Construire un graphique par étapes\n",
    "Rappel : les éléments de base de tout graphique Altair sont\n",
    "le `Chart()` avec le DataFrame, un type de graphique `mark_*()`\n",
    "et des variables utilisées dans `encode()`.\n",
    "\n",
    "* Ensuite, on commence à modifier le graphique pour en extraire\n",
    "  davantage d'information. Par exemple, avec de la transparence :"
   ]
  },
  {
   "cell_type": "markdown",
   "id": "3d2b786d-4767-46bf-a53e-a552137f0364",
   "metadata": {
    "lang": "en"
   },
   "source": [
    "## Building your plots iteratively\n",
    "Reminder: every Altair charts are `Chart()`\n",
    "objects constructed with a DataFrame.\n",
    "Then, a `mark_*()` method is called to specify the\n",
    "type of chart, and some data fields are assigned\n",
    "to encoding channels via the `encode()` method.\n",
    "\n",
    "* We can then modify the chart in order to display more information.\n",
    "  For example, with transparency:"
   ]
  },
  {
   "cell_type": "code",
   "execution_count": null,
   "id": "f67f6000-ada9-4d05-afef-035ac9361ac4",
   "metadata": {
    "lang": "fr"
   },
   "outputs": [],
   "source": [
    "alt.Chart(surveys_complet).mark_point().encode(\n",
    "    x=alt.X('hindfoot_length'),\n",
    "    y=alt.Y('weight'),\n",
    ").configure_mark(\n",
    "    opacity=0.05,\n",
    ")"
   ]
  },
  {
   "cell_type": "code",
   "execution_count": null,
   "id": "799324e4-970b-49e0-a50a-83d40b569a26",
   "metadata": {
    "lang": "en"
   },
   "outputs": [],
   "source": [
    "alt.Chart(surveys_complete).mark_point().encode(\n",
    "    x=alt.X('hindfoot_length'),\n",
    "    y=alt.Y('weight'),\n",
    ").configure_mark(\n",
    "    opacity=0.05,\n",
    ")"
   ]
  },
  {
   "cell_type": "markdown",
   "id": "dd840d1d-0ca3-4b0d-a4e9-d4ba5417c9c8",
   "metadata": {
    "lang": "fr"
   },
   "source": [
    "* Pour avoir une couleur différente pour chaque type d'espèce,\n",
    "  il faut lier la variable `species_id` au canal `color` :"
   ]
  },
  {
   "cell_type": "markdown",
   "id": "a3ca8a58-0c00-4457-bb3d-c963ff2ddde6",
   "metadata": {
    "lang": "en"
   },
   "source": [
    "* To get a unique color per species, we need to encode\n",
    "  the `species_id` field to the `color` channel:"
   ]
  },
  {
   "cell_type": "code",
   "execution_count": null,
   "id": "7ceb950e-04f7-4fb4-ae3a-485acb57e3c5",
   "metadata": {
    "lang": "fr"
   },
   "outputs": [],
   "source": [
    "alt.Chart(surveys_complet).mark_point().encode(\n",
    "    x=alt.X('hindfoot_length'),\n",
    "    y=alt.Y('weight'),\n",
    "    color=alt.Color('species_id'),\n",
    ").configure_mark(\n",
    "    opacity=0.05,\n",
    ")"
   ]
  },
  {
   "cell_type": "code",
   "execution_count": null,
   "id": "7cd73d2f-c079-4c15-a7cb-4685fdfb5464",
   "metadata": {
    "lang": "en"
   },
   "outputs": [],
   "source": [
    "alt.Chart(surveys_complete).mark_point().encode(\n",
    "    x=alt.X('hindfoot_length'),\n",
    "    y=alt.Y('weight'),\n",
    "    color=alt.Color('species_id'),\n",
    ").configure_mark(\n",
    "    opacity=0.05,\n",
    ")"
   ]
  },
  {
   "cell_type": "markdown",
   "id": "1d54df6e-5343-4daa-a71e-5a8498b0e6c3",
   "metadata": {
    "lang": "fr"
   },
   "source": [
    "* Étant donné la similarité de certaines couleurs, on peut ensuite\n",
    "  activer les `tooltip` avec les identifiants de `species_id` :"
   ]
  },
  {
   "cell_type": "markdown",
   "id": "e2f0670e-1d36-4825-b1af-ae06b655e782",
   "metadata": {
    "lang": "en"
   },
   "source": [
    "* Because the colors are reused for multiple species, we\n",
    "  better activate the `tooltip` channel with `species_id`:"
   ]
  },
  {
   "cell_type": "code",
   "execution_count": null,
   "id": "98008bd2-47a7-489b-aea2-a8287183df29",
   "metadata": {
    "lang": "fr"
   },
   "outputs": [],
   "source": [
    "alt.Chart(surveys_complet).mark_point().encode(\n",
    "    x=alt.X('hindfoot_length'),\n",
    "    y=alt.Y('weight'),\n",
    "    color=alt.Color('species_id'),\n",
    "    tooltip=['species_id'],\n",
    ").configure_mark(\n",
    "    opacity=0.05,\n",
    ")"
   ]
  },
  {
   "cell_type": "code",
   "execution_count": null,
   "id": "69c5e79e-797b-48f8-a7b6-bc8c417694da",
   "metadata": {
    "lang": "en"
   },
   "outputs": [],
   "source": [
    "alt.Chart(surveys_complete).mark_point().encode(\n",
    "    x=alt.X('hindfoot_length'),\n",
    "    y=alt.Y('weight'),\n",
    "    color=alt.Color('species_id'),\n",
    "    tooltip=['species_id'],\n",
    ").configure_mark(\n",
    "    opacity=0.05,\n",
    ")"
   ]
  },
  {
   "cell_type": "markdown",
   "id": "26aa5a18-619e-43fc-929f-336a8d720f6b",
   "metadata": {
    "lang": "fr"
   },
   "source": [
    "* Utiliser une échelle verticale semi-log :"
   ]
  },
  {
   "cell_type": "markdown",
   "id": "024a89c3-1bdf-4568-8e11-ca5528e29c75",
   "metadata": {
    "lang": "en"
   },
   "source": [
    "* The Y axis can be configured with a logarithmic scale:"
   ]
  },
  {
   "cell_type": "code",
   "execution_count": null,
   "id": "d39fd5ee-1f63-4e55-a721-8a82b327b999",
   "metadata": {
    "lang": "fr"
   },
   "outputs": [],
   "source": [
    "alt.Chart(surveys_complet).mark_point().encode(\n",
    "    x=alt.X('hindfoot_length'),\n",
    "    y=alt.Y('weight').scale(type='log', base=2),\n",
    "    color=alt.Color('species_id'),\n",
    "    tooltip=['species_id'],\n",
    ").configure_mark(\n",
    "    opacity=0.05,\n",
    ").properties(\n",
    "    height=384,\n",
    ")"
   ]
  },
  {
   "cell_type": "code",
   "execution_count": null,
   "id": "c72c3117-517a-4a78-a33d-ff3d80a02660",
   "metadata": {
    "lang": "en"
   },
   "outputs": [],
   "source": [
    "alt.Chart(surveys_complete).mark_point().encode(\n",
    "    x=alt.X('hindfoot_length'),\n",
    "    y=alt.Y('weight').scale(type='log', base=2),\n",
    "    color=alt.Color('species_id'),\n",
    "    tooltip=['species_id'],\n",
    ").configure_mark(\n",
    "    opacity=0.05,\n",
    ").properties(\n",
    "    height=384,\n",
    ")"
   ]
  },
  {
   "cell_type": "markdown",
   "id": "69f33a32-7830-4003-8e37-c197191acbff",
   "metadata": {
    "lang": "fr"
   },
   "source": [
    "* Définir les titres et le nom des axes :"
   ]
  },
  {
   "cell_type": "markdown",
   "id": "d053365b-4717-4439-8851-4bb63d4c200a",
   "metadata": {
    "lang": "en"
   },
   "source": [
    "* The titles and the axis labels can be set:"
   ]
  },
  {
   "cell_type": "code",
   "execution_count": null,
   "id": "e2303075-58f8-4a09-88e0-e43c7df62f00",
   "metadata": {
    "lang": "fr"
   },
   "outputs": [],
   "source": [
    "alt.Chart(surveys_complet).mark_point().encode(\n",
    "    x=alt.X('hindfoot_length').title('Longueur arrière-pied (mm)'),\n",
    "    y=alt.Y('weight').scale(type='log', base=2).title('Poids (g)'),\n",
    "    color=alt.Color('species_id').title(\"Code d'espèce\"),\n",
    "    tooltip=['species_id'],\n",
    ").configure_mark(\n",
    "    opacity=0.05,\n",
    ").properties(\n",
    "    height=384,\n",
    "    title=\"Poids selon la longueur de l'arrière-pied\",\n",
    ")"
   ]
  },
  {
   "cell_type": "code",
   "execution_count": null,
   "id": "2fae5a64-bf98-4e00-8f47-29b9c680da18",
   "metadata": {
    "lang": "en"
   },
   "outputs": [],
   "source": [
    "alt.Chart(surveys_complete).mark_point().encode(\n",
    "    x=alt.X('hindfoot_length').title('Hindfoot length (mm)'),\n",
    "    y=alt.Y('weight').scale(type='log', base=2).title('Weight (g)'),\n",
    "    color=alt.Color('species_id').title('Species ID'),\n",
    "    tooltip=['species_id'],\n",
    ").configure_mark(\n",
    "    opacity=0.05,\n",
    ").properties(\n",
    "    height=384,\n",
    "    title='Weight by the hindfoot length',\n",
    ")"
   ]
  },
  {
   "cell_type": "markdown",
   "id": "f53c20b3-c44d-4c5b-ba96-afc78f86d389",
   "metadata": {
    "lang": "fr"
   },
   "source": [
    "### Exercice - Enrichir le graphique à barres\n",
    "Adaptez le graphique de l'exercice précédent en associant la variable\n",
    "`sex` à une échelle de couleurs spécifique :\n",
    "* L'encodage du canal `color` doit donc se faire avec la variable\n",
    "  `'sex'`. La méthode `.scale()` permet ensuite d'associer les valeurs\n",
    "  de domaine `'F'` et `'M'` aux couleurs `'orange'` et `'green'`.\n",
    "  Voir [un exemple ici](https://altair-viz.github.io/user_guide/customization.html#color-domain-and-range)\n",
    "* Dans le canal `tooltip`, ajoutez `'sex'` au début de la liste\n",
    "* Expérimentez l'activation du canal `xOffset`\n",
    "\n",
    "(4 min.)"
   ]
  },
  {
   "cell_type": "markdown",
   "id": "c20edcb0-93f6-4e85-97ad-e341285a521e",
   "metadata": {
    "lang": "en"
   },
   "source": [
    "### Exercise - Enrich the bar chart\n",
    "Modify the chart from the previous exercise by\n",
    "encoding the `sex` field to a specific color scale:\n",
    "* The `'sex'` field must be encoded to the `color` channel.\n",
    "  The `.scale()` method can then associate domain values `'F'`\n",
    "  and `'M'` to colors `'orange'` and `'green'`, respectively.\n",
    "  See [an example here](https://altair-viz.github.io/user_guide/customization.html#color-domain-and-range)\n",
    "* In the `tooltip` channel, add `'sex'` at the beginning of the list\n",
    "* Activate the `xOffset` channel and see what it does to the bar-plot\n",
    "\n",
    "(4 min.)"
   ]
  },
  {
   "cell_type": "code",
   "execution_count": null,
   "id": "d21d62b9-8f40-4e25-9c32-b8b4abfda189",
   "metadata": {
    "lang": "fr",
    "tags": [
     "soln"
    ]
   },
   "outputs": [],
   "source": [
    "alt.Chart(surveys_complet).mark_bar().encode(\n",
    "    x=alt.X('plot_id').type('ordinal'),\n",
    "    y=alt.Y('count()'),\n",
    "    color=alt.Color('sex').scale(\n",
    "        domain=['F', 'M'],\n",
    "        range=['orange', 'green'],\n",
    "    ),\n",
    "    xOffset='sex',\n",
    "    tooltip=['sex', 'count()'],\n",
    ").properties(\n",
    "    width=480,  # Fixer la largeur du graphique (pixels)\n",
    ")"
   ]
  },
  {
   "cell_type": "code",
   "execution_count": null,
   "id": "2468b390-8499-47a5-9bfb-7f53a8ab8feb",
   "metadata": {
    "lang": "fr",
    "tags": [
     "exer"
    ]
   },
   "outputs": [],
   "source": [
    "alt.Chart(surveys_complet).mark_bar().encode(\n",
    "    x=alt.X('plot_id').type('ordinal'),\n",
    "    y=alt.Y('count()'),\n",
    "    color=alt.###(###).scale(\n",
    "        ###=['F', 'M'],\n",
    "        ###=['orange', 'green'],\n",
    "    ),\n",
    "    #xOffset='sex',\n",
    "    tooltip=[###, 'count()'],\n",
    ").properties(\n",
    "    width=480,  # Fixer la largeur du graphique (pixels)\n",
    ")"
   ]
  },
  {
   "cell_type": "code",
   "execution_count": null,
   "id": "8fba113b-70bb-410a-85ac-6853b375c645",
   "metadata": {
    "lang": "en",
    "tags": [
     "soln"
    ]
   },
   "outputs": [],
   "source": [
    "alt.Chart(surveys_complete).mark_bar().encode(\n",
    "    x=alt.X('plot_id').type('ordinal'),\n",
    "    y=alt.Y('count()'),\n",
    "    color=alt.Color('sex').scale(\n",
    "        domain=['F', 'M'],\n",
    "        range=['orange', 'green'],\n",
    "    ),\n",
    "    xOffset='sex',\n",
    "    tooltip=['sex', 'count()'],\n",
    ").properties(\n",
    "    width=480,  # Fix the chart width (pixels)\n",
    ")"
   ]
  },
  {
   "cell_type": "code",
   "execution_count": null,
   "id": "bce3bed3-0d14-424e-92c6-a327b27b046b",
   "metadata": {
    "lang": "en",
    "tags": [
     "exer"
    ]
   },
   "outputs": [],
   "source": [
    "alt.Chart(surveys_complete).mark_bar().encode(\n",
    "    x=alt.X('plot_id').type('ordinal'),\n",
    "    y=alt.Y('count()'),\n",
    "    color=alt.###(###).scale(\n",
    "        ###=['F', 'M'],\n",
    "        ###=['orange', 'green'],\n",
    "    ),\n",
    "    #xOffset='sex',\n",
    "    tooltip=[###, 'count()'],\n",
    ").properties(\n",
    "    width=480,  # Fix the chart width (pixels)\n",
    ")"
   ]
  },
  {
   "cell_type": "code",
   "execution_count": null,
   "id": "877a07a6-0822-4410-89e0-66560e42d282",
   "metadata": {},
   "outputs": [],
   "source": []
  }
 ],
 "metadata": {
  "kernelspec": {
   "display_name": "Python 3 (ipykernel)",
   "language": "python",
   "name": "python3"
  },
  "language_info": {
   "codemirror_mode": {
    "name": "ipython",
    "version": 3
   },
   "file_extension": ".py",
   "mimetype": "text/x-python",
   "name": "python",
   "nbconvert_exporter": "python",
   "pygments_lexer": "ipython3",
   "version": "3.11.7"
  }
 },
 "nbformat": 4,
 "nbformat_minor": 5
}
