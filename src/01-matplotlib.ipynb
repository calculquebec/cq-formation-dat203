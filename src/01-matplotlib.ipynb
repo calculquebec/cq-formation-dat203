{
 "cells": [
  {
   "cell_type": "markdown",
   "id": "0ab68d86-06b9-4033-a975-7dec25135493",
   "metadata": {
    "lang": "fr"
   },
   "source": [
    "# Visualisation de données en Python\n",
    "## Visualisation avec Pandas et Matplotlib\n",
    "\n",
    "Questions\n",
    "* Quels sont les différents types de données dans Pandas?\n",
    "* Quel est l'impact des types sur les statistiques descriptives?\n",
    "* Comment visualiser les données d'un DataFrame Pandas?\n",
    "* Comment personnaliser un graphique?\n",
    "\n",
    "Objectifs\n",
    "* Manipuler les types de données.\n",
    "* Créer des graphiques simples à partir d'un DataFrame.\n",
    "* Personnaliser un graphique avec les méthodes d'objets Matplotlib."
   ]
  },
  {
   "cell_type": "markdown",
   "id": "8b583343-ed32-4a23-a00d-815b980071e1",
   "metadata": {
    "lang": "en"
   },
   "source": [
    "# Data Visualization in Python\n",
    "## Visualization with Pandas and Matplotlib\n",
    "\n",
    "Questions\n",
    "* What are the different data types in Pandas?\n",
    "* What impacts have data types on descriptive statistics?\n",
    "* How to visualize data from a Pandas DataFrame?\n",
    "* How to customize a plot?\n",
    "\n",
    "Objectives\n",
    "* Manipulate the data types.\n",
    "* Create simple plots from a DataFrame.\n",
    "* Customize a plot with the methods of Matplotlib objects."
   ]
  },
  {
   "cell_type": "code",
   "execution_count": null,
   "id": "5529db78-743e-4f18-a629-7329afe64dff",
   "metadata": {
    "lang": "fr"
   },
   "outputs": [],
   "source": [
    "# Charger le module pandas\n",
    "import pandas as pd\n",
    "\n",
    "# Charger les données\n",
    "surveys_df = pd.read_csv(\"../data/surveys.csv\")"
   ]
  },
  {
   "cell_type": "code",
   "execution_count": null,
   "id": "c66fce2a-5fed-4c76-b03d-7dba685a7346",
   "metadata": {
    "lang": "en"
   },
   "outputs": [],
   "source": [
    "# First make sure pandas is loaded\n",
    "import pandas as pd\n",
    "\n",
    "# Read in the survey csv\n",
    "surveys_df = pd.read_csv(\"../data/surveys.csv\")"
   ]
  },
  {
   "cell_type": "markdown",
   "id": "89e1e9ae-a510-4a16-a157-cf89e9d733ab",
   "metadata": {
    "lang": "fr"
   },
   "source": [
    "## Types de données\n",
    "### Vérifier le type de données pour chaque colonne\n",
    "Puisque le type des données peut avoir un impact sur\n",
    "l'apparence d'un graphique, il est nécessaire de valider\n",
    "au préalable le type des données de chaque colonne de\n",
    "DataFrame que nous allons utiliser dans notre analyse."
   ]
  },
  {
   "cell_type": "markdown",
   "id": "d9f75ec8-328c-4090-9785-70c0a8c55ba0",
   "metadata": {
    "lang": "en"
   },
   "source": [
    "## Types of Data\n",
    "### Checking the format of our data\n",
    "Since the data types can impact the appearance of a chart,\n",
    "it is necessary to first validate the data type of each\n",
    "column in the DataFrame that we will use in our analysis."
   ]
  },
  {
   "cell_type": "markdown",
   "id": "9ae54ea2-7a62-4900-84a0-8f36501c5919",
   "metadata": {
    "lang": "fr"
   },
   "source": [
    "Types Python | Types Pandas | Description\n",
    ":-----------:|:------------:|:-----------\n",
    "`str`        | `object`     | Type générique, aussi utilisé en cas de multiples types\n",
    "`int`        | `int64`      | Nombres entiers représentés avec 64 bits\n",
    "`float`      | `float64`    | Nombres réels représentés avec 64 bits, ou non-définis (NaN)\n",
    " N/A         | `datetime64` | Dates et heures, avec une précision allant jusqu'à la nanoseconde"
   ]
  },
  {
   "cell_type": "markdown",
   "id": "de883e32-e562-4e69-877e-62364e161ec4",
   "metadata": {
    "lang": "en"
   },
   "source": [
    "Native Python Type | Pandas Type | Description\n",
    ":-----------------:|:-----------:|:-----------\n",
    "`str`              | `object`    | The most general dtype. Will be assigned to your column if column has mixed types (numbers and strings).\n",
    "`int`              | `int64`     | 64 bits integer\n",
    "`float`            | `float64`   | Numeric characters with decimals. If a column contains numbers and NaNs(see below), pandas will default to float64.\n",
    " N/A               | `datetime64`| Values meant to hold time data."
   ]
  },
  {
   "cell_type": "code",
   "execution_count": null,
   "id": "21f661cb-c6d3-4bdf-b537-bf1947b9b235",
   "metadata": {
    "lang": "fr"
   },
   "outputs": [],
   "source": [
    "# Le type de données pour les identifiants d'espèces\n",
    "surveys_df['species_id'].dtype"
   ]
  },
  {
   "cell_type": "code",
   "execution_count": null,
   "id": "33a03671-8c6c-4576-a3dd-3192938a950e",
   "metadata": {
    "lang": "en"
   },
   "outputs": [],
   "source": [
    "# Getting the data type of species identifiers\n",
    "surveys_df['species_id'].dtype"
   ]
  },
  {
   "cell_type": "code",
   "execution_count": null,
   "id": "814de494-0b32-4952-a734-4092b16eeaea",
   "metadata": {
    "lang": "fr"
   },
   "outputs": [],
   "source": [
    "# Le type de données pour la colonne des mois\n",
    "surveys_df['month'].dtype"
   ]
  },
  {
   "cell_type": "code",
   "execution_count": null,
   "id": "881f5b5a-2b42-488d-b1d2-26dcaede1601",
   "metadata": {
    "lang": "en"
   },
   "outputs": [],
   "source": [
    "# Getting the data type of month values\n",
    "surveys_df['month'].dtype"
   ]
  },
  {
   "cell_type": "code",
   "execution_count": null,
   "id": "9c4f3af2-29d7-41f5-85a6-baa4b4470675",
   "metadata": {
    "lang": "fr"
   },
   "outputs": [],
   "source": [
    "# Obtenir le type de données pour chaque colonne\n",
    "surveys_df.dtypes"
   ]
  },
  {
   "cell_type": "code",
   "execution_count": null,
   "id": "f6baa8d1-f4ea-48c9-b289-21f5edeb9f5d",
   "metadata": {
    "lang": "en"
   },
   "outputs": [],
   "source": [
    "# Getting the data types of all columns\n",
    "surveys_df.dtypes"
   ]
  },
  {
   "cell_type": "markdown",
   "id": "ae312581-e500-4820-83d8-e511cd03212e",
   "metadata": {
    "lang": "fr"
   },
   "source": [
    "### Impacts sur les statistiques descriptives"
   ]
  },
  {
   "cell_type": "markdown",
   "id": "b4d29e6d-e9ba-437e-a45d-62b9ecf04686",
   "metadata": {
    "lang": "en"
   },
   "source": [
    "### Working With Our Survey Data"
   ]
  },
  {
   "cell_type": "code",
   "execution_count": null,
   "id": "41d5c188-1312-4142-b4c2-0aa5e8e15941",
   "metadata": {
    "lang": "fr"
   },
   "outputs": [],
   "source": [
    "# Statistiques descriptives sur les valeurs numériques\n",
    "surveys_df.describe()"
   ]
  },
  {
   "cell_type": "code",
   "execution_count": null,
   "id": "1c9b5acc-498c-4fbe-b87f-3d6b1138a418",
   "metadata": {
    "lang": "en"
   },
   "outputs": [],
   "source": [
    "# Summary of descriptive statistics\n",
    "surveys_df.describe()"
   ]
  },
  {
   "cell_type": "code",
   "execution_count": null,
   "id": "e837d155-2de6-48b0-a93f-49bbc446c3cc",
   "metadata": {
    "lang": "fr"
   },
   "outputs": [],
   "source": [
    "# Convertir les numéros de mois en valeurs nominales\n",
    "surveys_df['month'] = surveys_df['month'].astype('str')\n",
    "surveys_df['month'].dtype"
   ]
  },
  {
   "cell_type": "code",
   "execution_count": null,
   "id": "4b740cd4-0a10-47a0-91ad-1130b93fb437",
   "metadata": {
    "lang": "en"
   },
   "outputs": [],
   "source": [
    "# Convert month numbers to nominal values\n",
    "surveys_df['month'] = surveys_df['month'].astype('str')\n",
    "surveys_df['month'].dtype"
   ]
  },
  {
   "cell_type": "code",
   "execution_count": null,
   "id": "3f1de17c-80c0-46d5-b348-dd00c3b4a7a2",
   "metadata": {
    "lang": "fr"
   },
   "outputs": [],
   "source": [
    "# Statistiques descriptives sur une variable qualitative\n",
    "surveys_df['month'].describe()"
   ]
  },
  {
   "cell_type": "code",
   "execution_count": null,
   "id": "16edb618-e3ca-4bc1-9c4c-f1f530ebb647",
   "metadata": {
    "lang": "en"
   },
   "outputs": [],
   "source": [
    "# Descriptive statistics on a categorical variable\n",
    "surveys_df['month'].describe()"
   ]
  },
  {
   "cell_type": "code",
   "execution_count": null,
   "id": "f79dd10a-c883-4545-bf52-70bbfbcc4b8c",
   "metadata": {
    "lang": "fr"
   },
   "outputs": [],
   "source": [
    "# Lister les différents mois\n",
    "surveys_df['month'].unique()"
   ]
  },
  {
   "cell_type": "code",
   "execution_count": null,
   "id": "49dc6b69-357e-4715-b878-1f5d43b13e26",
   "metadata": {
    "lang": "en"
   },
   "outputs": [],
   "source": [
    "# Listing all different months\n",
    "surveys_df['month'].unique()"
   ]
  },
  {
   "cell_type": "code",
   "execution_count": null,
   "id": "88ac3477-fe7b-46a0-8ab2-a662134b0d4c",
   "metadata": {
    "lang": "fr"
   },
   "outputs": [],
   "source": [
    "# Lister les différentes années\n",
    "surveys_df['year'].unique()"
   ]
  },
  {
   "cell_type": "code",
   "execution_count": null,
   "id": "3b56833f-bc91-4a5b-95c7-eeab6d6c1c22",
   "metadata": {
    "lang": "en"
   },
   "outputs": [],
   "source": [
    "# Listing all different years\n",
    "surveys_df['year'].unique()"
   ]
  },
  {
   "cell_type": "code",
   "execution_count": null,
   "id": "0c6afde3-a223-4b67-8678-72d673f8039b",
   "metadata": {},
   "outputs": [],
   "source": []
  }
 ],
 "metadata": {
  "kernelspec": {
   "display_name": "Python 3 (ipykernel)",
   "language": "python",
   "name": "python3"
  },
  "language_info": {
   "codemirror_mode": {
    "name": "ipython",
    "version": 3
   },
   "file_extension": ".py",
   "mimetype": "text/x-python",
   "name": "python",
   "nbconvert_exporter": "python",
   "pygments_lexer": "ipython3",
   "version": "3.11.7"
  }
 },
 "nbformat": 4,
 "nbformat_minor": 5
}
