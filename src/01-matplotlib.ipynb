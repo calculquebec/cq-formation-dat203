{
 "cells": [
  {
   "cell_type": "markdown",
   "id": "0ab68d86-06b9-4033-a975-7dec25135493",
   "metadata": {
    "lang": "fr"
   },
   "source": [
    "# Visualisation de données en Python\n",
    "## Visualisation avec Pandas et Matplotlib\n",
    "\n",
    "Questions\n",
    "* Quels sont les différents types de données dans Pandas?\n",
    "* Quel est l'impact des types sur les statistiques descriptives?\n",
    "* Comment visualiser les données d'un DataFrame Pandas?\n",
    "* Comment personnaliser un graphique?\n",
    "\n",
    "Objectifs\n",
    "* Manipuler les types de données.\n",
    "* Créer des graphiques simples à partir d'un DataFrame.\n",
    "* Personnaliser un graphique avec les méthodes d'objets Matplotlib."
   ]
  },
  {
   "cell_type": "markdown",
   "id": "8b583343-ed32-4a23-a00d-815b980071e1",
   "metadata": {
    "lang": "en"
   },
   "source": [
    "# Data Visualization in Python\n",
    "## Visualization with Pandas and Matplotlib\n",
    "\n",
    "Questions\n",
    "* What are the different data types in Pandas?\n",
    "* What impacts have data types on descriptive statistics?\n",
    "* How to visualize data from a Pandas DataFrame?\n",
    "* How to customize a plot?\n",
    "\n",
    "Objectives\n",
    "* Manipulate the data types.\n",
    "* Create simple plots from a DataFrame.\n",
    "* Customize a plot with the methods of Matplotlib objects."
   ]
  },
  {
   "cell_type": "code",
   "execution_count": null,
   "id": "5529db78-743e-4f18-a629-7329afe64dff",
   "metadata": {
    "lang": "fr"
   },
   "outputs": [],
   "source": [
    "# Charger le module pandas\n",
    "import pandas as pd\n",
    "\n",
    "# Charger les données\n",
    "surveys_df = pd.read_csv('../data/surveys.csv')"
   ]
  },
  {
   "cell_type": "code",
   "execution_count": null,
   "id": "c66fce2a-5fed-4c76-b03d-7dba685a7346",
   "metadata": {
    "lang": "en"
   },
   "outputs": [],
   "source": [
    "# First make sure pandas is loaded\n",
    "import pandas as pd\n",
    "\n",
    "# Read in the survey csv\n",
    "surveys_df = pd.read_csv('../data/surveys.csv')"
   ]
  },
  {
   "cell_type": "markdown",
   "id": "89e1e9ae-a510-4a16-a157-cf89e9d733ab",
   "metadata": {
    "lang": "fr"
   },
   "source": [
    "## Types de données\n",
    "Puisque le type des données peut avoir un impact sur\n",
    "l'apparence d'un graphique, il est nécessaire de valider\n",
    "au préalable le type de données de chaque colonne de\n",
    "DataFrame que nous allons utiliser dans notre analyse."
   ]
  },
  {
   "cell_type": "markdown",
   "id": "d9f75ec8-328c-4090-9785-70c0a8c55ba0",
   "metadata": {
    "lang": "en"
   },
   "source": [
    "## Types of Data\n",
    "Since the data types can impact the appearance of a chart,\n",
    "it is necessary to first validate the data type of each\n",
    "column in the DataFrame that we will use in our analysis."
   ]
  },
  {
   "cell_type": "markdown",
   "id": "9ae54ea2-7a62-4900-84a0-8f36501c5919",
   "metadata": {
    "lang": "fr"
   },
   "source": [
    "Types Python | Types Pandas | Description\n",
    ":-----------:|:------------:|:-----------\n",
    "`str`        | `object`     | Type générique, aussi utilisé en cas de multiples types\n",
    "`int`        | `int64`      | Nombres entiers représentés avec 64 bits\n",
    "`float`      | `float64`    | Nombres réels représentés avec 64 bits, ou non-définis (NaN)\n",
    " N/A         | `datetime64` | Dates et heures, avec une précision allant jusqu'à la nanoseconde"
   ]
  },
  {
   "cell_type": "markdown",
   "id": "de883e32-e562-4e69-877e-62364e161ec4",
   "metadata": {
    "lang": "en"
   },
   "source": [
    "Native Python Type | Pandas Type | Description\n",
    ":-----------------:|:-----------:|:-----------\n",
    "`str`              | `object`    | The most general dtype. Will be assigned to your column if column has mixed types (numbers and strings).\n",
    "`int`              | `int64`     | 64 bits integer\n",
    "`float`            | `float64`   | Numeric characters with decimals. If a column contains numbers and NaNs(see below), pandas will default to float64.\n",
    " N/A               | `datetime64`| Values meant to hold time data."
   ]
  },
  {
   "cell_type": "code",
   "execution_count": null,
   "id": "21f661cb-c6d3-4bdf-b537-bf1947b9b235",
   "metadata": {
    "lang": "fr"
   },
   "outputs": [],
   "source": [
    "# Le type de données pour les identifiants d'espèces\n",
    "surveys_df['species_id'].dtype"
   ]
  },
  {
   "cell_type": "code",
   "execution_count": null,
   "id": "33a03671-8c6c-4576-a3dd-3192938a950e",
   "metadata": {
    "lang": "en"
   },
   "outputs": [],
   "source": [
    "# Getting the data type of species identifiers\n",
    "surveys_df['species_id'].dtype"
   ]
  },
  {
   "cell_type": "code",
   "execution_count": null,
   "id": "814de494-0b32-4952-a734-4092b16eeaea",
   "metadata": {
    "lang": "fr"
   },
   "outputs": [],
   "source": [
    "# Le type de données pour la colonne des mois\n",
    "surveys_df['month'].dtype"
   ]
  },
  {
   "cell_type": "code",
   "execution_count": null,
   "id": "881f5b5a-2b42-488d-b1d2-26dcaede1601",
   "metadata": {
    "lang": "en"
   },
   "outputs": [],
   "source": [
    "# Getting the data type of month values\n",
    "surveys_df['month'].dtype"
   ]
  },
  {
   "cell_type": "code",
   "execution_count": null,
   "id": "9c4f3af2-29d7-41f5-85a6-baa4b4470675",
   "metadata": {
    "lang": "fr"
   },
   "outputs": [],
   "source": [
    "# Obtenir le type de données pour chaque colonne\n",
    "surveys_df.dtypes"
   ]
  },
  {
   "cell_type": "code",
   "execution_count": null,
   "id": "f6baa8d1-f4ea-48c9-b289-21f5edeb9f5d",
   "metadata": {
    "lang": "en"
   },
   "outputs": [],
   "source": [
    "# Getting the data types of all columns\n",
    "surveys_df.dtypes"
   ]
  },
  {
   "cell_type": "markdown",
   "id": "ae312581-e500-4820-83d8-e511cd03212e",
   "metadata": {
    "lang": "fr"
   },
   "source": [
    "### Impacts sur les statistiques descriptives"
   ]
  },
  {
   "cell_type": "markdown",
   "id": "b4d29e6d-e9ba-437e-a45d-62b9ecf04686",
   "metadata": {
    "lang": "en"
   },
   "source": [
    "### Working With Our Survey Data"
   ]
  },
  {
   "cell_type": "code",
   "execution_count": null,
   "id": "41d5c188-1312-4142-b4c2-0aa5e8e15941",
   "metadata": {
    "lang": "fr"
   },
   "outputs": [],
   "source": [
    "# Statistiques descriptives sur les valeurs numériques\n",
    "surveys_df.describe()"
   ]
  },
  {
   "cell_type": "code",
   "execution_count": null,
   "id": "1c9b5acc-498c-4fbe-b87f-3d6b1138a418",
   "metadata": {
    "lang": "en"
   },
   "outputs": [],
   "source": [
    "# Summary of descriptive statistics\n",
    "surveys_df.describe()"
   ]
  },
  {
   "cell_type": "code",
   "execution_count": null,
   "id": "e837d155-2de6-48b0-a93f-49bbc446c3cc",
   "metadata": {
    "lang": "fr"
   },
   "outputs": [],
   "source": [
    "# Convertir les numéros de mois en valeurs nominales\n",
    "surveys_df['month'] = surveys_df['month'].astype('str')\n",
    "surveys_df['month'].dtype"
   ]
  },
  {
   "cell_type": "code",
   "execution_count": null,
   "id": "4b740cd4-0a10-47a0-91ad-1130b93fb437",
   "metadata": {
    "lang": "en"
   },
   "outputs": [],
   "source": [
    "# Convert month numbers to nominal values\n",
    "surveys_df['month'] = surveys_df['month'].astype('str')\n",
    "surveys_df['month'].dtype"
   ]
  },
  {
   "cell_type": "code",
   "execution_count": null,
   "id": "3f1de17c-80c0-46d5-b348-dd00c3b4a7a2",
   "metadata": {
    "lang": "fr"
   },
   "outputs": [],
   "source": [
    "# Statistiques descriptives sur une variable qualitative\n",
    "surveys_df['month'].describe()"
   ]
  },
  {
   "cell_type": "code",
   "execution_count": null,
   "id": "16edb618-e3ca-4bc1-9c4c-f1f530ebb647",
   "metadata": {
    "lang": "en"
   },
   "outputs": [],
   "source": [
    "# Descriptive statistics on a categorical variable\n",
    "surveys_df['month'].describe()"
   ]
  },
  {
   "cell_type": "code",
   "execution_count": null,
   "id": "f79dd10a-c883-4545-bf52-70bbfbcc4b8c",
   "metadata": {
    "lang": "fr"
   },
   "outputs": [],
   "source": [
    "# Lister les différents mois\n",
    "surveys_df['month'].unique()"
   ]
  },
  {
   "cell_type": "code",
   "execution_count": null,
   "id": "49dc6b69-357e-4715-b878-1f5d43b13e26",
   "metadata": {
    "lang": "en"
   },
   "outputs": [],
   "source": [
    "# Listing all different months\n",
    "surveys_df['month'].unique()"
   ]
  },
  {
   "cell_type": "code",
   "execution_count": null,
   "id": "88ac3477-fe7b-46a0-8ab2-a662134b0d4c",
   "metadata": {
    "lang": "fr"
   },
   "outputs": [],
   "source": [
    "# Lister les différentes années\n",
    "surveys_df['year'].unique()"
   ]
  },
  {
   "cell_type": "code",
   "execution_count": null,
   "id": "3b56833f-bc91-4a5b-95c7-eeab6d6c1c22",
   "metadata": {
    "lang": "en"
   },
   "outputs": [],
   "source": [
    "# Listing all different years\n",
    "surveys_df['year'].unique()"
   ]
  },
  {
   "cell_type": "markdown",
   "id": "6c70928f-f7c4-4734-a56f-a40acca3b1f3",
   "metadata": {
    "lang": "fr"
   },
   "source": [
    "## Créer des graphiques à partir de Pandas\n",
    "Par défaut :\n",
    "* La méthode `.plot()` retourne un\n",
    "  [objet Axes](https://matplotlib.org/stable/api/_as_gen/matplotlib.axes.Axes.html)\n",
    "  de [Matplotlib](https://matplotlib.org/stable/gallery/index.html).\n",
    "* Les valeurs de l'index du DataFrame seront en axe des X."
   ]
  },
  {
   "cell_type": "markdown",
   "id": "6adce2d7-be3f-48cf-a271-0a199818f6d3",
   "metadata": {
    "lang": "en"
   },
   "source": [
    "## Quick & Easy Plotting Data Using Pandas\n",
    "By default:\n",
    "* The `.plot()` method returns an\n",
    "  [Axes object](https://matplotlib.org/stable/api/_as_gen/matplotlib.axes.Axes.html)\n",
    "  from [Matplotlib](https://matplotlib.org/stable/gallery/index.html).\n",
    "* The values in the index of the DataFrame will be along the X axis."
   ]
  },
  {
   "cell_type": "code",
   "execution_count": null,
   "id": "3755c873-962b-4b83-af27-a0e4b24e6846",
   "metadata": {
    "lang": "en,fr",
    "tags": [
     "exer"
    ]
   },
   "outputs": [],
   "source": [
    "#surveys_df['month'] = surveys_df['month'].astype('int64')\n",
    "med = surveys_df.groupby('month')['weight'].median()\n",
    "print(med.index)\n",
    "\n",
    "med.plot(kind='line')"
   ]
  },
  {
   "cell_type": "code",
   "execution_count": null,
   "id": "e40cbefa-2b39-4f54-af12-8a662cbd45d8",
   "metadata": {
    "lang": "en,fr",
    "tags": [
     "soln"
    ]
   },
   "outputs": [],
   "source": [
    "surveys_df['month'] = surveys_df['month'].astype('int64')\n",
    "med = surveys_df.groupby('month')['weight'].median()\n",
    "print(med.index)\n",
    "\n",
    "med.plot(kind='line')"
   ]
  },
  {
   "cell_type": "code",
   "execution_count": null,
   "id": "0283b823-a348-4eaa-a75c-30b6ab427b64",
   "metadata": {
    "lang": "en,fr"
   },
   "outputs": [],
   "source": [
    "sites = surveys_df.groupby('plot_id')['record_id'].count()\n",
    "print(sites.index)\n",
    "\n",
    "sites.plot(kind='bar')"
   ]
  },
  {
   "cell_type": "markdown",
   "id": "e9ffce8f-1739-4c31-ab9b-3c4340c78065",
   "metadata": {
    "lang": "fr"
   },
   "source": [
    "Autres particularités de `.plot()` et Matplotlib :\n",
    "* Chaque colonne d'un DataFrame obtient une couleur différente.\n",
    "* Divers arguments et méthodes pour configurer\n",
    "  le titre du graphique et le nom des axes."
   ]
  },
  {
   "cell_type": "markdown",
   "id": "628ed8a7-58aa-4716-84b4-d56a17486696",
   "metadata": {
    "lang": "en"
   },
   "source": [
    "Other features of `.plot()` and Matplotlib:\n",
    "* Each column of the DataFrame will have a different color.\n",
    "* Various arguments and methods to configure\n",
    "  the plot title and the names of the axes."
   ]
  },
  {
   "cell_type": "code",
   "execution_count": null,
   "id": "cef11139-b576-41ae-8b08-4a0f309772f3",
   "metadata": {
    "lang": "fr"
   },
   "outputs": [],
   "source": [
    "espece_sex_poids_moyen = surveys_df.groupby(\n",
    "    ['species_id', 'sex'])['weight'].mean().unstack()\n",
    "espece_sex_poids_moyen.head(10)"
   ]
  },
  {
   "cell_type": "code",
   "execution_count": null,
   "id": "e7f97d4f-e8c2-4ec6-9b16-06dea4bba976",
   "metadata": {
    "lang": "en"
   },
   "outputs": [],
   "source": [
    "species_sex_avg_weight = surveys_df.groupby(\n",
    "    ['species_id', 'sex'])['weight'].mean().unstack()\n",
    "species_sex_avg_weight.head(10)"
   ]
  },
  {
   "cell_type": "code",
   "execution_count": null,
   "id": "4a82ab2f-0ee8-43f1-aff1-a5f8d9b04d17",
   "metadata": {
    "lang": "fr"
   },
   "outputs": [],
   "source": [
    "# Ajouter le titre et le nom des axes\n",
    "e_plot = espece_sex_poids_moyen.plot(\n",
    "    kind='bar', title='Poids moyen par espèce et sexe')\n",
    "e_plot.set_xlabel('Espèce (identifiant)')\n",
    "e_plot.set_ylabel('Poids moyen (g)')"
   ]
  },
  {
   "cell_type": "code",
   "execution_count": null,
   "id": "ee586b70-8d2d-4217-b43e-786aeba2a6de",
   "metadata": {
    "lang": "en"
   },
   "outputs": [],
   "source": [
    "# Add a title and the axis labels\n",
    "s_plot = species_sex_avg_weight.plot(\n",
    "    kind='bar', title='Average weight by species and sex')\n",
    "s_plot.set_xlabel('Species (Identifier)')\n",
    "s_plot.set_ylabel('Average weight (g)')"
   ]
  },
  {
   "cell_type": "markdown",
   "id": "03ff380c-03f2-48d3-bbc4-68a2fa993eeb",
   "metadata": {
    "lang": "fr"
   },
   "source": [
    "### Exercices - Créer un graphique\n",
    "`1`. Générez un graphique de courbes montrant le\n",
    "`hindfoot_length` moyen de chaque espèce d'une année à l'autre.\n",
    "Note : les enregistrements sans `hindfoot_length` sont écartés.\n",
    "(4 min.)"
   ]
  },
  {
   "cell_type": "markdown",
   "id": "53dcd900-d931-4b04-8b71-89e599e335c5",
   "metadata": {
    "lang": "en"
   },
   "source": [
    "### Exercises - Create a plot\n",
    "`1`. Generate a line-plot showing the average\n",
    "`hindfoot_length` of each species from one year to the next.\n",
    "Note: records without an `hindfoot_length` are discarded.\n",
    "(4 min.)"
   ]
  },
  {
   "cell_type": "code",
   "execution_count": null,
   "id": "810ed463-7e35-4d67-b90d-99bf349cc671",
   "metadata": {
    "lang": "en,fr",
    "tags": [
     "soln"
    ]
   },
   "outputs": [],
   "source": [
    "selection = surveys_df[surveys_df['hindfoot_length'].notna()]\n",
    "\n",
    "selection.groupby(\n",
    "    ['year', 'species_id']\n",
    ")['hindfoot_length'].mean().unstack().plot(kind='line')"
   ]
  },
  {
   "cell_type": "code",
   "execution_count": null,
   "id": "08c3c9f1-820d-4a17-a833-54c9d22053d2",
   "metadata": {
    "lang": "en,fr",
    "tags": [
     "exer"
    ]
   },
   "outputs": [],
   "source": [
    "selection = surveys_df[surveys_df['hindfoot_length'].notna()]\n",
    "\n",
    "selection.groupby(\n",
    "    ###\n",
    ")['hindfoot_length'].mean()###"
   ]
  },
  {
   "cell_type": "markdown",
   "id": "e42b8e52-26dd-4009-8832-649cf4d3f49e",
   "metadata": {
    "lang": "fr"
   },
   "source": [
    "`2`. Générez un graphique de barres montrant le poids moyen des femelles et des mâles pour chaque genre d'espèce (`genus`). (3 min.)"
   ]
  },
  {
   "cell_type": "markdown",
   "id": "e5ea310b-62d9-422c-9e1c-8985fc33c681",
   "metadata": {
    "lang": "en"
   },
   "source": [
    "`2`. Generate a bar-plot showing the average weight of females and males for each type of genus. (3 min.)"
   ]
  },
  {
   "cell_type": "code",
   "execution_count": null,
   "id": "e80d3835-9f8c-4b6d-a14c-d97a6fa18fd6",
   "metadata": {
    "lang": "fr"
   },
   "outputs": [],
   "source": [
    "# Intersection avec les détails des espèces\n",
    "especes_df = pd.read_csv('../data/species.csv')\n",
    "jonction = pd.merge(\n",
    "    left=surveys_df,\n",
    "    right=especes_df,\n",
    "    on='species_id'\n",
    ")"
   ]
  },
  {
   "cell_type": "code",
   "execution_count": null,
   "id": "235142a3-3661-4fb5-aa2d-bf82c4d74667",
   "metadata": {
    "lang": "en"
   },
   "outputs": [],
   "source": [
    "# Inner join with the details about the species\n",
    "species_df = pd.read_csv('../data/species.csv')\n",
    "merged = pd.merge(\n",
    "    left=surveys_df,\n",
    "    right=species_df,\n",
    "    on='species_id'\n",
    ")"
   ]
  },
  {
   "cell_type": "code",
   "execution_count": null,
   "id": "7cc3c14a-d848-4678-93da-e5350d053152",
   "metadata": {
    "lang": "fr",
    "tags": [
     "soln"
    ]
   },
   "outputs": [],
   "source": [
    "# Calcul des moyennes et visualisation\n",
    "jonction.pivot_table(\n",
    "    aggfunc='mean',\n",
    "    values='weight',\n",
    "    index='genus',\n",
    "    columns='sex'\n",
    ").plot(kind='bar')"
   ]
  },
  {
   "cell_type": "code",
   "execution_count": null,
   "id": "6a667f59-dc85-41f6-bd10-2f4fa7fe9423",
   "metadata": {
    "lang": "fr",
    "tags": [
     "exer"
    ]
   },
   "outputs": [],
   "source": [
    "# Calcul des moyennes et visualisation\n",
    "jonction.pivot_table(\n",
    "    aggfunc='mean',\n",
    "    values='weight',\n",
    "    index=###,\n",
    "    columns=###\n",
    ")#.plot(kind=###)"
   ]
  },
  {
   "cell_type": "code",
   "execution_count": null,
   "id": "a671db5a-8c3e-4c63-899a-88e91784a3ea",
   "metadata": {
    "lang": "en",
    "tags": [
     "soln"
    ]
   },
   "outputs": [],
   "source": [
    "# Compute mean values and visualize\n",
    "merged.pivot_table(\n",
    "    aggfunc='mean',\n",
    "    values='weight',\n",
    "    index='genus',\n",
    "    columns='sex'\n",
    ").plot(kind='bar')"
   ]
  },
  {
   "cell_type": "code",
   "execution_count": null,
   "id": "6bed8d64-5290-4730-a4ca-f6a94af5fefa",
   "metadata": {
    "lang": "en",
    "tags": [
     "exer"
    ]
   },
   "outputs": [],
   "source": [
    "# Compute mean values and visualize\n",
    "merged.pivot_table(\n",
    "    aggfunc='mean',\n",
    "    values='weight',\n",
    "    index=###,\n",
    "    columns=###\n",
    ")#.plot(kind=###)"
   ]
  },
  {
   "cell_type": "markdown",
   "id": "f237ab85-52f4-4db8-9fc6-fe483b46b42c",
   "metadata": {
    "lang": "fr"
   },
   "source": [
    "## Résumé technique\n",
    "* **Gestion des types**\n",
    "    * Pour un **DataFrame** :\n",
    "        * Attributs : `dtypes`\n",
    "    * Pour une **série** (colonne) :\n",
    "        * Attributs : `dtype`\n",
    "        * Méthodes : `astype()`\n",
    "* **Créer un graphique à partir d'un DataFrame** :\n",
    "    * `df.plot()`, où `df` contient une ou plusieurs colonnes\n",
    "        * `kind='bar'` (défaut: `'line'`)\n",
    "        * `stacked=True`\n",
    "        * `title=''`\n",
    "    * `objet_plot.set_xlabel('')`\n",
    "    * `objet_plot.set_ylabel('')`"
   ]
  },
  {
   "cell_type": "markdown",
   "id": "3228f480-b18f-4089-ae56-0b89b82cb86a",
   "metadata": {
    "lang": "en"
   },
   "source": [
    "## Technical Summary\n",
    "* **Managing data types**\n",
    "    * For a **DataFrame**:\n",
    "        * Attribute: `dtypes`\n",
    "    * For a **Series** (column):\n",
    "        * Attribute: `dtype`\n",
    "        * Method: `astype()`\n",
    "* **Making a plot from a DataFrame**:\n",
    "    * `df.plot()`, where `df` has one or many columns\n",
    "        * `kind='bar'` (`'line'` plot by default)\n",
    "        * `stacked=True`\n",
    "        * `title=''`\n",
    "    * `plot_object.set_xlabel('')`\n",
    "    * `plot_object.set_ylabel('')`"
   ]
  },
  {
   "cell_type": "code",
   "execution_count": null,
   "id": "0c6afde3-a223-4b67-8678-72d673f8039b",
   "metadata": {},
   "outputs": [],
   "source": []
  }
 ],
 "metadata": {
  "kernelspec": {
   "display_name": "Python 3 (ipykernel)",
   "language": "python",
   "name": "python3"
  },
  "language_info": {
   "codemirror_mode": {
    "name": "ipython",
    "version": 3
   },
   "file_extension": ".py",
   "mimetype": "text/x-python",
   "name": "python",
   "nbconvert_exporter": "python",
   "pygments_lexer": "ipython3",
   "version": "3.11.7"
  }
 },
 "nbformat": 4,
 "nbformat_minor": 5
}
