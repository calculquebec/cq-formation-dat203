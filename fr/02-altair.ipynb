{
 "cells": [
  {
   "cell_type": "markdown",
   "id": "2f2627b0-84c6-4139-b855-82a8899ade8d",
   "metadata": {
    "lang": "fr"
   },
   "source": [
    "# Visualisation de données en Python\n",
    "## Introduction à Altair\n",
    "\n",
    "Question\n",
    "* Comment faire des graphiques modernes et interactifs?\n",
    "\n",
    "Objectif\n",
    "* Créer un premier objet `alt.Chart`.\n",
    "* Sauvegarder une figure en image ou en version interactive."
   ]
  },
  {
   "cell_type": "code",
   "execution_count": null,
   "id": "bcc4c3f0-947d-46fc-a654-560044030295",
   "metadata": {},
   "outputs": [],
   "source": []
  }
 ],
 "metadata": {
  "kernelspec": {
   "display_name": "Python 3 (ipykernel)",
   "language": "python",
   "name": "python3"
  },
  "language_info": {
   "codemirror_mode": {
    "name": "ipython",
    "version": 3
   },
   "file_extension": ".py",
   "mimetype": "text/x-python",
   "name": "python",
   "nbconvert_exporter": "python",
   "pygments_lexer": "ipython3",
   "version": "3.11.7"
  }
 },
 "nbformat": 4,
 "nbformat_minor": 5
}
