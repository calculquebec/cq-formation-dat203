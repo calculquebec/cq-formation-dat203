{
 "cells": [
  {
   "cell_type": "markdown",
   "id": "322abf18-0559-4d2a-95e8-3ca36fefda58",
   "metadata": {
    "lang": "fr"
   },
   "source": [
    "# Visualisation de données en Python\n",
    "## Création de facettes\n",
    "\n",
    "Question\n",
    "* Comment comparer visuellement des données dans une même figure?\n",
    "\n",
    "Objectif\n",
    "* Diviser une figure en facettes."
   ]
  },
  {
   "cell_type": "code",
   "execution_count": null,
   "id": "837c71ee-a3a2-4ebc-b5fa-4a2c29a85e6c",
   "metadata": {
    "lang": "fr"
   },
   "outputs": [],
   "source": [
    "import pandas as pd\n",
    "\n",
    "# Charger les données nettoyées\n",
    "surveys_complet = pd.read_csv('../data/surveys_0_NA.csv')\n",
    "surveys_complet"
   ]
  },
  {
   "cell_type": "code",
   "execution_count": null,
   "id": "fe574e0f-6e76-40b6-a88d-15875d25e96a",
   "metadata": {
    "lang": "en,fr"
   },
   "outputs": [],
   "source": [
    "import altair as alt\n",
    "alt.data_transformers.disable_max_rows()"
   ]
  },
  {
   "cell_type": "markdown",
   "id": "8a9db080-7583-4ab9-80a7-116b3ead284d",
   "metadata": {
    "lang": "fr"
   },
   "source": [
    "## Création de facettes\n",
    "`altair` a une technique spéciale appelée *création de facettes*\n",
    "permettant de diviser un graphique en plusieurs sous-graphiques\n",
    "selon les valeurs d'une variable.\n",
    "\n",
    "* Avec les différentes valeurs de `sex` :"
   ]
  },
  {
   "cell_type": "code",
   "execution_count": null,
   "id": "bf225b1f-b5d4-4bbf-9412-9c1a0a1b34de",
   "metadata": {
    "lang": "fr"
   },
   "outputs": [],
   "source": [
    "alt.Chart(surveys_complet).mark_point().encode(\n",
    "    x=alt.X('hindfoot_length'),\n",
    "    y=alt.Y('weight').scale(type='log', base=2),\n",
    "    color=alt.Color('species_id'),\n",
    "    facet=alt.Facet('sex'),\n",
    "    tooltip=['species_id'],\n",
    ").configure_mark(\n",
    "    opacity=0.05,\n",
    ").properties(\n",
    "    width=240,\n",
    "    height=384,\n",
    ")"
   ]
  },
  {
   "cell_type": "markdown",
   "id": "c86b36a1-c826-4bfe-913b-0f12385b74f2",
   "metadata": {
    "lang": "fr"
   },
   "source": [
    "* Avec les nombreuses valeurs de `species_id` :"
   ]
  },
  {
   "cell_type": "code",
   "execution_count": null,
   "id": "949d434e-4cd3-4dc1-b893-9f965e7909a5",
   "metadata": {
    "lang": "fr"
   },
   "outputs": [],
   "source": [
    "alt.Chart(surveys_complet).mark_point().encode(\n",
    "    x=alt.X('hindfoot_length'),\n",
    "    y=alt.Y('weight').scale(type='log', base=2),\n",
    "    color=alt.Color('sex'),\n",
    "    facet=alt.Facet('species_id').columns(5),\n",
    "    tooltip=['sex'],\n",
    ").configure_mark(\n",
    "    opacity=0.05,\n",
    ").properties(\n",
    "    width=90,\n",
    "    height=60,\n",
    ")"
   ]
  },
  {
   "cell_type": "markdown",
   "id": "bb183910-0dc4-48cd-86fc-282e5ad7b607",
   "metadata": {
    "lang": "fr"
   },
   "source": [
    "* Pour créer une grille de facettes telle qu'une variable change de\n",
    "  valeur d'une rangée à l'autre et qu'une seconde variable change\n",
    "  d'une colonne à l'autre, on utilisera les canaux `row` et `column` :"
   ]
  },
  {
   "cell_type": "code",
   "execution_count": null,
   "id": "bd08a9c9-4ebd-4051-ac3d-d19fc271dce8",
   "metadata": {
    "lang": "fr"
   },
   "outputs": [],
   "source": [
    "# Garder uniquement quelques années\n",
    "surveys2000 = surveys_complet[surveys_complet['year'].isin([2000, 2001, 2002])]\n",
    "\n",
    "alt.Chart(surveys2000).mark_point().encode(\n",
    "    x=alt.X('hindfoot_length'),\n",
    "    y=alt.Y('weight').scale(type='log', base=2),\n",
    "    color=alt.Color('species_id'),\n",
    "    row=alt.Row('sex'),\n",
    "    column=alt.Column('year'),\n",
    "    tooltip=['species_id'],\n",
    ").configure_mark(\n",
    "    opacity=0.05,\n",
    ").properties(\n",
    "    width=128,\n",
    "    height=128,\n",
    ")"
   ]
  },
  {
   "cell_type": "markdown",
   "id": "2ac9aa2f-0fcc-4645-adcf-4e5c54f3874d",
   "metadata": {
    "lang": "fr"
   },
   "source": [
    "### Exercice - Facettes\n",
    "* Créez deux facettes selon le `sex`\n",
    "* Chaque facette aura :\n",
    "  * Les années en axe des x\n",
    "  * Le poids moyen en axe des y\n",
    "  * Une courbe de couleur par espèce\n",
    "\n",
    "(5 min.)"
   ]
  },
  {
   "cell_type": "code",
   "execution_count": null,
   "id": "50a89516-7988-4ab2-bf0e-dfbe94c8f912",
   "metadata": {
    "lang": "fr",
    "tags": [
     "exer"
    ]
   },
   "outputs": [],
   "source": [
    "alt.Chart(surveys_complet).###().encode(\n",
    "    x=alt.X('year').type###,\n",
    "    y=alt.Y('weight').aggregate###,\n",
    "    color=###,\n",
    "    ###('sex'),\n",
    ").properties(\n",
    "    width=256,\n",
    ")"
   ]
  },
  {
   "cell_type": "markdown",
   "id": "5f259130-d723-4059-b35a-ed12a1d74757",
   "metadata": {
    "lang": "fr"
   },
   "source": [
    "## Résumé technique\n",
    "* **Assigner des variables** à des canaux du graphique\n",
    "  * `graphique.encode(...)`\n",
    "  * Différents canaux :\n",
    "    * `facet=alt.Facet('varFacet')`\n",
    "      * `.columns(N)`\n",
    "    * `row=alt.Row('varRangées')`\n",
    "    * `column=alt.Column('varColonne')`"
   ]
  },
  {
   "cell_type": "code",
   "execution_count": null,
   "id": "09a236f8-2b3a-4626-b54f-13e774a500e6",
   "metadata": {},
   "outputs": [],
   "source": []
  }
 ],
 "metadata": {
  "kernelspec": {
   "display_name": "Python 3 (ipykernel)",
   "language": "python",
   "name": "python3"
  },
  "language_info": {
   "codemirror_mode": {
    "name": "ipython",
    "version": 3
   },
   "file_extension": ".py",
   "mimetype": "text/x-python",
   "name": "python",
   "nbconvert_exporter": "python",
   "pygments_lexer": "ipython3",
   "version": "3.11.7"
  }
 },
 "nbformat": 4,
 "nbformat_minor": 5
}
