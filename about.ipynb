{
 "cells": [
  {
   "cell_type": "markdown",
   "metadata": {},
   "source": [
    "# Data Visualization in Python"
   ]
  },
  {
   "cell_type": "markdown",
   "metadata": {},
   "source": [
    "## About this workshop\n",
    "\n",
    "* This workshop is based on the online tutorial\n",
    "  [Data Carpentry - *Data Analysis and Visualization in Python for Ecologists*](https://datacarpentry.org/python-ecology-lesson/).\n",
    "  * Since the different data analysis\n",
    "    techniques were seen in the workshop\n",
    "    [*DAT201 - Data Analysis in Python*](https://github.com/calculquebec/cq-formation-dat201),\n",
    "    this material mainly covers the visualization examples.\n",
    "* The IPython *notebooks* of this\n",
    "  workshop and the associated data are\n",
    "  [published on GitHub](https://github.com/calculquebec/cq-formation-dat203)."
   ]
  },
  {
   "cell_type": "markdown",
   "metadata": {},
   "source": [
    "### Table of contents\n",
    "\n",
    "1. [Visualization with Pandas and Matplotlib](en/01-matplotlib.ipynb)\n",
    "2. [Introduction to Altair](en/02-altair.ipynb)\n",
    "3. [Building your plots iteratively](en/03-ggaltair.ipynb)\n",
    "4. [Plotting time series data](en/04-mark_line.ipynb)\n",
    "5. [Faceting](en/05-facet.ipynb)\n",
    "6. [Plotting distributions](en/06-distributions.ipynb)"
   ]
  },
  {
   "cell_type": "markdown",
   "metadata": {},
   "source": [
    "### How to Use Jupyter\n",
    "When a cell is in **edit mode**:\n",
    "\n",
    "  Shortcut  | Description\n",
    "----------- | -----------\n",
    "Shift+Enter | Run the cell, and go to the next\n",
    "Enter       | Insert a new line break\n",
    "Tab         | Indent code or auto-completion\n",
    "Esc         | Go to **command mode**\n",
    "\n",
    "When a cell is in **command mode**:\n",
    "\n",
    "  Shortcut   | Description\n",
    "------------ | -----------\n",
    "Shift+Enter  | Run the cell, and go to the next\n",
    "Enter        | Go to **edit mode**\n",
    "A            | Insert a cell above\n",
    "B            | Insert a cell below\n",
    "C            | Copy the current cell\n",
    "V            | Paste the cell below\n",
    "D D          | Delete the current cell\n",
    "M            | Change to Markdown cell\n",
    "Y            | Change to Code cell\n",
    "\n",
    "To reset all cells:\n",
    "* Go to the top menu, and select\n",
    "  Kernel -> Restart & Clear Output"
   ]
  },
  {
   "cell_type": "code",
   "execution_count": null,
   "metadata": {},
   "outputs": [],
   "source": [
    "1 + 2  # Press Shift+Enter to execute this cell"
   ]
  },
  {
   "cell_type": "markdown",
   "metadata": {},
   "source": [
    "### About Tabular Data\n",
    "\n",
    "Here is some vocabulary about tabular data:\n",
    "\n",
    "* **Column** or field: one variable of the observations\n",
    "* **Row** or line: one observation or record\n",
    "* **Index**: list of unique identifiers for rows"
   ]
  },
  {
   "cell_type": "markdown",
   "metadata": {},
   "source": [
    "### Our Data\n",
    "\n",
    "For this lesson, we will be using simplified files from the\n",
    "[*Portal Project Teaching Database*](https://figshare.com/articles/Portal_Project_Teaching_Database/1314459).\n",
    "For instance, we will use [`data/surveys.csv`](data/surveys.csv)\n",
    "which has been made from\n",
    "[the original file](https://ndownloader.figshare.com/files/2292172).\n",
    "\n",
    "The following command returns the first lines of the CSV file:"
   ]
  },
  {
   "cell_type": "code",
   "execution_count": null,
   "metadata": {},
   "outputs": [],
   "source": [
    "!head data/surveys.csv"
   ]
  },
  {
   "cell_type": "markdown",
   "metadata": {},
   "source": [
    " Column           | Description\n",
    "----------------- | -----------\n",
    "`record_id`       | Unique id for the observation\n",
    "`month`           | month of observation\n",
    "`day`             | day of observation\n",
    "`year`            | year of observation\n",
    "`plot_id`         | ID of a particular site\n",
    "`species_id`      | 2-letter code\n",
    "`sex`             | sex of animal (“M”, “F”)\n",
    "`hindfoot_length` | length of the hindfoot in mm\n",
    "`weight`          | weight of the animal in grams"
   ]
  },
  {
   "cell_type": "markdown",
   "metadata": {},
   "source": [
    "With this data file, we are studying the species and weight\n",
    "of animals caught in plots (or sites) in our study area.\n",
    "Each row holds information for a single animal.\n",
    "\n",
    "The details for each species is then provided in the file\n",
    "[`data/species.csv`](data/species.csv).\n",
    "The following command returns the first lines of that CSV file:"
   ]
  },
  {
   "cell_type": "code",
   "execution_count": null,
   "metadata": {},
   "outputs": [],
   "source": [
    "!head data/species.csv"
   ]
  },
  {
   "cell_type": "markdown",
   "metadata": {},
   "source": [
    " Column      | Description\n",
    "------------ | -----------\n",
    "`species_id` | Species identifier encoded with two letters\n",
    "`genus`      | Type of species\n",
    "`species`    | Latin name\n",
    "`taxa`       | Species familly"
   ]
  },
  {
   "cell_type": "markdown",
   "metadata": {},
   "source": [
    "Reference: Ernst *et al*\n",
    "[Long-term monitoring and experimental manipulation\n",
    "of a Chihuahuan Desert ecosystem near Portal, Arizona, USA](https://esapubs.org/archive/ecol/E090/118/)"
   ]
  },
  {
   "cell_type": "markdown",
   "metadata": {},
   "source": [
    "### Reference\n",
    "Python modules:\n",
    "* [`pandas`](https://pandas.pydata.org/docs/reference/index.html)\n",
    "* [`altair`](https://altair-viz.github.io/index.html),\n",
    "  [Vega-Lite](https://vega.github.io/vega-lite/)\n",
    "  grammar of interactive graphics\n",
    "* Other visualization modules:\n",
    "  * [`plotnine`](https://plotnine.org)\n",
    "  * [`bokeh`](https://docs.bokeh.org/en/latest/)\n",
    "    and [`plotly`](https://plotly.com/python/)\n",
    "    for interactive plots in a Web page\n",
    "\n",
    "Python development environments:\n",
    "* [JupyterLab](https://docs.alliancecan.ca/wiki/Jupyter#JupyterLab) on supercomputers\n",
    "* [Spyder IDE](https://www.spyder-ide.org)\n",
    "* [Visual Studio Code](https://code.visualstudio.com)\n",
    "\n",
    "Training:\n",
    "* Future workshops at\n",
    "  [Calcul Québec](https://www.eventbrite.ca/o/calcul-quebec-8295332683)\n",
    "  and the\n",
    "  [Digital Research Alliance of Canada](https://explora.alliancecan.ca/)\n",
    "* [Software Carpentry](https://software-carpentry.org/lessons/)\n",
    "  and [Data Carpentry](https://datacarpentry.org/lessons/) online tutorials:\n",
    "  * [The Unix Shell](https://swcarpentry.github.io/shell-novice/)\n",
    "  * [Programming with Python](https://swcarpentry.github.io/python-novice-inflammation/)\n",
    "  * [Data Cleaning with OpenRefine](https://datacarpentry.org/OpenRefine-ecology-lesson/)\n",
    "  * [Data Management with SQL](https://datacarpentry.org/sql-ecology-lesson/)\n",
    "  * [Data Analysis and Visualization in R](https://datacarpentry.org/R-ecology-lesson/)"
   ]
  },
  {
   "cell_type": "code",
   "execution_count": null,
   "metadata": {},
   "outputs": [],
   "source": []
  }
 ],
 "metadata": {
  "kernelspec": {
   "display_name": "Python 3 (ipykernel)",
   "language": "python",
   "name": "python3"
  },
  "language_info": {
   "codemirror_mode": {
    "name": "ipython",
    "version": 3
   },
   "file_extension": ".py",
   "mimetype": "text/x-python",
   "name": "python",
   "nbconvert_exporter": "python",
   "pygments_lexer": "ipython3",
   "version": "3.11.7"
  }
 },
 "nbformat": 4,
 "nbformat_minor": 4
}
