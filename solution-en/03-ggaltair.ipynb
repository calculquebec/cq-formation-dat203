{
 "cells": [
  {
   "cell_type": "markdown",
   "id": "570d9c02-de8e-4b2c-935f-151a18d51931",
   "metadata": {
    "lang": "en"
   },
   "source": [
    "# Data Visualization in Python\n",
    "## Building your plots iteratively\n",
    "\n",
    "Question\n",
    "* What is *grammar of graphics*?\n",
    "\n",
    "Objectives\n",
    "* Change the aesthetics of a plot such as color.\n",
    "* Change the scale of the axes.\n",
    "* Edit the plot title and the axis labels."
   ]
  },
  {
   "cell_type": "code",
   "execution_count": null,
   "id": "877a07a6-0822-4410-89e0-66560e42d282",
   "metadata": {},
   "outputs": [],
   "source": []
  }
 ],
 "metadata": {
  "kernelspec": {
   "display_name": "Python 3 (ipykernel)",
   "language": "python",
   "name": "python3"
  },
  "language_info": {
   "codemirror_mode": {
    "name": "ipython",
    "version": 3
   },
   "file_extension": ".py",
   "mimetype": "text/x-python",
   "name": "python",
   "nbconvert_exporter": "python",
   "pygments_lexer": "ipython3",
   "version": "3.11.7"
  }
 },
 "nbformat": 4,
 "nbformat_minor": 5
}
