{
 "cells": [
  {
   "cell_type": "markdown",
   "id": "bbf3417c-27bb-404c-bb0b-1827b00f59f5",
   "metadata": {
    "lang": "en"
   },
   "source": [
    "# Data Visualization in Python\n",
    "## Introduction to Altair\n",
    "\n",
    "Question\n",
    "* How to create modern and interactive plots?\n",
    "\n",
    "Objective\n",
    "* Create a first `alt.Chart` object.\n",
    "* Save a figure as an image or as an interactive version."
   ]
  },
  {
   "cell_type": "code",
   "execution_count": null,
   "id": "bcc4c3f0-947d-46fc-a654-560044030295",
   "metadata": {},
   "outputs": [],
   "source": []
  }
 ],
 "metadata": {
  "kernelspec": {
   "display_name": "Python 3 (ipykernel)",
   "language": "python",
   "name": "python3"
  },
  "language_info": {
   "codemirror_mode": {
    "name": "ipython",
    "version": 3
   },
   "file_extension": ".py",
   "mimetype": "text/x-python",
   "name": "python",
   "nbconvert_exporter": "python",
   "pygments_lexer": "ipython3",
   "version": "3.11.7"
  }
 },
 "nbformat": 4,
 "nbformat_minor": 5
}
