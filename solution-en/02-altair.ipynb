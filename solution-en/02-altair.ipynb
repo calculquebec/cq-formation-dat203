{
 "cells": [
  {
   "cell_type": "markdown",
   "id": "bbf3417c-27bb-404c-bb0b-1827b00f59f5",
   "metadata": {
    "lang": "en"
   },
   "source": [
    "# Data Visualization in Python\n",
    "## Introduction to Altair\n",
    "\n",
    "Question\n",
    "* How to create modern and interactive plots?\n",
    "\n",
    "Objective\n",
    "* Understanding the basics of a grammar of graphics.\n",
    "* Create a first `alt.Chart` object.\n",
    "* Save a figure as an image or as an interactive version."
   ]
  },
  {
   "cell_type": "code",
   "execution_count": null,
   "id": "bf8ac910-115c-4c4e-9dd2-bf00dddf9bc4",
   "metadata": {
    "lang": "en"
   },
   "outputs": [],
   "source": [
    "import pandas as pd\n",
    "\n",
    "# Load the cleaned data\n",
    "surveys_complete = pd.read_csv('../data/surveys_0_NA.csv')\n",
    "surveys_complete"
   ]
  },
  {
   "cell_type": "markdown",
   "id": "2ceb879e-7821-4125-8078-94be632ca762",
   "metadata": {
    "lang": "en"
   },
   "source": [
    "## Grammar of graphics\n",
    "* Introduced by Leland Wilkinson at the beginning of the 1990s.\n",
    "* A common, structured language for describing and\n",
    "  understanding the various aspects of any visualization.\n",
    "\n",
    "Interesting explanatory video:\n",
    "\n",
    "[![YouTube - A Grammar of Graphics](https://img.youtube.com/vi/RCaFBJWXfZc/default.jpg)](https://www.youtube.com/watch?v=RCaFBJWXfZc)"
   ]
  },
  {
   "cell_type": "markdown",
   "id": "1c4ef19e-3193-499a-80c5-6c75baceb59b",
   "metadata": {
    "lang": "en"
   },
   "source": [
    "### Seven central elements\n",
    "1. Data\n",
    "   * What do we represent.\n",
    "2. Aesthetic\n",
    "   * How we represent it.\n",
    "3. Coordinate system\n",
    "   * How we position our data.\n",
    "4. Scale\n",
    "   * How we move from data to aesthetic representation.\n",
    "5. Geometric objects\n",
    "   * What type of geometric object is used?\n",
    "6. Statistics\n",
    "   * How data is calculated/modified.\n",
    "      * For example, the count, quartiles, regression lines, etc.\n",
    "7. Facets\n",
    "   * How we divide our data into multiple sets or graphs."
   ]
  },
  {
   "cell_type": "markdown",
   "id": "df771a74-250f-40f1-af6b-42954971cc17",
   "metadata": {
    "lang": "en,fr"
   },
   "source": [
    "![Facets by year and sex](../images/facet-year-sex.png)"
   ]
  },
  {
   "cell_type": "markdown",
   "id": "8cc00f1b-239d-41b6-b12f-f10baaeb3c5d",
   "metadata": {
    "lang": "en"
   },
   "source": [
    "In the above figure, we have:\n",
    "1. Data\n",
    "   * Fields: `weight`, `hindfoot_length`, `species_id`\n",
    "   * Data distribution by `year` and by `sex`\n",
    "2. Aesthetic\n",
    "   * Position according to `hindfoot_length` and `weight`\n",
    "   * Color according to `species_id`\n",
    "3. Coordinate system\n",
    "   * Cartesian coordinate system\n",
    "      * Two axes: X and Y\n",
    "4. Scale\n",
    "   * X (`hindfoot_length`): from 0 to 65\n",
    "   * Y (`weight`): from 4 to 512\n",
    "      * Logarithmic scale to base 2\n",
    "   * Colors (`species_id`): blue, orange, red, etc.\n",
    "5. Geometric objects\n",
    "   * Semi-transparent circles\n",
    "6. Statistics\n",
    "   * Data represented as is, without transformation\n",
    "7. Facets\n",
    "   * Facets by `year` and by `sex`"
   ]
  },
  {
   "cell_type": "markdown",
   "id": "46d9d3c8-d72c-47c7-a03a-76974eb49bda",
   "metadata": {
    "lang": "en"
   },
   "source": [
    "### Grammar of interactive graphics\n",
    "Adding interaction elements on top of the grammar of graphics\n",
    "* Events\n",
    "  * Click on or near an item\n",
    "  * Hovering over an item\n",
    "  * Shift\n",
    "  * Zoom\n",
    "* Selection \n",
    "  * What is selected: point, region, subset\n",
    "* Actions\n",
    "  * What happens to the chart\n",
    "\n",
    "Here is a video about it:\n",
    "\n",
    "[![YouTube - Vega-Lite - A grammar of Interactive Graphics](https://img.youtube.com/vi/rydth27fB3Q/default.jpg)](https://www.youtube.com/watch?v=rydth27fB3Q)"
   ]
  },
  {
   "cell_type": "markdown",
   "id": "087686c8-7964-45cd-ac80-9104b5db3586",
   "metadata": {
    "lang": "en"
   },
   "source": [
    "## Visualization Libraries\n",
    "Several visualization libraries explicitly rely\n",
    "on the grammar of graphics in their design:\n",
    "* **R** : ggplot\n",
    "* **JavaScript** : Vega-Lite, nd3\n",
    "* **Python** : Altair, Bokeh, Plotly, Plotnine, Seaborn (>0.12)\n",
    "\n",
    "Which Python library to choose?\n",
    "* Depending on the type of library you need.\n",
    "* Depending on what is popular in your research area."
   ]
  },
  {
   "cell_type": "markdown",
   "id": "c1c654d7-bc54-4d08-b135-8d95028ad87d",
   "metadata": {
    "lang": "en"
   },
   "source": [
    "|              Type               |     Name     | Forks | Stars |\n",
    "| ------------------------------- | ------------ | ----: | ----: |\n",
    "| Traditional                     | `matplotlib` |  7900 | 21.2k |\n",
    "| Traditional                     | `seaborn`    |  2000 | 13.1k |\n",
    "| Grammar of graphics             | `plotnine`   |   233 |  4.2k |\n",
    "| Grammar of interactive graphics | `altair`     |   805 |  9.8k |\n",
    "| Grammar of interactive graphics | `bokeh`      |  4200 | 19.8k |\n",
    "| Grammar of interactive graphics | `plotly`     |  2600 | 17.1k |\n",
    "| Specialized                     | `folium`     |  2200 |  7.1k |\n",
    "| Specialized                     | `geoplotlib` |   175 |  1.0k |"
   ]
  },
  {
   "cell_type": "markdown",
   "id": "89834ab9-0c89-4632-9a06-1ab0e0f8d6a3",
   "metadata": {
    "lang": "en"
   },
   "source": [
    "### Why `altair`? Why not `matplotlib`?\n",
    "\n",
    "While `matplotlib` is a widely used and quite flexible\n",
    "visualization library, the plots programming is not\n",
    "as intuitive as with `altair`. Moreover, the `altair`\n",
    "[library](https://altair-viz.github.io/index.html)\n",
    "facilitates the creation of highly informative\n",
    "[interactive graphics](https://vega.github.io/vega-lite/)\n",
    "from data stored in Pandas objects.\n",
    "\n",
    "We will see different visualization concepts that can\n",
    "be reproduced more or less easily with other libraries\n",
    "such as `matplotlib`, `plotnine`, `plotly` and `seaborn`."
   ]
  },
  {
   "cell_type": "code",
   "execution_count": null,
   "id": "9e2605de-8993-4451-9dd2-52353286b8ab",
   "metadata": {
    "lang": "en,fr"
   },
   "outputs": [],
   "source": [
    "import altair as alt"
   ]
  },
  {
   "cell_type": "markdown",
   "id": "7ab60119-1fd8-4d1b-af43-cd768e278f2c",
   "metadata": {
    "lang": "en"
   },
   "source": [
    "Because the charts generated by Altair are not just static\n",
    "images, the generated information can be quite heavy and\n",
    "it accumulates if there are multiple plots in a notebook.\n",
    "By default, Altair processes DataFrames of up to 5000 records,\n",
    "but we can disable that limit to our own risks."
   ]
  },
  {
   "cell_type": "code",
   "execution_count": null,
   "id": "8ccfa82e-6032-42fe-82d7-77b447234589",
   "metadata": {
    "lang": "en,fr"
   },
   "outputs": [],
   "source": [
    "alt.data_transformers.disable_max_rows()"
   ]
  },
  {
   "cell_type": "markdown",
   "id": "6c4eabb8-fe1c-4e82-b7d7-e5aa55cdbb83",
   "metadata": {
    "lang": "en"
   },
   "source": [
    "## Plotting with `altair`\n",
    "`altair` charts are built step by step from\n",
    "a `Chart` object constructed with a DataFrame:\n",
    "* **Choosing the type of chart** -\n",
    "  The first mandatory method starts with `mark_`.\n",
    "  For example, `mark_point()`.\n",
    "  By default, all points are overlapping and this is normal."
   ]
  },
  {
   "cell_type": "code",
   "execution_count": null,
   "id": "26eb2d44-3d9d-435a-b1dc-afa9bdfbbdba",
   "metadata": {
    "lang": "en"
   },
   "outputs": [],
   "source": [
    "# New Chart object and choice of type of chart\n",
    "alt.Chart(surveys_complete).mark_point()"
   ]
  },
  {
   "cell_type": "markdown",
   "id": "4bc745e5-2c66-4fa6-9241-4cf676e29e16",
   "metadata": {
    "lang": "en"
   },
   "source": [
    "* **Encoding channels** - Then we need to\n",
    "  [encode](https://altair-viz.github.io/user_guide/encodings/)\n",
    "  channels that are linking some fields of the DataFrame to\n",
    "  elements of the chart. The main parameters of `encode()` are:\n",
    "  `x`, `y`, `color`, `shape` and `size`."
   ]
  },
  {
   "cell_type": "code",
   "execution_count": null,
   "id": "ee3f6431-a0a5-4f80-9230-d82b67413b7c",
   "metadata": {
    "lang": "en"
   },
   "outputs": [],
   "source": [
    "# Once the axises are defined, the points take their position\n",
    "alt.Chart(surveys_complete).mark_point().encode(\n",
    "    x=alt.X('hindfoot_length'),\n",
    "    y=alt.Y('weight'),\n",
    ")"
   ]
  },
  {
   "cell_type": "markdown",
   "id": "cb8f2018-1277-487c-b8d7-b7ab43c5299a",
   "metadata": {
    "lang": "en"
   },
   "source": [
    "* **Interactive navigation** - When a chart is made _interactive_,\n",
    "  it allows to zoom in & out, and to drag the chart with the mouse."
   ]
  },
  {
   "cell_type": "code",
   "execution_count": null,
   "id": "8cbd57a5-8ad6-4f73-bbb3-e2b867f8f3e5",
   "metadata": {
    "lang": "en"
   },
   "outputs": [],
   "source": [
    "# Enable interactions with the mouse\n",
    "alt.Chart(surveys_complete).mark_point().encode(\n",
    "    x=alt.X('hindfoot_length'),\n",
    "    y=alt.Y('weight'),\n",
    ").interactive()"
   ]
  },
  {
   "cell_type": "markdown",
   "id": "2946bd5d-8c09-4dfb-b6bc-630ba4d2de5d",
   "metadata": {
    "lang": "en"
   },
   "source": [
    "* **Temporary columns** - To add some noise,\n",
    "  we can create temporary columns with\n",
    "  [`transform_calculate()`](https://altair-viz.github.io/user_guide/transform/calculate.html).\n",
    "  Once done, we have to specify\n",
    "  [the data type](https://altair-viz.github.io/user_guide/encodings/index.html#encoding-data-types)."
   ]
  },
  {
   "cell_type": "code",
   "execution_count": null,
   "id": "a1e42c64-8a1a-4413-b0ac-af07c2eade92",
   "metadata": {
    "lang": "en"
   },
   "outputs": [],
   "source": [
    "# Temporary columns with noise\n",
    "alt.Chart(surveys_complete).transform_calculate(\n",
    "    noisy_length='datum.hindfoot_length + random() - 0.5',\n",
    "    noisy_weight='datum.weight + random() - 0.5',\n",
    ").mark_point().encode(\n",
    "    x=alt.X('noisy_length').type('quantitative'),\n",
    "    y=alt.Y('noisy_weight').type('quantitative'),\n",
    ").interactive()"
   ]
  },
  {
   "cell_type": "markdown",
   "id": "e2880037-ab67-4c90-adc4-27d33bd35f0f",
   "metadata": {
    "lang": "en"
   },
   "source": [
    "* **Having values displayed interactively** -\n",
    "  Encode the `tooltip` channel with a list of\n",
    "  fields to display when moving the mouse pointer."
   ]
  },
  {
   "cell_type": "code",
   "execution_count": null,
   "id": "36294963-00fb-4856-9856-0e0fba81ddcc",
   "metadata": {
    "lang": "en"
   },
   "outputs": [],
   "source": [
    "# Display values of selected fields when moving the mouse\n",
    "chart = alt.Chart(surveys_complete).transform_calculate(\n",
    "    noisy_length='datum.hindfoot_length + random() - 0.5',\n",
    "    noisy_weight='datum.weight + random() - 0.5',\n",
    ").mark_point().encode(\n",
    "    x=alt.X('noisy_length').type('quantitative'),\n",
    "    y=alt.Y('noisy_weight').type('quantitative'),\n",
    "    tooltip=['plot_id', 'species_id', 'hindfoot_length', 'weight'],\n",
    ").interactive()\n",
    "chart"
   ]
  },
  {
   "cell_type": "markdown",
   "id": "13f75cad-8f65-47fc-97c5-7670716f9c2a",
   "metadata": {
    "lang": "en"
   },
   "source": [
    "* **Saving the figure** - It is possible to save the chart in the\n",
    "  [format of our choice](https://altair-viz.github.io/user_guide/saving_charts.html)."
   ]
  },
  {
   "cell_type": "code",
   "execution_count": null,
   "id": "5640209f-84eb-43ad-9c4c-89db354df133",
   "metadata": {
    "lang": "en"
   },
   "outputs": [],
   "source": [
    "chart.save('weight_length.html')"
   ]
  },
  {
   "cell_type": "code",
   "execution_count": null,
   "id": "27f611a1-9343-4b08-8347-4fb2dd728344",
   "metadata": {
    "lang": "en"
   },
   "outputs": [],
   "source": [
    "# Other formats: PDF (heavier), PNG, SVG\n",
    "try:\n",
    "    chart.save('weight_length.png')\n",
    "    chart.save('weight_length.svg')\n",
    "except BaseException as err:\n",
    "    print('Error:', err)\n",
    "    print('-> We better use the (•••) button')"
   ]
  },
  {
   "cell_type": "markdown",
   "id": "d6adb496-baaa-43ac-b3d9-2d4f1900e799",
   "metadata": {
    "lang": "en"
   },
   "source": [
    "### Exercise - Create a bar chart\n",
    "From the `surveys_complete` DataFrame, create an histogram that\n",
    "shows the count of records for each `plot_id`. Instructions:\n",
    "* Use\n",
    "  [`mark_bar()`](https://altair-viz.github.io/gallery/simple_bar_chart.html)\n",
    "  to generate the\n",
    "  [chart](https://altair-viz.github.io/gallery/simple_histogram.html)\n",
    "* For the X axis, specify the `'plot_id'` field and the\n",
    "  [`'ordinal'` type](https://altair-viz.github.io/user_guide/encodings/#encoding-data-types)\n",
    "* For the Y axis, specify `'count()'` as a temporary field computed\n",
    "  automatically by Altair, which saves us from using `groupby()`\n",
    "* Activate the `tooltip` channel with `'count()'`\n",
    "\n",
    "(7 min.)"
   ]
  },
  {
   "cell_type": "code",
   "execution_count": null,
   "id": "899c3af6-7783-4ebd-aac2-9fe334f5d7e2",
   "metadata": {
    "lang": "en",
    "tags": [
     "soln"
    ]
   },
   "outputs": [],
   "source": [
    "alt.Chart(surveys_complete).mark_bar().encode(\n",
    "    x=alt.X('plot_id').type('ordinal'),\n",
    "    y=alt.Y('count()'),\n",
    "    tooltip=['count()'],\n",
    ")"
   ]
  },
  {
   "cell_type": "markdown",
   "id": "1543a3e6-9544-444e-a6f4-68eba7242c7c",
   "metadata": {
    "lang": "en"
   },
   "source": [
    "## Key points\n",
    "* **Altair module**\n",
    "  * `import altair as alt`\n",
    "  * Deactivate the limit: `alt.data_transformers.disable_max_rows()`\n",
    "* **Creating a new empty chart**\n",
    "  * `chart = alt.Chart(df)`\n",
    "* **Temporary columns**\n",
    "  * `chart.transform_calculate(col2='datum.col1 + random()-0.5')`\n",
    "* **Choosing a type of chart**\n",
    "  * `chart.mark_point()`\n",
    "  * `chart.mark_bar()`\n",
    "* **Assigning data fields to encoding channels**:\n",
    "  * `chart.encode(...)`\n",
    "  * Encoding channels:\n",
    "    * `x=alt.X('varX')` and `y=alt.Y('varY')`\n",
    "      * `.type('type')`, with the\n",
    "        [different types](https://altair-viz.github.io/user_guide/encodings/index.html#encoding-data-types) :\n",
    "        * Continuous quantity: `'quantitative'`, `'var:Q'`\n",
    "        * Discrete ordered quantity: `'ordinal'`, `'var:O'`\n",
    "        * Discrete unordered category: `'nominal'`, `'var:N'`\n",
    "        * Time or date value: `'temporal'`, `'var:T'`\n",
    "    * `tooltip=['field_name1', 'field_name2', 'field_name3', ...]`\n",
    "* **Other properties of the chart**\n",
    "  * `chart.interactive()`\n",
    "* **Saving the figure**\n",
    "  * `chart.save(\"chart.html\")`\n",
    "  * `chart.save(\"chart.png\")`\n",
    "  * `chart.save(\"chart.svg\")`"
   ]
  },
  {
   "cell_type": "code",
   "execution_count": null,
   "id": "bcc4c3f0-947d-46fc-a654-560044030295",
   "metadata": {},
   "outputs": [],
   "source": []
  }
 ],
 "metadata": {
  "kernelspec": {
   "display_name": "Python 3 (ipykernel)",
   "language": "python",
   "name": "python3"
  },
  "language_info": {
   "codemirror_mode": {
    "name": "ipython",
    "version": 3
   },
   "file_extension": ".py",
   "mimetype": "text/x-python",
   "name": "python",
   "nbconvert_exporter": "python",
   "pygments_lexer": "ipython3",
   "version": "3.11.7"
  }
 },
 "nbformat": 4,
 "nbformat_minor": 5
}
