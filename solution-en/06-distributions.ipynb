{
 "cells": [
  {
   "cell_type": "markdown",
   "id": "ec3e3066-d683-4436-915e-f1f2cdf6c522",
   "metadata": {
    "lang": "en"
   },
   "source": [
    "# Data Visualization in Python\n",
    "## Plotting distributions\n",
    "\n",
    "Question\n",
    "* How to visualize data distributions by some factor?\n",
    "\n",
    "Objective\n",
    "* Create different types of plots."
   ]
  },
  {
   "cell_type": "code",
   "execution_count": null,
   "id": "40ce9e66-bf7b-45cf-b003-6854b2fe5c24",
   "metadata": {
    "lang": "en"
   },
   "outputs": [],
   "source": [
    "import pandas as pd\n",
    "\n",
    "# Load the cleaned data\n",
    "surveys_complete = pd.read_csv('../data/surveys_0_NA.csv')\n",
    "surveys_complete"
   ]
  },
  {
   "cell_type": "code",
   "execution_count": null,
   "id": "ad428249-6641-4a3e-a943-7af2f8a567ec",
   "metadata": {
    "lang": "en,fr"
   },
   "outputs": [],
   "source": [
    "import altair as alt\n",
    "alt.data_transformers.disable_max_rows()"
   ]
  },
  {
   "cell_type": "markdown",
   "id": "06859f04-9dcc-411e-b52a-55dc7c5a2ccb",
   "metadata": {
    "lang": "en"
   },
   "source": [
    "## Plotting distributions\n",
    "* A boxplot can be used:"
   ]
  },
  {
   "cell_type": "code",
   "execution_count": null,
   "id": "1d197cb2-5ad6-4a44-ad61-d2ef1b569962",
   "metadata": {
    "lang": "en"
   },
   "outputs": [],
   "source": [
    "alt.Chart(surveys_complete).mark_boxplot().encode(\n",
    "    x=alt.X('species_id').title('Species identifier'),\n",
    "    y=alt.Y('weight').scale(type='log', base=2).title('Weight (g)'),\n",
    "    color=alt.Color('species_id').legend(None),\n",
    ")"
   ]
  },
  {
   "cell_type": "markdown",
   "id": "79c0fad6-0ab5-44ee-ae2d-3db9da6eea8f",
   "metadata": {
    "lang": "en"
   },
   "source": [
    "* Narrow facets can be used to display multiple point clouds:"
   ]
  },
  {
   "cell_type": "code",
   "execution_count": null,
   "id": "b379a53d-8a7c-4616-ad32-5d076871e6c0",
   "metadata": {
    "lang": "en"
   },
   "outputs": [],
   "source": [
    "alt.Chart(surveys_complete).transform_calculate(\n",
    "    noise='random() - 0.5',  # Horizontal position in the facet\n",
    "    noisy_w='datum.weight + random() - 0.5',\n",
    ").mark_circle(size=4).encode(\n",
    "    x=alt.X('noise').type('quantitative').axis(None).title(None),\n",
    "    y=alt.Y('noisy_w:Q').scale(type='log', base=2).title('Weight (g)'),\n",
    "    color=alt.Color('species_id').legend(None),\n",
    "    column=alt.Column('species_id').title('Weights by species'),\n",
    ").configure_mark(\n",
    "    opacity=0.25,  # Opacity factor of mark_circle()\n",
    ").configure_facet(\n",
    "    spacing=0,     # Delete the margin between each facet\n",
    ").configure_view(\n",
    "    stroke=None,   # Remove the box around each facet\n",
    ").properties(\n",
    "    width=18,      # Each facet width\n",
    ")"
   ]
  },
  {
   "cell_type": "markdown",
   "id": "11114217-c0fe-4b75-b8b0-cdc3cba3af41",
   "metadata": {
    "lang": "en"
   },
   "source": [
    "### Exercise - Distributions\n",
    "For this exercise, we want to display the\n",
    "full species names on the X axis of a boxplot.\n",
    "\n",
    "(Preparation) Compute the left-join of `surveys_complete`\n",
    "and all the species details in `species.csv`. (3 min.)"
   ]
  },
  {
   "cell_type": "code",
   "execution_count": null,
   "id": "df5936ba-8826-4861-af3d-d56260f67ac4",
   "metadata": {
    "lang": "en"
   },
   "outputs": [],
   "source": [
    "species_df = pd.read_csv('../data/species.csv')\n",
    "\n",
    "left_join = pd.merge(\n",
    "    left=surveys_complete,\n",
    "    right=species_df,\n",
    "    on='species_id',\n",
    "    how='left'\n",
    ")\n",
    "\n",
    "left_join.columns"
   ]
  },
  {
   "cell_type": "markdown",
   "id": "970328dd-aef5-4099-8628-fa5fc652f004",
   "metadata": {
    "lang": "en"
   },
   "source": [
    "Create the boxplot:\n",
    "* The full species names on the X axis, with the label \"Species\"\n",
    "* The weights on the Y axis, with a logarithmic\n",
    "  scale in base 2 and with the label \"Weight (g)\"\n",
    "* One color for each species identifier\n",
    "* A title for the chart\n",
    "\n",
    "(6 min.)"
   ]
  },
  {
   "cell_type": "code",
   "execution_count": null,
   "id": "1a334ffc-069d-42d0-914b-1c7e83e8f169",
   "metadata": {
    "lang": "en",
    "tags": [
     "soln"
    ]
   },
   "outputs": [],
   "source": [
    "alt.Chart(left_join).mark_boxplot().encode(\n",
    "    x=alt.X('species').title('Species'),\n",
    "    y=alt.Y('weight').scale(type='log', base=2).title('Weight (g)'),\n",
    "    color=alt.Color('species_id').legend(None),\n",
    ").properties(\n",
    "    title='Distribution of weights by species',\n",
    ")"
   ]
  },
  {
   "cell_type": "markdown",
   "id": "97384ae0-b493-4839-87c2-dafe461acc84",
   "metadata": {
    "lang": "en"
   },
   "source": [
    "## Key points\n",
    "* **Temporary columns**\n",
    "  * `chart.transform_calculate(col2='datum.col1 + random()-0.5')`\n",
    "* **Choosing a type of chart**\n",
    "  * `chart.mark_boxplot()`\n",
    "  * `chart.mark_circle(size=N)`\n",
    "* **Assigning data fields to encoding channels**:\n",
    "  * `chart.encode(...)`\n",
    "  * Encoding channels:\n",
    "    * `color=alt.Color('field_name_for_colors')`\n",
    "      * `.legend(None)`\n",
    "    * `column=alt.Column('field_name_for_facet_columns')`\n",
    "* **Other properties of the chart**\n",
    "  * `chart.configure_facet(spacing=0)`\n",
    "  * `chart.configure_view(stroke=None)`\n",
    "  * `chart.properties(width=20)`"
   ]
  },
  {
   "cell_type": "code",
   "execution_count": null,
   "id": "97e570cf-c97b-4bc9-8870-7d9277df35ae",
   "metadata": {},
   "outputs": [],
   "source": []
  }
 ],
 "metadata": {
  "kernelspec": {
   "display_name": "Python 3 (ipykernel)",
   "language": "python",
   "name": "python3"
  },
  "language_info": {
   "codemirror_mode": {
    "name": "ipython",
    "version": 3
   },
   "file_extension": ".py",
   "mimetype": "text/x-python",
   "name": "python",
   "nbconvert_exporter": "python",
   "pygments_lexer": "ipython3",
   "version": "3.11.7"
  }
 },
 "nbformat": 4,
 "nbformat_minor": 5
}
