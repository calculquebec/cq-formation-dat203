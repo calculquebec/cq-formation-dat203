{
 "cells": [
  {
   "cell_type": "markdown",
   "id": "8d7c1acf-b65b-4b55-9dc0-7dc66bef747f",
   "metadata": {
    "lang": "en"
   },
   "source": [
    "# Data Visualization in Python\n",
    "## Faceting\n",
    "\n",
    "Question\n",
    "* How to visually compare data in the same figure?\n",
    "\n",
    "Objective\n",
    "* Create a collection of plots splitting the data by a \"factor\" variable."
   ]
  },
  {
   "cell_type": "code",
   "execution_count": null,
   "id": "0e246b00-353f-4b32-905c-ea7f7b28ba87",
   "metadata": {
    "lang": "en"
   },
   "outputs": [],
   "source": [
    "import pandas as pd\n",
    "\n",
    "# Load the cleaned data\n",
    "surveys_complete = pd.read_csv('../data/surveys_0_NA.csv')\n",
    "surveys_complete"
   ]
  },
  {
   "cell_type": "code",
   "execution_count": null,
   "id": "fe574e0f-6e76-40b6-a88d-15875d25e96a",
   "metadata": {
    "lang": "en,fr"
   },
   "outputs": [],
   "source": [
    "import altair as alt\n",
    "alt.data_transformers.disable_max_rows()"
   ]
  },
  {
   "cell_type": "markdown",
   "id": "ef019e84-f3b5-43f1-9a21-0b5201cfa700",
   "metadata": {
    "lang": "en"
   },
   "source": [
    "## Faceting\n",
    "`altair` has a special technique called *faceting*\n",
    "that allows to split one plot into multiple plots\n",
    "based on a factor variable included in the dataset.\n",
    "\n",
    "* With the different values of `sex`:"
   ]
  },
  {
   "cell_type": "code",
   "execution_count": null,
   "id": "4ba33c16-c24f-4615-994b-95df3fc6b317",
   "metadata": {
    "lang": "en"
   },
   "outputs": [],
   "source": [
    "alt.Chart(surveys_complete).mark_point().encode(\n",
    "    x=alt.X('hindfoot_length'),\n",
    "    y=alt.Y('weight').scale(type='log', base=2),\n",
    "    color=alt.Color('species_id'),\n",
    "    facet=alt.Facet('sex'),\n",
    "    tooltip=['species_id'],\n",
    ").configure_mark(\n",
    "    opacity=0.05,\n",
    ").properties(\n",
    "    width=240,\n",
    "    height=384,\n",
    ")"
   ]
  },
  {
   "cell_type": "markdown",
   "id": "8c93619e-bd9c-4f66-8863-64393fa25d6e",
   "metadata": {
    "lang": "en"
   },
   "source": [
    "* With the numerous values of `species_id`:"
   ]
  },
  {
   "cell_type": "code",
   "execution_count": null,
   "id": "08216333-70f4-4f14-9138-1de8981d5a2e",
   "metadata": {
    "lang": "en"
   },
   "outputs": [],
   "source": [
    "alt.Chart(surveys_complete).mark_point().encode(\n",
    "    x=alt.X('hindfoot_length'),\n",
    "    y=alt.Y('weight').scale(type='log', base=2),\n",
    "    color=alt.Color('sex'),\n",
    "    facet=alt.Facet('species_id').columns(5),\n",
    "    tooltip=['sex'],\n",
    ").configure_mark(\n",
    "    opacity=0.05,\n",
    ").properties(\n",
    "    width=90,\n",
    "    height=60,\n",
    ")"
   ]
  },
  {
   "cell_type": "markdown",
   "id": "0700832a-2b5b-4812-aaa6-1ae618fbb254",
   "metadata": {
    "lang": "en"
   },
   "source": [
    "* To create a grid of facets such that each row of facets\n",
    "  corresponds to one value of a variable, and each column\n",
    "  of facets corresponds to one value of a second variable,\n",
    "  we use the encoding channels `row` and `column`:"
   ]
  },
  {
   "cell_type": "code",
   "execution_count": null,
   "id": "ab7ec493-11eb-48f8-995f-0346fec90330",
   "metadata": {
    "lang": "en"
   },
   "outputs": [],
   "source": [
    "# Only keep three years\n",
    "surveys2000 = surveys_complete[surveys_complete['year'].isin([2000, 2001, 2002])]\n",
    "\n",
    "alt.Chart(surveys2000).mark_point().encode(\n",
    "    x=alt.X('hindfoot_length'),\n",
    "    y=alt.Y('weight').scale(type='log', base=2),\n",
    "    color=alt.Color('species_id'),\n",
    "    row=alt.Row('sex'),\n",
    "    column=alt.Column('year'),\n",
    "    tooltip=['species_id'],\n",
    ").configure_mark(\n",
    "    opacity=0.05,\n",
    ").properties(\n",
    "    width=128,\n",
    "    height=128,\n",
    ")"
   ]
  },
  {
   "cell_type": "markdown",
   "id": "c1a3f95d-20d5-4ed7-aadd-7dec45d29361",
   "metadata": {
    "lang": "en"
   },
   "source": [
    "### Exercise - Faceting\n",
    "* Create two facets by the `sex`\n",
    "* Each facet will have:\n",
    "  * Years on the X axis\n",
    "  * The average weight on the Y axis\n",
    "  * One colored line per species\n",
    "\n",
    "(5 min.)"
   ]
  },
  {
   "cell_type": "code",
   "execution_count": null,
   "id": "63f3524c-1582-41a1-b8ea-6cb767f2ddbe",
   "metadata": {
    "lang": "en",
    "tags": [
     "exer"
    ]
   },
   "outputs": [],
   "source": [
    "alt.Chart(surveys_complete).###().encode(\n",
    "    x=alt.X('year').type###,\n",
    "    y=alt.Y('weight').aggregate###,\n",
    "    color=###,\n",
    "    ###('sex'),\n",
    ").properties(\n",
    "    width=256,\n",
    ")"
   ]
  },
  {
   "cell_type": "markdown",
   "id": "4d7d4f14-e319-4f01-9d00-1c3236305dd6",
   "metadata": {
    "lang": "en"
   },
   "source": [
    "## Key points\n",
    "* **Assigning data fields to encoding channels**:\n",
    "  * `chart.encode(...)`\n",
    "  * Encoding channels:\n",
    "    * `facet=alt.Facet('field_name_for_facets')`\n",
    "      * `.columns(N)`\n",
    "    * `row=alt.Row('field_name_for_facet_rows')`\n",
    "    * `column=alt.Column('field_name_for_facet_columns')`"
   ]
  },
  {
   "cell_type": "code",
   "execution_count": null,
   "id": "09a236f8-2b3a-4626-b54f-13e774a500e6",
   "metadata": {},
   "outputs": [],
   "source": []
  }
 ],
 "metadata": {
  "kernelspec": {
   "display_name": "Python 3 (ipykernel)",
   "language": "python",
   "name": "python3"
  },
  "language_info": {
   "codemirror_mode": {
    "name": "ipython",
    "version": 3
   },
   "file_extension": ".py",
   "mimetype": "text/x-python",
   "name": "python",
   "nbconvert_exporter": "python",
   "pygments_lexer": "ipython3",
   "version": "3.11.7"
  }
 },
 "nbformat": 4,
 "nbformat_minor": 5
}
