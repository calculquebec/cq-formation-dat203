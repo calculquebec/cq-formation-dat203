{
 "cells": [
  {
   "cell_type": "markdown",
   "id": "8b583343-ed32-4a23-a00d-815b980071e1",
   "metadata": {
    "lang": "en"
   },
   "source": [
    "# Data Visualization in Python\n",
    "## Visualization with Pandas and Matplotlib\n",
    "\n",
    "Questions\n",
    "* How to visualize data from a Pandas DataFrame?\n",
    "* How to customize a plot?\n",
    "\n",
    "Objectives\n",
    "* Create simple plots from a DataFrame.\n",
    "* Customize a plot with the methods of Matplotlib objects."
   ]
  },
  {
   "cell_type": "code",
   "execution_count": null,
   "id": "0c6afde3-a223-4b67-8678-72d673f8039b",
   "metadata": {},
   "outputs": [],
   "source": []
  }
 ],
 "metadata": {
  "kernelspec": {
   "display_name": "Python 3 (ipykernel)",
   "language": "python",
   "name": "python3"
  },
  "language_info": {
   "codemirror_mode": {
    "name": "ipython",
    "version": 3
   },
   "file_extension": ".py",
   "mimetype": "text/x-python",
   "name": "python",
   "nbconvert_exporter": "python",
   "pygments_lexer": "ipython3",
   "version": "3.11.7"
  }
 },
 "nbformat": 4,
 "nbformat_minor": 5
}
