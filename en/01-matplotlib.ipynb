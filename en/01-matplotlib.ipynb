{
 "cells": [
  {
   "cell_type": "markdown",
   "id": "8b583343-ed32-4a23-a00d-815b980071e1",
   "metadata": {
    "lang": "en"
   },
   "source": [
    "# Data Visualization in Python\n",
    "## Visualization with Pandas and Matplotlib\n",
    "\n",
    "Questions\n",
    "* What are the different data types in Pandas?\n",
    "* What impacts have data types on descriptive statistics?\n",
    "* How to visualize data from a Pandas DataFrame?\n",
    "* How to customize a plot?\n",
    "\n",
    "Objectives\n",
    "* Manipulate the data types.\n",
    "* Create simple plots from a DataFrame.\n",
    "* Customize a plot with the methods of Matplotlib objects."
   ]
  },
  {
   "cell_type": "code",
   "execution_count": null,
   "id": "c66fce2a-5fed-4c76-b03d-7dba685a7346",
   "metadata": {
    "lang": "en"
   },
   "outputs": [],
   "source": [
    "# First make sure pandas is loaded\n",
    "import pandas as pd\n",
    "\n",
    "# Read in the survey csv\n",
    "surveys_df = pd.read_csv('../data/surveys.csv')"
   ]
  },
  {
   "cell_type": "markdown",
   "id": "d9f75ec8-328c-4090-9785-70c0a8c55ba0",
   "metadata": {
    "lang": "en"
   },
   "source": [
    "## Types of Data\n",
    "Since the data types can impact the appearance of a chart,\n",
    "it is necessary to first validate the data type of each\n",
    "column in the DataFrame that we will use in our analysis."
   ]
  },
  {
   "cell_type": "markdown",
   "id": "de883e32-e562-4e69-877e-62364e161ec4",
   "metadata": {
    "lang": "en"
   },
   "source": [
    "Native Python Type | Pandas Type | Description\n",
    ":-----------------:|:-----------:|:-----------\n",
    "`str`              | `object`    | The most general dtype. Will be assigned to your column if column has mixed types (numbers and strings).\n",
    "`int`              | `int64`     | 64 bits integer\n",
    "`float`            | `float64`   | Numeric characters with decimals. If a column contains numbers and NaNs(see below), pandas will default to float64.\n",
    " N/A               | `datetime64`| Values meant to hold time data."
   ]
  },
  {
   "cell_type": "code",
   "execution_count": null,
   "id": "33a03671-8c6c-4576-a3dd-3192938a950e",
   "metadata": {
    "lang": "en"
   },
   "outputs": [],
   "source": [
    "# Getting the data type of species identifiers\n",
    "surveys_df['species_id'].dtype"
   ]
  },
  {
   "cell_type": "code",
   "execution_count": null,
   "id": "881f5b5a-2b42-488d-b1d2-26dcaede1601",
   "metadata": {
    "lang": "en"
   },
   "outputs": [],
   "source": [
    "# Getting the data type of month values\n",
    "surveys_df['month'].dtype"
   ]
  },
  {
   "cell_type": "code",
   "execution_count": null,
   "id": "f6baa8d1-f4ea-48c9-b289-21f5edeb9f5d",
   "metadata": {
    "lang": "en"
   },
   "outputs": [],
   "source": [
    "# Getting the data types of all columns\n",
    "surveys_df.dtypes"
   ]
  },
  {
   "cell_type": "markdown",
   "id": "b4d29e6d-e9ba-437e-a45d-62b9ecf04686",
   "metadata": {
    "lang": "en"
   },
   "source": [
    "### Working With Our Survey Data"
   ]
  },
  {
   "cell_type": "code",
   "execution_count": null,
   "id": "1c9b5acc-498c-4fbe-b87f-3d6b1138a418",
   "metadata": {
    "lang": "en"
   },
   "outputs": [],
   "source": [
    "# Summary of descriptive statistics\n",
    "surveys_df.describe()"
   ]
  },
  {
   "cell_type": "code",
   "execution_count": null,
   "id": "4b740cd4-0a10-47a0-91ad-1130b93fb437",
   "metadata": {
    "lang": "en"
   },
   "outputs": [],
   "source": [
    "# Convert month numbers to nominal values\n",
    "surveys_df['month'] = surveys_df['month'].astype('str')\n",
    "surveys_df['month'].dtype"
   ]
  },
  {
   "cell_type": "code",
   "execution_count": null,
   "id": "16edb618-e3ca-4bc1-9c4c-f1f530ebb647",
   "metadata": {
    "lang": "en"
   },
   "outputs": [],
   "source": [
    "# Descriptive statistics on a categorical variable\n",
    "surveys_df['month'].describe()"
   ]
  },
  {
   "cell_type": "code",
   "execution_count": null,
   "id": "49dc6b69-357e-4715-b878-1f5d43b13e26",
   "metadata": {
    "lang": "en"
   },
   "outputs": [],
   "source": [
    "# Listing all different months\n",
    "surveys_df['month'].unique()"
   ]
  },
  {
   "cell_type": "code",
   "execution_count": null,
   "id": "3b56833f-bc91-4a5b-95c7-eeab6d6c1c22",
   "metadata": {
    "lang": "en"
   },
   "outputs": [],
   "source": [
    "# Listing all different years\n",
    "surveys_df['year'].unique()"
   ]
  },
  {
   "cell_type": "markdown",
   "id": "6adce2d7-be3f-48cf-a271-0a199818f6d3",
   "metadata": {
    "lang": "en"
   },
   "source": [
    "## Quick & Easy Plotting Data Using Pandas\n",
    "By default:\n",
    "* The `.plot()` method returns an\n",
    "  [Axes object](https://matplotlib.org/stable/api/_as_gen/matplotlib.axes.Axes.html)\n",
    "  from [Matplotlib](https://matplotlib.org/stable/gallery/index.html).\n",
    "* The values in the index of the DataFrame will be along the X axis."
   ]
  },
  {
   "cell_type": "code",
   "execution_count": null,
   "id": "3755c873-962b-4b83-af27-a0e4b24e6846",
   "metadata": {
    "lang": "en,fr",
    "tags": [
     "exer"
    ]
   },
   "outputs": [],
   "source": [
    "#surveys_df['month'] = surveys_df['month'].astype('int64')\n",
    "med = surveys_df.groupby('month')['weight'].median()\n",
    "print(med.index)\n",
    "\n",
    "med.plot(kind='line')"
   ]
  },
  {
   "cell_type": "code",
   "execution_count": null,
   "id": "0283b823-a348-4eaa-a75c-30b6ab427b64",
   "metadata": {
    "lang": "en,fr"
   },
   "outputs": [],
   "source": [
    "sites = surveys_df.groupby('plot_id')['record_id'].count()\n",
    "print(sites.index)\n",
    "\n",
    "sites.plot(kind='bar')"
   ]
  },
  {
   "cell_type": "markdown",
   "id": "628ed8a7-58aa-4716-84b4-d56a17486696",
   "metadata": {
    "lang": "en"
   },
   "source": [
    "Other features of `.plot()` and Matplotlib:\n",
    "* Each column of the DataFrame will have a different color.\n",
    "* Various arguments and methods to configure\n",
    "  the plot title and the names of the axes."
   ]
  },
  {
   "cell_type": "code",
   "execution_count": null,
   "id": "e7f97d4f-e8c2-4ec6-9b16-06dea4bba976",
   "metadata": {
    "lang": "en"
   },
   "outputs": [],
   "source": [
    "species_sex_avg_weight = surveys_df.groupby(\n",
    "    ['species_id', 'sex'])['weight'].mean().unstack()\n",
    "species_sex_avg_weight.head(10)"
   ]
  },
  {
   "cell_type": "code",
   "execution_count": null,
   "id": "ee586b70-8d2d-4217-b43e-786aeba2a6de",
   "metadata": {
    "lang": "en"
   },
   "outputs": [],
   "source": [
    "# Add a title and the axis labels\n",
    "s_plot = species_sex_avg_weight.plot(\n",
    "    kind='bar', title='Average weight by species and sex')\n",
    "s_plot.set_xlabel('Species (Identifier)')\n",
    "s_plot.set_ylabel('Average weight (g)')"
   ]
  },
  {
   "cell_type": "markdown",
   "id": "53dcd900-d931-4b04-8b71-89e599e335c5",
   "metadata": {
    "lang": "en"
   },
   "source": [
    "### Exercises - Create a plot\n",
    "`1`. Generate a line-plot showing the average\n",
    "`hindfoot_length` of each species from one year to the next.\n",
    "Note: records without an `hindfoot_length` are discarded.\n",
    "(4 min.)"
   ]
  },
  {
   "cell_type": "code",
   "execution_count": null,
   "id": "08c3c9f1-820d-4a17-a833-54c9d22053d2",
   "metadata": {
    "lang": "en,fr",
    "tags": [
     "exer"
    ]
   },
   "outputs": [],
   "source": [
    "selection = surveys_df[surveys_df['hindfoot_length'].notna()]\n",
    "\n",
    "selection.groupby(\n",
    "    ###\n",
    ")['hindfoot_length'].mean()###"
   ]
  },
  {
   "cell_type": "markdown",
   "id": "e5ea310b-62d9-422c-9e1c-8985fc33c681",
   "metadata": {
    "lang": "en"
   },
   "source": [
    "`2`. Generate a bar-plot showing the average weight\n",
    "of females and males for each type of genus. (3 min.)"
   ]
  },
  {
   "cell_type": "code",
   "execution_count": null,
   "id": "235142a3-3661-4fb5-aa2d-bf82c4d74667",
   "metadata": {
    "lang": "en"
   },
   "outputs": [],
   "source": [
    "# Inner join with the details about the species\n",
    "species_df = pd.read_csv('../data/species.csv')\n",
    "merged = pd.merge(\n",
    "    left=surveys_df,\n",
    "    right=species_df,\n",
    "    on='species_id'\n",
    ")"
   ]
  },
  {
   "cell_type": "code",
   "execution_count": null,
   "id": "6bed8d64-5290-4730-a4ca-f6a94af5fefa",
   "metadata": {
    "lang": "en",
    "tags": [
     "exer"
    ]
   },
   "outputs": [],
   "source": [
    "# Compute mean values and visualize\n",
    "merged.pivot_table(\n",
    "    aggfunc='mean',\n",
    "    values='weight',\n",
    "    index=###,\n",
    "    columns=###\n",
    ")#.plot(kind=###)"
   ]
  },
  {
   "cell_type": "markdown",
   "id": "3228f480-b18f-4089-ae56-0b89b82cb86a",
   "metadata": {
    "lang": "en"
   },
   "source": [
    "## Technical Summary\n",
    "* **Managing data types**\n",
    "    * For a **DataFrame**:\n",
    "        * Attribute: `dtypes`\n",
    "    * For a **Series** (column):\n",
    "        * Attribute: `dtype`\n",
    "        * Method: `astype()`\n",
    "* **Making a plot from a DataFrame**:\n",
    "    * `df.plot()`, where `df` has one or many columns\n",
    "        * `kind='bar'` (`'line'` plot by default)\n",
    "        * `stacked=True`\n",
    "        * `title=''`\n",
    "    * `plot_object.set_xlabel('')`\n",
    "    * `plot_object.set_ylabel('')`"
   ]
  },
  {
   "cell_type": "code",
   "execution_count": null,
   "id": "0c6afde3-a223-4b67-8678-72d673f8039b",
   "metadata": {},
   "outputs": [],
   "source": []
  }
 ],
 "metadata": {
  "kernelspec": {
   "display_name": "Python 3 (ipykernel)",
   "language": "python",
   "name": "python3"
  },
  "language_info": {
   "codemirror_mode": {
    "name": "ipython",
    "version": 3
   },
   "file_extension": ".py",
   "mimetype": "text/x-python",
   "name": "python",
   "nbconvert_exporter": "python",
   "pygments_lexer": "ipython3",
   "version": "3.11.7"
  }
 },
 "nbformat": 4,
 "nbformat_minor": 5
}
