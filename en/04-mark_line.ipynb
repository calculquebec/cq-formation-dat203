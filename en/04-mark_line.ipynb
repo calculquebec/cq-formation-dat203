{
 "cells": [
  {
   "cell_type": "markdown",
   "id": "29ae2738-d14b-4651-9d4b-67ce35da7ac3",
   "metadata": {
    "lang": "en"
   },
   "source": [
    "# Data Visualization in Python\n",
    "## Plotting time series data\n",
    "\n",
    "Question\n",
    "* How to visualize time series data with line plots?\n",
    "\n",
    "Objective\n",
    "* Create different types of plots."
   ]
  },
  {
   "cell_type": "code",
   "execution_count": null,
   "id": "ace4ab7d-b2d7-42d2-bc7b-d29646f2fd81",
   "metadata": {
    "lang": "en"
   },
   "outputs": [],
   "source": [
    "import pandas as pd\n",
    "\n",
    "# Load the cleaned data\n",
    "surveys_complete = pd.read_csv('../data/surveys_0_NA.csv')\n",
    "surveys_complete"
   ]
  },
  {
   "cell_type": "code",
   "execution_count": null,
   "id": "dcaa744e-e541-4e99-b385-43820d64bbb1",
   "metadata": {
    "lang": "en,fr"
   },
   "outputs": [],
   "source": [
    "import altair as alt\n",
    "alt.data_transformers.disable_max_rows()"
   ]
  },
  {
   "cell_type": "markdown",
   "id": "edb24b16-97a3-4b47-8146-41cc9a9336b5",
   "metadata": {
    "lang": "en"
   },
   "source": [
    "## Plotting time series data\n",
    "* Let’s visualize the number of records per year for each species"
   ]
  },
  {
   "cell_type": "code",
   "execution_count": null,
   "id": "c34f9aa4-ed84-4c02-85e8-dca890636433",
   "metadata": {
    "lang": "en"
   },
   "outputs": [],
   "source": [
    "alt.Chart(surveys_complete).mark_line().encode(\n",
    "    x=alt.X('year').type('ordinal'),\n",
    "    y=alt.Y('count()').scale(type='log', base=2),\n",
    "    color=alt.Color('species_id'),\n",
    ")"
   ]
  },
  {
   "cell_type": "markdown",
   "id": "d0f084a6-c69d-4896-8a7e-796ff77be155",
   "metadata": {
    "lang": "en"
   },
   "source": [
    "* And now, the median weight per month for each species"
   ]
  },
  {
   "cell_type": "code",
   "execution_count": null,
   "id": "b95897bc-7434-4405-8b48-557e38af53c8",
   "metadata": {
    "lang": "en"
   },
   "outputs": [],
   "source": [
    "alt.Chart(surveys_complete).mark_line().encode(\n",
    "    x=alt.X('month').type('ordinal'),\n",
    "    y=alt.Y('weight').aggregate('median'),\n",
    "    color=alt.Color('species_id'),\n",
    "    tooltip=['species_id'],\n",
    ")"
   ]
  },
  {
   "cell_type": "markdown",
   "id": "fec3f053-3465-449d-81dd-dd2dbd5a8c69",
   "metadata": {
    "lang": "en"
   },
   "source": [
    "### Exercise - Plotting time series data\n",
    "`1`. Use the `pd.to_datetime()` function to generate a new\n",
    "`date` column from the columns `year`, `month` and `day`. (3 min.)"
   ]
  },
  {
   "cell_type": "code",
   "execution_count": null,
   "id": "348236bf-aaa5-4f3b-8058-0b024e150bec",
   "metadata": {
    "lang": "en",
    "tags": [
     "exer"
    ]
   },
   "outputs": [],
   "source": [
    "# Decade 1990 - avoid invalid dates April 31 and September 31, 2000\n",
    "dec_1990 = surveys_complete[\n",
    "    surveys_complete['year'].isin(range(1990, 2000))].copy()\n",
    "\n",
    "dec_1990['date'] = ###['year', 'month', 'day']###\n",
    "dec_1990['date']"
   ]
  },
  {
   "cell_type": "markdown",
   "id": "1d77e0e8-0663-4f73-a2a3-10f32ea3337f",
   "metadata": {
    "lang": "en"
   },
   "source": [
    "`2`. Visualize the median weight of each species by the `date`.\n",
    "(3 min.)"
   ]
  },
  {
   "cell_type": "code",
   "execution_count": null,
   "id": "2e3acb45-f733-4c70-94ef-14771a7f50ef",
   "metadata": {
    "lang": "en,fr",
    "tags": [
     "exer"
    ]
   },
   "outputs": [],
   "source": [
    "alt.Chart(###).mark_line().encode(\n",
    "    x=alt.X(###),\n",
    "    y=alt.Y('weight').###('median'),\n",
    "    color=alt.Color('species_id'),\n",
    "    tooltip=['species_id', 'date'],\n",
    ")"
   ]
  },
  {
   "cell_type": "markdown",
   "id": "d9cf858b-cf70-44f3-962e-016144764737",
   "metadata": {
    "lang": "en"
   },
   "source": [
    "## Key points\n",
    "* **Creating a column of dates**\n",
    "  * `df['date'] = pd.to_datetime(df[['year', 'month', 'day']])`\n",
    "* **Choosing a type of chart**\n",
    "  * `chart.mark_line()`\n",
    "* **Assigning data fields to encoding channels**:\n",
    "  * `chart.encode(...)`\n",
    "  * Encoding channels:\n",
    "    * `y=alt.Y('count()')`\n",
    "    * `y=alt.Y('field_for_Y').aggregate(...)`,\n",
    "      with either `'mean'`, `'median'`, etc."
   ]
  },
  {
   "cell_type": "code",
   "execution_count": null,
   "id": "05a0cce3-2c10-4e4b-a1c5-4e97ac075a09",
   "metadata": {},
   "outputs": [],
   "source": []
  }
 ],
 "metadata": {
  "kernelspec": {
   "display_name": "Python 3 (ipykernel)",
   "language": "python",
   "name": "python3"
  },
  "language_info": {
   "codemirror_mode": {
    "name": "ipython",
    "version": 3
   },
   "file_extension": ".py",
   "mimetype": "text/x-python",
   "name": "python",
   "nbconvert_exporter": "python",
   "pygments_lexer": "ipython3",
   "version": "3.11.7"
  }
 },
 "nbformat": 4,
 "nbformat_minor": 5
}
