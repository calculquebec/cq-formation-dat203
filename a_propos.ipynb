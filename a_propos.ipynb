{
 "cells": [
  {
   "cell_type": "markdown",
   "metadata": {},
   "source": [
    "# Visualisation de données en Python"
   ]
  },
  {
   "cell_type": "markdown",
   "metadata": {},
   "source": [
    "## À propos\n",
    "\n",
    "* Cet atelier est basé sur le tutoriel\n",
    "  [Data Carpentry - *Data Analysis and Visualization in Python for Ecologists*](https://datacarpentry.org/python-ecology-lesson/).\n",
    "  * Puisque les différentes techniques d'analyse\n",
    "    de données ont été vues dans l'atelier\n",
    "    [*DAT201 - Analyse de données en Python*](https://github.com/calculquebec/cq-formation-dat201),\n",
    "    le présent matériel couvre essentiellement\n",
    "    les exemples de visualisation.\n",
    "* Les *notebooks* IPython du présent\n",
    "  atelier et les données associées sont\n",
    "  [publiés sur GitHub](https://github.com/calculquebec/cq-formation-dat203)."
   ]
  },
  {
   "cell_type": "markdown",
   "metadata": {},
   "source": [
    "### Table des matières\n",
    "\n",
    "1. [Visualisation avec Pandas et Matplotlib](fr/01-matplotlib.ipynb)\n",
    "2. [Introduction à Altair](fr/02-altair.ipynb)\n",
    "3. [Construire un graphique par étapes](fr/03-ggaltair.ipynb)\n",
    "4. [Visualiser des séries temporelles](fr/04-mark_line.ipynb)\n",
    "5. [Création de facettes](fr/05-facet.ipynb)\n",
    "6. [Visualiser des distributions](fr/06-distributions.ipynb)"
   ]
  },
  {
   "cell_type": "markdown",
   "metadata": {},
   "source": [
    "### Comment utiliser l'interface Jupyter\n",
    "Lorsqu'une cellule est en **mode édition** :\n",
    "\n",
    "  Raccourci | Description\n",
    "----------- | -----------\n",
    "MAJ+Entrée  | Exécuter une cellule et aller à la suivante\n",
    "Entrée      | Insérer un saut de ligne\n",
    "Tab         | Indenter le code ou autocomplétion\n",
    "Échap       | Aller en **mode commande**\n",
    "\n",
    "Lorsqu'une cellule est en **mode commande** :\n",
    "\n",
    "  Raccourci | Description\n",
    "----------- | -----------\n",
    "MAJ+Entrée  | Exécuter une cellule et aller à la suivante\n",
    "Entrée      | Aller en **mode édition**\n",
    "A           | Insérer une cellule en haut\n",
    "B           | Insérer une cellule en bas\n",
    "C           | Copier la cellule\n",
    "V           | Coller la cellule en bas\n",
    "D D         | Supprimer la cellule\n",
    "M           | Changer la cellule en code Markdown\n",
    "Y           | Changer la cellule en code Python\n",
    "\n",
    "Pour réinitialiser toutes les cellules :\n",
    "* Aller dans le menu du haut et sélectionner\n",
    "  Kernel -> Restart & Clear Output"
   ]
  },
  {
   "cell_type": "code",
   "execution_count": null,
   "metadata": {},
   "outputs": [],
   "source": [
    "1 + 2  # Faites Maj+Entrée pour exécuter cette cellule"
   ]
  },
  {
   "cell_type": "markdown",
   "metadata": {},
   "source": [
    "### À propos des données tabulaires\n",
    "\n",
    "Voici un peu de vocabulaire à propos des données tabulaires :\n",
    "\n",
    "* **Colonne de données** : une des variables observées\n",
    "* **Ligne de données** : une observation ou enregistrement\n",
    "* **Index** : liste d'identifiants uniques pour les lignes"
   ]
  },
  {
   "cell_type": "markdown",
   "metadata": {},
   "source": [
    "### Les données utilisées\n",
    "\n",
    "Pour le présent atelier, nous utiliserons un sous-ensemble des données du\n",
    "[*Portal Project Teaching Database*](https://figshare.com/articles/Portal_Project_Teaching_Database/1314459).\n",
    "En effet, notre fichier [`data/surveys.csv`](data/surveys.csv)\n",
    "est une version simplifiée du\n",
    "[fichier original](https://ndownloader.figshare.com/files/2292172).\n",
    "\n",
    "La cellule suivante permet d'avoir un aperçu des données CSV :"
   ]
  },
  {
   "cell_type": "code",
   "execution_count": null,
   "metadata": {},
   "outputs": [],
   "source": [
    "!head data/surveys.csv"
   ]
  },
  {
   "cell_type": "markdown",
   "metadata": {},
   "source": [
    " Colonne          | Description\n",
    "----------------- | -----------\n",
    "`record_id`       | Identifiant unique de l'enregistrement\n",
    "`month`           | Mois de l'enregistrement\n",
    "`day`             | Jour de l'enregistrement\n",
    "`year`            | Année de l'enregistrement\n",
    "`plot_id`         | Identifiant du site\n",
    "`species_id`      | Identifiant de l'espèce, encodé avec deux lettres\n",
    "`sex`             | Sexe de l'animal (\"F\", \"M\")\n",
    "`hindfoot_length` | Longueur de l'arrière-pied (mm)\n",
    "`weight`          | Poids de l'animal (g)"
   ]
  },
  {
   "cell_type": "markdown",
   "metadata": {},
   "source": [
    "Avec ce fichier de données, nous allons étudier les caractéristiques de\n",
    "différentes espèces animales vues dans différents sites de la zone de recherche.\n",
    "Chaque enregistrement dans ce fichier CSV contient l'information d'un seul animal observé.\n",
    "\n",
    "Le détail des différentes espèces est ensuite donné dans le fichier\n",
    "[`data/species.csv`](data/species.csv).\n",
    "La cellule suivante permet d'avoir un aperçu de ces espèces :"
   ]
  },
  {
   "cell_type": "code",
   "execution_count": null,
   "metadata": {},
   "outputs": [],
   "source": [
    "!head data/species.csv"
   ]
  },
  {
   "cell_type": "markdown",
   "metadata": {},
   "source": [
    " Colonne     | Description\n",
    "------------ | -----------\n",
    "`species_id` | Identifiant de l'espèce, encodé avec deux lettres\n",
    "`genus`      | Genre d'espèce\n",
    "`species`    | Nom latin de l'espèce\n",
    "`taxa`       | Taxon (famille) de l'espèce"
   ]
  },
  {
   "cell_type": "markdown",
   "metadata": {},
   "source": [
    "Référence : Ernst *et al*,\n",
    "[Long-term monitoring and experimental manipulation of a Chihuahuan Desert ecosystem near Portal, Arizona, USA](https://esapubs.org/archive/ecol/E090/118/)"
   ]
  },
  {
   "cell_type": "markdown",
   "metadata": {},
   "source": [
    "### Références\n",
    "Modules Python :\n",
    "* [`pandas`](https://pandas.pydata.org/docs/reference/index.html)\n",
    "* [`altair`](https://altair-viz.github.io/index.html),\n",
    "  grammaire [Vega-Lite](https://vega.github.io/vega-lite/)\n",
    "  des graphiques interactifs\n",
    "* Autres modules de visualisation :\n",
    "  * [`plotnine`](https://plotnine.org)\n",
    "  * [`seaborn`](https://seaborn.pydata.org/)\n",
    "  * [`bokeh`](https://docs.bokeh.org/en/latest/)\n",
    "    et [`plotly`](https://plotly.com/python/)\n",
    "    pour des graphiques interactifs en page Web\n",
    "\n",
    "Outils d'édition de codes Python :\n",
    "* Via [JupyterLab](https://docs.alliancecan.ca/wiki/Jupyter/fr#JupyterLab)\n",
    "* L'éditeur [Spyder](https://www.spyder-ide.org)\n",
    "* [Visual Studio Code](https://code.visualstudio.com)\n",
    "\n",
    "Formation :\n",
    "* Les prochains ateliers à\n",
    "  [Calcul Québec](https://www.eventbrite.ca/o/calcul-quebec-8295332683)\n",
    "  et à\n",
    "  [l'Alliance de recherche numérique du Canada](https://explora.alliancecan.ca/)\n",
    "* Tutoriels en ligne [Software Carpentry](https://software-carpentry.org/lessons/)\n",
    "  et [Data Carpentry](https://datacarpentry.org/lessons/) :\n",
    "  * [Introduction à la ligne de commande Bash](https://swcarpentry.github.io/shell-novice/)\n",
    "  * [Introduction à la programmation en Python](https://swcarpentry.github.io/python-novice-inflammation/)\n",
    "  * [Nettoyage des données avec OpenRefine](https://datacarpentry.org/OpenRefine-ecology-lesson/)\n",
    "  * [Gestion de données avec SQL](https://datacarpentry.org/sql-ecology-lesson/)\n",
    "  * [Analyse de données et visualisation en R](https://datacarpentry.org/R-ecology-lesson/)"
   ]
  },
  {
   "cell_type": "code",
   "execution_count": null,
   "metadata": {},
   "outputs": [],
   "source": []
  }
 ],
 "metadata": {
  "kernelspec": {
   "display_name": "Python 3 (ipykernel)",
   "language": "python",
   "name": "python3"
  },
  "language_info": {
   "codemirror_mode": {
    "name": "ipython",
    "version": 3
   },
   "file_extension": ".py",
   "mimetype": "text/x-python",
   "name": "python",
   "nbconvert_exporter": "python",
   "pygments_lexer": "ipython3",
   "version": "3.11.7"
  }
 },
 "nbformat": 4,
 "nbformat_minor": 4
}
